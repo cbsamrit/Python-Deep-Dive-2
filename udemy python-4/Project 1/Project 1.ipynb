{
 "cells": [
  {
   "cell_type": "code",
   "execution_count": 11,
   "metadata": {},
   "outputs": [],
   "source": [
    "import numbers\n",
    "from datetime import *\n",
    "class Timezone :\n",
    "    def __init__ (self , name , offset_hours , offset_minutes ) :\n",
    "         \n",
    "         if name is None or len(name.strip())==0:\n",
    "              raise ValueError('Timezone name cannot be empty.')\n",
    "         \n",
    "         self._name=name.strip()\n",
    "\n",
    "         if not isinstance(offset_hours,numbers.Integral) :\n",
    "              raise ValueError('Hour offset must be an integer.')\n",
    "         \n",
    "         if not isinstance(offset_minutes,numbers.Integral) :\n",
    "              raise ValueError('Minutes offset must be an integer.')\n",
    "         \n",
    "         if offset_hours < -59 and offset_hours > 59 :\n",
    "              raise ValueError('Minutes offset must between -59 and 59 (inclusive).')\n",
    "         \n",
    "         offset=timedelta(hours=offset_hours , minutes=offset_minutes) \n",
    "\n",
    "         if offset < timedelta(hours= -12, minutes=0) and offset > timedelta(hours=14 , minutes=0) :\n",
    "              raise ValueError('Offset must be between -12:00 and +14:00.')\n",
    "         \n",
    "         self._offset_hours=offset_hours\n",
    "         self._offset_minutes=offset_minutes\n",
    "         self._offset=offset\n",
    "\n",
    "    def __eq__ (self , other ) :\n",
    "              \n",
    "              return isinstance(other , Timezone)  and ( self._name == other._name and\n",
    "                                                    self._offset_hours == other._offset_hours and\n",
    "                                                    self._offset_minutes == other._offset_minutes)\n",
    "         \n",
    "\n",
    "    def __repr__(self , other) :\n",
    "              \n",
    "              return (f\"TimeZone(name='{self.name}', \"\n",
    "                f\"offset_hours={self._offset_hours}, \"\n",
    "                f\"offset_minutes={self._offset_minutes})\")\n",
    "              "
   ]
  },
  {
   "cell_type": "code",
   "execution_count": 13,
   "metadata": {},
   "outputs": [],
   "source": [
    "from datetime import *\n",
    "class Account :\n",
    "    trancation_id=0\n",
    "\n",
    "    def __init__(self,account_no,name,sirname, timezone=None, initial_balance=0) :\n",
    "\n",
    "        self._account_no=account_no\n",
    "        self._first_name=name\n",
    "        self._last_name=sirname\n",
    "        self._balance=0\n",
    "\n",
    "        if timezone==None :    \n",
    "              timezone=Timezone('UTC',0,0)\n",
    "\n",
    "        self.timezone=timezone\n",
    "        self._balance=float(initial_balance)\n",
    "    \n",
    "    @property\n",
    "    def account_no(self):\n",
    "         return self._account_no\n",
    "\n",
    "    @property\n",
    "    def first_name(self):\n",
    "         return self._first_name\n",
    "    \n",
    "    @first_name.setter\n",
    "    def first_name(self,value):\n",
    "         self.validate_and_set_name('_first_name', value, 'First Name')\n",
    "\n",
    "    @property\n",
    "    def last_name(self):\n",
    "         return self._last_name\n",
    "    \n",
    "    @last_name.setter\n",
    "    def last_name(self,value) :\n",
    "        self.validate_and_set_name('_first_name', value, 'First Name')\n",
    "\n",
    "    @property\n",
    "    def full_name(self):\n",
    "         return self._first_name + self.last_name \n",
    "\n",
    "    @property\n",
    "    def timezone(self) :\n",
    "         return self._timezone\n",
    "\n",
    "    @timezone.setter    \n",
    "    def timezone(self, value) :\n",
    "         if not isinstance(value , Timezone ):\n",
    "              raise ValueError('Time zone must be a valid TimeZone object.')\n",
    "         self._timezone=value \n",
    "    \n",
    "    @property\n",
    "    def balance(self) :\n",
    "         return self._balance\n",
    "\n",
    "    def validate_and_set_name(self, property_name, value, field_title):\n",
    "        if value is None or len(str(value).strip()) == 0:\n",
    "            raise ValueError(f'{field_title} cannot be empty.')\n",
    "        setattr(self, property_name, value)   "
   ]
  },
  {
   "cell_type": "code",
   "execution_count": 14,
   "metadata": {},
   "outputs": [
    {
     "name": "stdout",
     "output_type": "stream",
     "text": [
      "100.0\n"
     ]
    }
   ],
   "source": [
    "a = Account('1234', 'John', 'Cleese', initial_balance=100)\n",
    "print(a.balance)"
   ]
  },
  {
   "cell_type": "code",
   "execution_count": null,
   "metadata": {},
   "outputs": [],
   "source": []
  }
 ],
 "metadata": {
  "kernelspec": {
   "display_name": "Python 3",
   "language": "python",
   "name": "python3"
  },
  "language_info": {
   "codemirror_mode": {
    "name": "ipython",
    "version": 3
   },
   "file_extension": ".py",
   "mimetype": "text/x-python",
   "name": "python",
   "nbconvert_exporter": "python",
   "pygments_lexer": "ipython3",
   "version": "3.10.4"
  },
  "orig_nbformat": 4
 },
 "nbformat": 4,
 "nbformat_minor": 2
}
