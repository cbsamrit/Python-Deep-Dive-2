{
 "cells": [
  {
   "cell_type": "code",
   "execution_count": 4,
   "metadata": {},
   "outputs": [],
   "source": [
    "from math import pi\n",
    "\n",
    "class Circle :\n",
    "\n",
    "    def __init__(self,r) -> None:\n",
    "        self.r=r\n",
    "    \n",
    "    @property\n",
    "    def area(self):\n",
    "        return pi * self.r**2\n"
   ]
  },
  {
   "cell_type": "code",
   "execution_count": 5,
   "metadata": {},
   "outputs": [],
   "source": [
    "o1=Circle(2)"
   ]
  },
  {
   "cell_type": "code",
   "execution_count": 6,
   "metadata": {},
   "outputs": [
    {
     "data": {
      "text/plain": [
       "12.566370614359172"
      ]
     },
     "execution_count": 6,
     "metadata": {},
     "output_type": "execute_result"
    }
   ],
   "source": [
    "o1.area"
   ]
  },
  {
   "cell_type": "code",
   "execution_count": 8,
   "metadata": {},
   "outputs": [
    {
     "data": {
      "text/plain": [
       "28.274333882308138"
      ]
     },
     "execution_count": 8,
     "metadata": {},
     "output_type": "execute_result"
    }
   ],
   "source": [
    "o1.r=3\n",
    "o1.area"
   ]
  },
  {
   "cell_type": "code",
   "execution_count": 29,
   "metadata": {},
   "outputs": [],
   "source": [
    "from math import pi\n",
    "\n",
    "class Circle :\n",
    "\n",
    "    def __init__(self,r) -> None:\n",
    "        self._radius=r\n",
    "        self._area=None\n",
    "    \n",
    "    @property\n",
    "    def radius(self):\n",
    "       return  self._radius\n",
    "\n",
    "    @radius.setter\n",
    "    def radius(self,r):\n",
    "        self._area=None\n",
    "        if r <0:\n",
    "          raise ValueError\n",
    "        else:\n",
    "           self._radius=r\n",
    "        \n",
    "\n",
    "    @property\n",
    "    def area(self):\n",
    "        if not self._area :\n",
    "          self._area = pi * self._radius**2\n",
    "        \n",
    "        return self._area  \n"
   ]
  },
  {
   "cell_type": "code",
   "execution_count": 30,
   "metadata": {},
   "outputs": [],
   "source": [
    "o1=Circle(2)"
   ]
  },
  {
   "cell_type": "code",
   "execution_count": 31,
   "metadata": {},
   "outputs": [
    {
     "data": {
      "text/plain": [
       "2"
      ]
     },
     "execution_count": 31,
     "metadata": {},
     "output_type": "execute_result"
    }
   ],
   "source": [
    "o1.radius"
   ]
  },
  {
   "cell_type": "code",
   "execution_count": 32,
   "metadata": {},
   "outputs": [
    {
     "data": {
      "text/plain": [
       "12.566370614359172"
      ]
     },
     "execution_count": 32,
     "metadata": {},
     "output_type": "execute_result"
    }
   ],
   "source": [
    "o1.area"
   ]
  },
  {
   "cell_type": "code",
   "execution_count": 33,
   "metadata": {},
   "outputs": [],
   "source": [
    "o1.radius=3"
   ]
  },
  {
   "cell_type": "code",
   "execution_count": 34,
   "metadata": {},
   "outputs": [
    {
     "data": {
      "text/plain": [
       "28.274333882308138"
      ]
     },
     "execution_count": 34,
     "metadata": {},
     "output_type": "execute_result"
    }
   ],
   "source": [
    "o1.area"
   ]
  },
  {
   "cell_type": "code",
   "execution_count": 6,
   "metadata": {},
   "outputs": [],
   "source": [
    "import urllib\n",
    "from time import perf_counter"
   ]
  },
  {
   "cell_type": "code",
   "execution_count": 62,
   "metadata": {},
   "outputs": [],
   "source": [
    "class Webpage :\n",
    "\n",
    "    def __init__(self,url):\n",
    "     self.url=url\n",
    "     self._page=None\n",
    "     self._load_time_sec=None\n",
    "     self._page_size=None\n",
    "    \n",
    "    @property\n",
    "    def url(self):\n",
    "       return self._url\n",
    "\n",
    "    @url.setter\n",
    "    def url(self,url):\n",
    "       self._page=None\n",
    "       self._load_time_sec=None\n",
    "       self._page_size=None\n",
    "       self._url=url \n",
    "\n",
    "    @property\n",
    "    def page(self):\n",
    "       if not self._page :\n",
    "          self.download_page()\n",
    "      \n",
    "       return self._page\n",
    "       \n",
    "    @property\n",
    "    def load_time_sec(self):\n",
    "      \n",
    "       if not self._page :\n",
    "          self.download_page()\n",
    "       \n",
    "       return self._load_time_sec\n",
    "       \n",
    "    @property\n",
    "    def page_size(self):\n",
    "       if not self._page_size:\n",
    "           self.download_page()\n",
    "\n",
    "       return self._page_size\n",
    "\n",
    "\n",
    "    def download_page(self):\n",
    "       \n",
    "       self._page_size = None\n",
    "       self._load_time_secs = None \n",
    "       start_time=perf_counter()\n",
    "       with urllib.request.urlopen(self.url) as f :\n",
    "           self._page=f.read()\n",
    "       end_time=perf_counter()\n",
    "       self._load_time_sec=end_time-start_time\n",
    "       self._page_size=len(self._page)   "
   ]
  },
  {
   "cell_type": "code",
   "execution_count": 63,
   "metadata": {},
   "outputs": [],
   "source": [
    "o1=Webpage('https://www.google.com')"
   ]
  },
  {
   "cell_type": "code",
   "execution_count": 64,
   "metadata": {},
   "outputs": [
    {
     "data": {
      "text/plain": [
       "1.3994106000027386"
      ]
     },
     "execution_count": 64,
     "metadata": {},
     "output_type": "execute_result"
    }
   ],
   "source": [
    "o1.load_time_sec"
   ]
  },
  {
   "cell_type": "code",
   "execution_count": 65,
   "metadata": {},
   "outputs": [
    {
     "data": {
      "text/plain": [
       "17518"
      ]
     },
     "execution_count": 65,
     "metadata": {},
     "output_type": "execute_result"
    }
   ],
   "source": [
    "o1.page_size"
   ]
  }
 ],
 "metadata": {
  "kernelspec": {
   "display_name": "Python 3",
   "language": "python",
   "name": "python3"
  },
  "language_info": {
   "codemirror_mode": {
    "name": "ipython",
    "version": 3
   },
   "file_extension": ".py",
   "mimetype": "text/x-python",
   "name": "python",
   "nbconvert_exporter": "python",
   "pygments_lexer": "ipython3",
   "version": "3.10.4"
  },
  "orig_nbformat": 4
 },
 "nbformat": 4,
 "nbformat_minor": 2
}
