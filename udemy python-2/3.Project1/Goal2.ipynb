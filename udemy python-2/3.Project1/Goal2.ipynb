{
 "cells": [
  {
   "cell_type": "code",
   "execution_count": 1,
   "metadata": {},
   "outputs": [],
   "source": [
    "import math \n",
    "\n",
    "\n",
    "class Polygon :\n",
    "\n",
    "    def __init__(self,n,r):\n",
    "        if n<3 :\n",
    "            raise ValueError('Polygon must have at least 3 sides')\n",
    "        else :\n",
    "         self.n=n\n",
    "         self.r=r\n",
    "\n",
    "    @property\n",
    "    def edges(self) :\n",
    "        return self.n\n",
    "    \n",
    "    @property\n",
    "    def vertices(self) :\n",
    "        return self.n\n",
    "    \n",
    "    @property\n",
    "    def interial_angle(self) :\n",
    "        return (self.n-2)*(180/self.n)\n",
    "    \n",
    "    @property\n",
    "    def  edges_length(self) :\n",
    "        return 2*self.r*(math.sin(math.pi/self.n))\n",
    "    \n",
    "    @property\n",
    "    def apothem(self) :\n",
    "        return self.r*(math.cos(math.pi/self.n))\n",
    "    \n",
    "    @property\n",
    "    def area(self) :\n",
    "        return (self.n*self.edges_length*self.apothem)/2\n",
    "    \n",
    "    @property\n",
    "    def perimeter(self) :\n",
    "        return  self.n*self.edges_length\n",
    "    \n",
    "    def __repr__(self) :\n",
    "        return f'Polygon(n={self.n}, r={self.r})'\n",
    "       \n",
    "\n",
    "    def __eq__(self,other) :\n",
    "       return self.vertices==other.vertices and self.r==other.r\n",
    "    \n",
    "    def __gt__(self,other) :\n",
    "        return self.n >other.vertices\n",
    "    \n",
    "\n",
    "          "
   ]
  },
  {
   "cell_type": "code",
   "execution_count": 5,
   "metadata": {},
   "outputs": [],
   "source": [
    "class Polygons :\n",
    "\n",
    "    def __init__(self,m,r) :\n",
    "       if m <3 :\n",
    "         raise ValueError('m must be greater than 3')\n",
    "       else :  \n",
    "        self.m=m\n",
    "        self.r=r\n",
    "        self.polygons=[ Polygon(i,r) for i in range(3,m+1)]\n",
    "\n",
    "    def __len__(self) :\n",
    "\n",
    "        return len(self.polygons)\n",
    "\n",
    "    def __getitem__(self,s) :\n",
    "\n",
    "        return self.polygons[s] \n",
    "    \n",
    "       \n",
    "        "
   ]
  },
  {
   "cell_type": "code",
   "execution_count": 9,
   "metadata": {},
   "outputs": [],
   "source": [
    "k=Polygons(9,1)\n"
   ]
  },
  {
   "cell_type": "code",
   "execution_count": 10,
   "metadata": {},
   "outputs": [
    {
     "name": "stdout",
     "output_type": "stream",
     "text": [
      "Polygon(n=3, r=1)\n",
      "Polygon(n=4, r=1)\n",
      "Polygon(n=5, r=1)\n",
      "Polygon(n=6, r=1)\n",
      "Polygon(n=7, r=1)\n",
      "Polygon(n=8, r=1)\n",
      "Polygon(n=9, r=1)\n"
     ]
    }
   ],
   "source": [
    "for i in k :\n",
    "    print(i)"
   ]
  },
  {
   "cell_type": "code",
   "execution_count": 11,
   "metadata": {},
   "outputs": [
    {
     "name": "stdout",
     "output_type": "stream",
     "text": [
      "Polygon(n=9, r=1)\n",
      "Polygon(n=8, r=1)\n",
      "Polygon(n=7, r=1)\n",
      "Polygon(n=6, r=1)\n",
      "Polygon(n=5, r=1)\n",
      "Polygon(n=4, r=1)\n",
      "Polygon(n=3, r=1)\n"
     ]
    }
   ],
   "source": [
    "for i in reversed(k) :\n",
    "    print(i)\n"
   ]
  },
  {
   "cell_type": "code",
   "execution_count": 12,
   "metadata": {},
   "outputs": [],
   "source": [
    "class Polygons :\n",
    "\n",
    "    def __init__(self,m,r) :\n",
    "       if m <3 :\n",
    "         raise ValueError('m must be greater than 3')\n",
    "       else :  \n",
    "        self.m=m\n",
    "        self.r=r\n",
    "        self.polygons=[ Polygon(i,r) for i in range(3,m+1)]\n",
    "\n",
    "    def __len__(self) :\n",
    "\n",
    "        return len(self.polygons)\n",
    "\n",
    "    def __getitem__(self,s) :\n",
    "\n",
    "        return self.polygons[s] \n",
    "    \n",
    "       \n",
    "    @property\n",
    "    def max_efficiency_polygon(self) :\n",
    "        sorted_polygon=sorted(self.polygons,key= lambda p : p.area / p.perimeter ,reverse=True)  \n",
    "\n",
    "        return sorted_polygon[0]"
   ]
  },
  {
   "cell_type": "code",
   "execution_count": 15,
   "metadata": {},
   "outputs": [
    {
     "name": "stdout",
     "output_type": "stream",
     "text": [
      "Polygon(n=3, r=1)\n",
      "Polygon(n=4, r=1)\n",
      "Polygon(n=5, r=1)\n",
      "Polygon(n=6, r=1)\n",
      "Polygon(n=7, r=1)\n",
      "Polygon(n=8, r=1)\n",
      "Polygon(n=9, r=1)\n",
      "Polygon(n=10, r=1)\n"
     ]
    }
   ],
   "source": [
    "k=Polygons(10,1)\n",
    "for i in k :\n",
    "    print(i)"
   ]
  },
  {
   "cell_type": "code",
   "execution_count": 16,
   "metadata": {},
   "outputs": [
    {
     "data": {
      "text/plain": [
       "Polygon(n=10, r=1)"
      ]
     },
     "execution_count": 16,
     "metadata": {},
     "output_type": "execute_result"
    }
   ],
   "source": [
    "k.max_efficiency_polygon"
   ]
  },
  {
   "cell_type": "code",
   "execution_count": 17,
   "metadata": {},
   "outputs": [],
   "source": [
    "k=Polygons(500,1)"
   ]
  },
  {
   "cell_type": "code",
   "execution_count": 18,
   "metadata": {},
   "outputs": [
    {
     "data": {
      "text/plain": [
       "3.1415099708381518"
      ]
     },
     "execution_count": 18,
     "metadata": {},
     "output_type": "execute_result"
    }
   ],
   "source": [
    "k[-1].area"
   ]
  }
 ],
 "metadata": {
  "kernelspec": {
   "display_name": "Python 3",
   "language": "python",
   "name": "python3"
  },
  "language_info": {
   "codemirror_mode": {
    "name": "ipython",
    "version": 3
   },
   "file_extension": ".py",
   "mimetype": "text/x-python",
   "name": "python",
   "nbconvert_exporter": "python",
   "pygments_lexer": "ipython3",
   "version": "3.10.4"
  },
  "orig_nbformat": 4
 },
 "nbformat": 4,
 "nbformat_minor": 2
}
