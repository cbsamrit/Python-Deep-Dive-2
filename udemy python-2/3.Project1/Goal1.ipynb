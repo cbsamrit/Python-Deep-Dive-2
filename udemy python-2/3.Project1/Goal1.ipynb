{
 "cells": [
  {
   "cell_type": "code",
   "execution_count": 48,
   "metadata": {},
   "outputs": [],
   "source": [
    "import math \n",
    "\n",
    "\n",
    "class Polygon :\n",
    "\n",
    "    def __init__(self,n,r):\n",
    "\n",
    "        self.n=n\n",
    "        self.r=r\n",
    "\n",
    "    @property\n",
    "    def edges(self) :\n",
    "        return self.n\n",
    "    \n",
    "    @property\n",
    "    def vertices(self) :\n",
    "        return self.n\n",
    "    \n",
    "    @property\n",
    "    def interial_angle(self) :\n",
    "        return (self.n-2)*(100/self.n)\n",
    "    \n",
    "    @property\n",
    "    def  edges_length(self) :\n",
    "        return 2*self.r*(math.sin(math.pi/self.n))\n",
    "    \n",
    "    @property\n",
    "    def apothem(self) :\n",
    "        return self.r*(math.cos(math.pi/self.n))\n",
    "    \n",
    "    @property\n",
    "    def area(self) :\n",
    "        return (self.n*self.edges_length*self.apothem)/2\n",
    "    \n",
    "    @property\n",
    "    def perimeter(self) :\n",
    "        return  self.n*self.edges_length\n",
    "    \n",
    "    def __repr__(self) :\n",
    "        return f'Polygon(n={self.n}, r={self.r})'\n",
    "       \n",
    "#        return (f'''edges and vertices are {self.n}\n",
    "# interial angle is {self.interial_angle}\n",
    "# edges length is {self.edges_length}\n",
    "# apothem  is {self.apothem}\n",
    "# area is {self.area}\n",
    "# perimeter is {self.perimeter}''')\n",
    "\n",
    "    def __eq__(self,other) :\n",
    "       return self.vertices==other.vertices and self.r==other.r\n",
    "    \n",
    "    def __gt__(self,other) :\n",
    "        return self.n >other.vertices\n",
    "    \n",
    "\n",
    "          "
   ]
  },
  {
   "cell_type": "code",
   "execution_count": 35,
   "metadata": {},
   "outputs": [],
   "source": [
    "p1=Polygon(5,12)"
   ]
  },
  {
   "cell_type": "code",
   "execution_count": 17,
   "metadata": {},
   "outputs": [
    {
     "name": "stdout",
     "output_type": "stream",
     "text": [
      "edges and vertices are 5\n",
      "interial angle is 60.0\n",
      "edges length is 14.106846055019355\n",
      "apothem  is 9.70820393249937\n",
      "area is 342.3803458662553\n",
      "perimeter is 70.53423027509677\n"
     ]
    }
   ],
   "source": [
    "print(p1)"
   ]
  },
  {
   "cell_type": "code",
   "execution_count": 18,
   "metadata": {},
   "outputs": [],
   "source": [
    "p2=Polygon(5,12)\n"
   ]
  },
  {
   "cell_type": "code",
   "execution_count": 19,
   "metadata": {},
   "outputs": [
    {
     "name": "stdout",
     "output_type": "stream",
     "text": [
      "edges and vertices are 5\n",
      "interial angle is 60.0\n",
      "edges length is 14.106846055019355\n",
      "apothem  is 9.70820393249937\n",
      "area is 342.3803458662553\n",
      "perimeter is 70.53423027509677\n"
     ]
    }
   ],
   "source": [
    "print(p2)"
   ]
  },
  {
   "cell_type": "code",
   "execution_count": 20,
   "metadata": {},
   "outputs": [
    {
     "name": "stdout",
     "output_type": "stream",
     "text": [
      "True\n"
     ]
    }
   ],
   "source": [
    "print(p1==p2)"
   ]
  },
  {
   "cell_type": "code",
   "execution_count": 23,
   "metadata": {},
   "outputs": [],
   "source": [
    "p3=Polygon(6,12)"
   ]
  },
  {
   "cell_type": "code",
   "execution_count": 24,
   "metadata": {},
   "outputs": [
    {
     "name": "stdout",
     "output_type": "stream",
     "text": [
      "edges and vertices are 6\n",
      "interial angle is 66.66666666666667\n",
      "edges length is 11.999999999999998\n",
      "apothem  is 10.392304845413264\n",
      "area is 374.12297443487745\n",
      "perimeter is 71.99999999999999\n"
     ]
    }
   ],
   "source": [
    "print(p3)"
   ]
  },
  {
   "cell_type": "code",
   "execution_count": 25,
   "metadata": {},
   "outputs": [
    {
     "name": "stdout",
     "output_type": "stream",
     "text": [
      "False\n"
     ]
    }
   ],
   "source": [
    "print(p1==p3)"
   ]
  },
  {
   "cell_type": "code",
   "execution_count": 26,
   "metadata": {},
   "outputs": [
    {
     "name": "stdout",
     "output_type": "stream",
     "text": [
      "False\n"
     ]
    }
   ],
   "source": [
    "print(p1>p3)"
   ]
  },
  {
   "cell_type": "code",
   "execution_count": 27,
   "metadata": {},
   "outputs": [
    {
     "name": "stdout",
     "output_type": "stream",
     "text": [
      "True\n"
     ]
    }
   ],
   "source": [
    "print(p3>p1)"
   ]
  },
  {
   "cell_type": "code",
   "execution_count": 51,
   "metadata": {},
   "outputs": [],
   "source": [
    "assert 10 >1 , '1 is not greater than 10'"
   ]
  },
  {
   "cell_type": "code",
   "execution_count": 17,
   "metadata": {},
   "outputs": [],
   "source": [
    "import math \n",
    "\n",
    "\n",
    "class Polygon :\n",
    "\n",
    "    def __init__(self,n,r):\n",
    "\n",
    "        self.n=n\n",
    "        self.r=r\n",
    "\n",
    "    @property\n",
    "    def edges(self) :\n",
    "        return self.n\n",
    "    \n",
    "    @property\n",
    "    def vertices(self) :\n",
    "        return self.n\n",
    "    \n",
    "    @property\n",
    "    def interial_angle(self) :\n",
    "        return (self.n-2)*(180/self.n)\n",
    "    \n",
    "    @property\n",
    "    def  edges_length(self) :\n",
    "        return 2*self.r*(math.sin(math.pi/self.n))\n",
    "    \n",
    "    @property\n",
    "    def apothem(self) :\n",
    "        return self.r*(math.cos(math.pi/self.n))\n",
    "    \n",
    "    @property\n",
    "    def area(self) :\n",
    "        return (self.n*self.edges_length*self.apothem)/2\n",
    "    \n",
    "    @property\n",
    "    def perimeter(self) :\n",
    "        return  self.n*self.edges_length\n",
    "    \n",
    "    def __repr__(self) :\n",
    "        return f'Polygon(n={self.n}, r={self.r})'\n",
    "       \n",
    "#        return (f'''edges and vertices are {self.n}\n",
    "# interial angle is {self.interial_angle}\n",
    "# edges length is {self.edges_length}\n",
    "# apothem  is {self.apothem}\n",
    "# area is {self.area}\n",
    "# perimeter is {self.perimeter}''')\n",
    "\n",
    "    def __eq__(self,other) :\n",
    "       return self.vertices==other.vertices and self.r==other.r\n",
    "    \n",
    "    def __gt__(self,other) :\n",
    "        return self.n >other.vertices\n",
    "    \n",
    "\n",
    "          "
   ]
  },
  {
   "cell_type": "code",
   "execution_count": 18,
   "metadata": {},
   "outputs": [],
   "source": [
    "def test_polygon() :\n",
    "    n=3\n",
    "    r=1\n",
    "    p1=Polygon(n,r)\n",
    "\n",
    "    assert str(p1)==f'Polygon(n=3, r=1)', f'actual={str(p1)}'"
   ]
  },
  {
   "cell_type": "code",
   "execution_count": 19,
   "metadata": {},
   "outputs": [],
   "source": [
    "test_polygon()"
   ]
  },
  {
   "cell_type": "code",
   "execution_count": 20,
   "metadata": {},
   "outputs": [],
   "source": [
    "def test_polygon() :\n",
    "    n=3\n",
    "    r=1\n",
    "    p=Polygon(n,r)\n",
    "\n",
    "    assert str(p)==f'Polygon(n=3, r=1)', f'actual={str(p)}'\n",
    "    assert p.vertices==n , f'actual={p.vertices}'\n",
    "    assert p.edges==n , f'actual={p.edges}'\n",
    "    assert p.r==r , f'actual={p.r}'\n",
    "    assert p.interial_angle==60 ,f'actual={p.interial_angle}'\n",
    "\n",
    "    n=4\n",
    "    r=1\n",
    "    p=Polygon(n,r)\n",
    "    assert p.interial_angle==90 , f'actual={p.interial_angle}'\n",
    "    assert p.area==2.0 , f'actual={p.area}'\n",
    "    \n",
    "\n"
   ]
  },
  {
   "cell_type": "code",
   "execution_count": 21,
   "metadata": {},
   "outputs": [
    {
     "ename": "AssertionError",
     "evalue": "actual=2.0000000000000004",
     "output_type": "error",
     "traceback": [
      "\u001b[1;31m---------------------------------------------------------------------------\u001b[0m",
      "\u001b[1;31mAssertionError\u001b[0m                            Traceback (most recent call last)",
      "\u001b[1;32mc:\\Users\\chetan\\Desktop\\Python Practice\\udemy python-2\\3.Project1\\Goal1.ipynb Cell 17\u001b[0m in \u001b[0;36m<cell line: 1>\u001b[1;34m()\u001b[0m\n\u001b[1;32m----> <a href='vscode-notebook-cell:/c%3A/Users/chetan/Desktop/Python%20Practice/udemy%20python-2/3.Project1/Goal1.ipynb#X22sZmlsZQ%3D%3D?line=0'>1</a>\u001b[0m test_polygon()\n",
      "\u001b[1;32mc:\\Users\\chetan\\Desktop\\Python Practice\\udemy python-2\\3.Project1\\Goal1.ipynb Cell 17\u001b[0m in \u001b[0;36mtest_polygon\u001b[1;34m()\u001b[0m\n\u001b[0;32m     <a href='vscode-notebook-cell:/c%3A/Users/chetan/Desktop/Python%20Practice/udemy%20python-2/3.Project1/Goal1.ipynb#X22sZmlsZQ%3D%3D?line=13'>14</a>\u001b[0m p\u001b[39m=\u001b[39mPolygon(n,r)\n\u001b[0;32m     <a href='vscode-notebook-cell:/c%3A/Users/chetan/Desktop/Python%20Practice/udemy%20python-2/3.Project1/Goal1.ipynb#X22sZmlsZQ%3D%3D?line=14'>15</a>\u001b[0m \u001b[39massert\u001b[39;00m p\u001b[39m.\u001b[39minterial_angle\u001b[39m==\u001b[39m\u001b[39m90\u001b[39m , \u001b[39mf\u001b[39m\u001b[39m'\u001b[39m\u001b[39mactual=\u001b[39m\u001b[39m{\u001b[39;00mp\u001b[39m.\u001b[39minterial_angle\u001b[39m}\u001b[39;00m\u001b[39m'\u001b[39m\n\u001b[1;32m---> <a href='vscode-notebook-cell:/c%3A/Users/chetan/Desktop/Python%20Practice/udemy%20python-2/3.Project1/Goal1.ipynb#X22sZmlsZQ%3D%3D?line=15'>16</a>\u001b[0m \u001b[39massert\u001b[39;00m p\u001b[39m.\u001b[39marea\u001b[39m==\u001b[39m\u001b[39m2.0\u001b[39m , \u001b[39mf\u001b[39m\u001b[39m'\u001b[39m\u001b[39mactual=\u001b[39m\u001b[39m{\u001b[39;00mp\u001b[39m.\u001b[39marea\u001b[39m}\u001b[39;00m\u001b[39m'\u001b[39m\n",
      "\u001b[1;31mAssertionError\u001b[0m: actual=2.0000000000000004"
     ]
    }
   ],
   "source": [
    "test_polygon()"
   ]
  },
  {
   "cell_type": "code",
   "execution_count": 22,
   "metadata": {},
   "outputs": [],
   "source": [
    "def test_polygon() :\n",
    "\n",
    "    abs_tol=0.001\n",
    "    rel_tol=0.001\n",
    "\n",
    "    n=3\n",
    "    r=1\n",
    "    p=Polygon(n,r)\n",
    "\n",
    "    assert str(p)==f'Polygon(n=3, r=1)', f'actual={str(p)}'\n",
    "    assert p.vertices==n , f'actual={p.vertices}'\n",
    "    assert p.edges==n , f'actual={p.edges}'\n",
    "    assert p.r==r , f'actual={p.r}'\n",
    "    assert p.interial_angle==60 ,f'actual={p.interial_angle}'\n",
    "\n",
    "    n=4\n",
    "    r=1\n",
    "    p=Polygon(n,r)\n",
    "    assert p.interial_angle==90 , f'actual={p.interial_angle}'\n",
    "    assert math.isclose(p.area,2,rel_tol=rel_tol,abs_tol=abs_tol) , f'actual={p.area}'\n",
    "    \n",
    "\n"
   ]
  },
  {
   "cell_type": "code",
   "execution_count": 23,
   "metadata": {},
   "outputs": [],
   "source": [
    "test_polygon()"
   ]
  },
  {
   "cell_type": "code",
   "execution_count": 34,
   "metadata": {},
   "outputs": [],
   "source": [
    "def test_polygon() :\n",
    "\n",
    "    abs_tol=0.001\n",
    "    rel_tol=0.001\n",
    "\n",
    "    n=3\n",
    "    r=1\n",
    "    p=Polygon(n,r)\n",
    "\n",
    "    assert str(p)==f'Polygon(n=3, r=1)', f'actual={str(p)}'\n",
    "    assert p.vertices==n , f'actual={p.vertices}'\n",
    "    assert p.edges==n , f'actual={p.edges}'\n",
    "    assert p.r==r , f'actual={p.r}'\n",
    "    assert p.interial_angle==60 ,f'actual={p.interial_angle}'\n",
    "\n",
    "    n=4\n",
    "    r=1\n",
    "    p=Polygon(n,r)\n",
    "    assert p.interial_angle==90 , f'actual={p.interial_angle}'\n",
    "    assert math.isclose(p.area,2,rel_tol=rel_tol,abs_tol=abs_tol) , f'actual={p.area}'\n",
    "    \n",
    "    assert math.isclose(p.edges_length, math.sqrt(2),rel_tol=rel_tol,abs_tol=abs_tol) , f'actual={p.edges_length}'\n",
    "    assert math.isclose(p.perimeter,4*math.sqrt(2),rel_tol=rel_tol,abs_tol=abs_tol) , f'actual={p.area}'\n",
    "\n",
    "    assert math.isclose(p.apothem, 0.707 , rel_tol=rel_tol ,abs_tol=abs_tol) , f'actual={p.apothem}'\n"
   ]
  },
  {
   "cell_type": "code",
   "execution_count": 35,
   "metadata": {},
   "outputs": [],
   "source": [
    "test_polygon()"
   ]
  },
  {
   "cell_type": "code",
   "execution_count": 43,
   "metadata": {},
   "outputs": [],
   "source": [
    "def test_polygon() :\n",
    "\n",
    "    abs_tol=0.001\n",
    "    rel_tol=0.001\n",
    "\n",
    "    n=3\n",
    "    r=1\n",
    "    p=Polygon(n,r)\n",
    "\n",
    "    assert str(p)==f'Polygon(n=3, r=1)', f'actual={str(p)}'\n",
    "    assert p.vertices==n , f'actual={p.vertices}'\n",
    "    assert p.edges==n , f'actual={p.edges}'\n",
    "    assert p.r==r , f'actual={p.r}'\n",
    "    assert p.interial_angle==60 ,f'actual={p.interial_angle}'\n",
    "\n",
    "    n=4\n",
    "    r=1\n",
    "    p=Polygon(n,r)\n",
    "    assert p.interial_angle==90 , f'actual={p.interial_angle}'\n",
    "    assert math.isclose(p.area,2,rel_tol=rel_tol,abs_tol=abs_tol) , f'actual={p.area}'\n",
    "    \n",
    "    assert math.isclose(p.edges_length, math.sqrt(2),rel_tol=rel_tol,abs_tol=abs_tol) , f'actual={p.edges_length}'\n",
    "    assert math.isclose(p.perimeter,4*math.sqrt(2),rel_tol=rel_tol,abs_tol=abs_tol) , f'actual={p.area}'\n",
    "\n",
    "    assert math.isclose(p.apothem, 0.707 , rel_tol=rel_tol ,abs_tol=abs_tol) , f'actual={p.apothem}'\n",
    "    \n",
    "    n=6\n",
    "    r=2\n",
    "    p=Polygon(n,r)\n",
    "\n",
    "    assert math.isclose(p.edges_length, 2 , rel_tol=rel_tol,abs_tol=abs_tol) , f'actual={p.edges_length}'\n",
    "    assert math.isclose(p.apothem,1.73205,rel_tol=rel_tol,abs_tol=abs_tol)\n",
    "    assert math.isclose(p.area,10.3923 , rel_tol=rel_tol,abs_tol=abs_tol)\n",
    "    assert math.isclose(p.interial_angle,120,rel_tol=rel_tol,abs_tol=abs_tol)\n",
    "\n",
    "    n=12\n",
    "    n=3\n",
    "\n",
    "    p=Polygon(n,r)\n",
    "\n",
    "    # assert math.isclose(p.edges_length,1.55291,rel_tol=rel_tol,abs_tol=abs_tol)\n",
    "    assert math.isclose(p.apothem,2.89777,rel_tol=rel_tol,abs_tol=abs_tol)\n",
    "    assert math.isclose(p.area,27 , rel_tol=rel_tol,abs_tol=abs_tol)\n",
    "    assert math.isclose(p.interial_angle,150,rel_tol=rel_tol,abs_tol=abs_tol)\n"
   ]
  },
  {
   "cell_type": "code",
   "execution_count": 44,
   "metadata": {},
   "outputs": [
    {
     "ename": "AssertionError",
     "evalue": "",
     "output_type": "error",
     "traceback": [
      "\u001b[1;31m---------------------------------------------------------------------------\u001b[0m",
      "\u001b[1;31mAssertionError\u001b[0m                            Traceback (most recent call last)",
      "\u001b[1;32mc:\\Users\\chetan\\Desktop\\Python Practice\\udemy python-2\\3.Project1\\Goal1.ipynb Cell 23\u001b[0m in \u001b[0;36m<cell line: 1>\u001b[1;34m()\u001b[0m\n\u001b[1;32m----> <a href='vscode-notebook-cell:/c%3A/Users/chetan/Desktop/Python%20Practice/udemy%20python-2/3.Project1/Goal1.ipynb#X31sZmlsZQ%3D%3D?line=0'>1</a>\u001b[0m test_polygon()\n",
      "\u001b[1;32mc:\\Users\\chetan\\Desktop\\Python Practice\\udemy python-2\\3.Project1\\Goal1.ipynb Cell 23\u001b[0m in \u001b[0;36mtest_polygon\u001b[1;34m()\u001b[0m\n\u001b[0;32m     <a href='vscode-notebook-cell:/c%3A/Users/chetan/Desktop/Python%20Practice/udemy%20python-2/3.Project1/Goal1.ipynb#X31sZmlsZQ%3D%3D?line=38'>39</a>\u001b[0m p\u001b[39m=\u001b[39mPolygon(n,r)\n\u001b[0;32m     <a href='vscode-notebook-cell:/c%3A/Users/chetan/Desktop/Python%20Practice/udemy%20python-2/3.Project1/Goal1.ipynb#X31sZmlsZQ%3D%3D?line=40'>41</a>\u001b[0m \u001b[39m# assert math.isclose(p.edges_length,1.55291,rel_tol=rel_tol,abs_tol=abs_tol)\u001b[39;00m\n\u001b[1;32m---> <a href='vscode-notebook-cell:/c%3A/Users/chetan/Desktop/Python%20Practice/udemy%20python-2/3.Project1/Goal1.ipynb#X31sZmlsZQ%3D%3D?line=41'>42</a>\u001b[0m \u001b[39massert\u001b[39;00m math\u001b[39m.\u001b[39misclose(p\u001b[39m.\u001b[39mapothem,\u001b[39m2.89777\u001b[39m,rel_tol\u001b[39m=\u001b[39mrel_tol,abs_tol\u001b[39m=\u001b[39mabs_tol)\n\u001b[0;32m     <a href='vscode-notebook-cell:/c%3A/Users/chetan/Desktop/Python%20Practice/udemy%20python-2/3.Project1/Goal1.ipynb#X31sZmlsZQ%3D%3D?line=42'>43</a>\u001b[0m \u001b[39massert\u001b[39;00m math\u001b[39m.\u001b[39misclose(p\u001b[39m.\u001b[39marea,\u001b[39m27\u001b[39m , rel_tol\u001b[39m=\u001b[39mrel_tol,abs_tol\u001b[39m=\u001b[39mabs_tol)\n\u001b[0;32m     <a href='vscode-notebook-cell:/c%3A/Users/chetan/Desktop/Python%20Practice/udemy%20python-2/3.Project1/Goal1.ipynb#X31sZmlsZQ%3D%3D?line=43'>44</a>\u001b[0m \u001b[39massert\u001b[39;00m math\u001b[39m.\u001b[39misclose(p\u001b[39m.\u001b[39minterial_angle,\u001b[39m150\u001b[39m,rel_tol\u001b[39m=\u001b[39mrel_tol,abs_tol\u001b[39m=\u001b[39mabs_tol)\n",
      "\u001b[1;31mAssertionError\u001b[0m: "
     ]
    }
   ],
   "source": [
    "test_polygon()"
   ]
  },
  {
   "cell_type": "code",
   "execution_count": 40,
   "metadata": {},
   "outputs": [],
   "source": [
    "import math \n",
    "\n",
    "\n",
    "class Polygon :\n",
    "\n",
    "    def __init__(self,n,r):\n",
    "\n",
    "        self.n=n\n",
    "        self.r=r\n",
    "\n",
    "    @property\n",
    "    def edges(self) :\n",
    "        return self.n\n",
    "    \n",
    "    @property\n",
    "    def vertices(self) :\n",
    "        return self.n\n",
    "    \n",
    "    @property\n",
    "    def interial_angle(self) :\n",
    "        return (self.n-2)*(180/self.n)\n",
    "    \n",
    "    @property\n",
    "    def  edges_length(self) :\n",
    "        return 2*self.r*(math.sin(math.pi/self.n))\n",
    "    \n",
    "    @property\n",
    "    def apothem(self) :\n",
    "        return self.r*(math.cos(math.pi/self.n))\n",
    "    \n",
    "    @property\n",
    "    def area(self) :\n",
    "        return (self.n*self.edges_length*self.apothem)/2\n",
    "    \n",
    "    @property\n",
    "    def perimeter(self) :\n",
    "        return  self.n*self.edges_length\n",
    "    \n",
    "    def __repr__(self) :\n",
    "        return f'Polygon(n={self.n}, r={self.r})'\n",
    "       \n",
    "\n",
    "    def __eq__(self,other) :\n",
    "       return self.vertices==other.vertices and self.r==other.r\n",
    "    \n",
    "    def __gt__(self,other) :\n",
    "        return self.n >other.vertices\n",
    "    \n",
    "\n",
    "          "
   ]
  },
  {
   "cell_type": "code",
   "execution_count": 46,
   "metadata": {},
   "outputs": [],
   "source": [
    "def test_polygon() :\n",
    "\n",
    "    abs_tol=0.001\n",
    "    rel_tol=0.001\n",
    "\n",
    "    n=3\n",
    "    r=1\n",
    "    p=Polygon(n,r)\n",
    "\n",
    "    assert str(p)==f'Polygon(n=3, r=1)', f'actual={str(p)}'\n",
    "    assert p.vertices==n , f'actual={p.vertices}'\n",
    "    assert p.edges==n , f'actual={p.edges}'\n",
    "    assert p.r==r , f'actual={p.r}'\n",
    "    assert p.interial_angle==60 ,f'actual={p.interial_angle}'\n",
    "\n",
    "    n=4\n",
    "    r=1\n",
    "    p=Polygon(n,r)\n",
    "    assert p.interial_angle==90 , f'actual={p.interial_angle}'\n",
    "    assert math.isclose(p.area,2,rel_tol=rel_tol,abs_tol=abs_tol) , f'actual={p.area}'\n",
    "    \n",
    "    assert math.isclose(p.edges_length, math.sqrt(2),rel_tol=rel_tol,abs_tol=abs_tol) , f'actual={p.edges_length}'\n",
    "    assert math.isclose(p.perimeter,4*math.sqrt(2),rel_tol=rel_tol,abs_tol=abs_tol) , f'actual={p.area}'\n",
    "\n",
    "    assert math.isclose(p.apothem, 0.707 , rel_tol=rel_tol ,abs_tol=abs_tol) , f'actual={p.apothem}'\n",
    "    \n",
    "    n=6\n",
    "    r=2\n",
    "    p=Polygon(n,r)\n",
    "\n",
    "    assert math.isclose(p.edges_length, 2 , rel_tol=rel_tol,abs_tol=abs_tol) , f'actual={p.edges_length}'\n",
    "    assert math.isclose(p.apothem,1.73205,rel_tol=rel_tol,abs_tol=abs_tol)\n",
    "    assert math.isclose(p.area,10.3923 , rel_tol=rel_tol,abs_tol=abs_tol)\n",
    "    assert math.isclose(p.interial_angle,120,rel_tol=rel_tol,abs_tol=abs_tol)\n",
    "\n",
    "    # n=12\n",
    "    # n=3\n",
    "\n",
    "    # p=Polygon(n,r)\n",
    "\n",
    "    # # assert math.isclose(p.edges_length,1.55291,rel_tol=rel_tol,abs_tol=abs_tol)\n",
    "    # assert math.isclose(p.apothem,2.89777,rel_tol=rel_tol,abs_tol=abs_tol)\n",
    "    # assert math.isclose(p.area,27 , rel_tol=rel_tol,abs_tol=abs_tol)\n",
    "    # assert math.isclose(p.interial_angle,150,rel_tol=rel_tol,abs_tol=abs_tol)\n",
    "\n",
    "    p1=Polygon(10,10)\n",
    "    p2=Polygon(2,10)\n",
    "    p3=Polygon(3,10)\n",
    "    p4=Polygon(3,10)\n",
    "\n",
    "    assert p1>p2 \n",
    "    assert p2<p3\n",
    "    assert p3==p4\n",
    "    assert p3!=p2"
   ]
  },
  {
   "cell_type": "code",
   "execution_count": 47,
   "metadata": {},
   "outputs": [],
   "source": [
    "test_polygon()"
   ]
  },
  {
   "cell_type": "code",
   "execution_count": 50,
   "metadata": {},
   "outputs": [],
   "source": [
    "import math \n",
    "\n",
    "\n",
    "class Polygon :\n",
    "\n",
    "    def __init__(self,n,r):\n",
    "        if n<3 :\n",
    "            raise ValueError('Polygon must have at least 3 sides')\n",
    "        else :\n",
    "         self.n=n\n",
    "         self.r=r\n",
    "\n",
    "    @property\n",
    "    def edges(self) :\n",
    "        return self.n\n",
    "    \n",
    "    @property\n",
    "    def vertices(self) :\n",
    "        return self.n\n",
    "    \n",
    "    @property\n",
    "    def interial_angle(self) :\n",
    "        return (self.n-2)*(180/self.n)\n",
    "    \n",
    "    @property\n",
    "    def  edges_length(self) :\n",
    "        return 2*self.r*(math.sin(math.pi/self.n))\n",
    "    \n",
    "    @property\n",
    "    def apothem(self) :\n",
    "        return self.r*(math.cos(math.pi/self.n))\n",
    "    \n",
    "    @property\n",
    "    def area(self) :\n",
    "        return (self.n*self.edges_length*self.apothem)/2\n",
    "    \n",
    "    @property\n",
    "    def perimeter(self) :\n",
    "        return  self.n*self.edges_length\n",
    "    \n",
    "    def __repr__(self) :\n",
    "        return f'Polygon(n={self.n}, r={self.r})'\n",
    "       \n",
    "\n",
    "    def __eq__(self,other) :\n",
    "       return self.vertices==other.vertices and self.r==other.r\n",
    "    \n",
    "    def __gt__(self,other) :\n",
    "        return self.n >other.vertices\n",
    "    \n",
    "\n",
    "          "
   ]
  },
  {
   "cell_type": "code",
   "execution_count": 51,
   "metadata": {},
   "outputs": [
    {
     "ename": "ValueError",
     "evalue": "Polygon must have at least 3 sides",
     "output_type": "error",
     "traceback": [
      "\u001b[1;31m---------------------------------------------------------------------------\u001b[0m",
      "\u001b[1;31mValueError\u001b[0m                                Traceback (most recent call last)",
      "\u001b[1;32mc:\\Users\\chetan\\Desktop\\Python Practice\\udemy python-2\\3.Project1\\Goal1.ipynb Cell 28\u001b[0m in \u001b[0;36m<cell line: 1>\u001b[1;34m()\u001b[0m\n\u001b[1;32m----> <a href='vscode-notebook-cell:/c%3A/Users/chetan/Desktop/Python%20Practice/udemy%20python-2/3.Project1/Goal1.ipynb#X36sZmlsZQ%3D%3D?line=0'>1</a>\u001b[0m p1\u001b[39m=\u001b[39mPolygon(\u001b[39m2\u001b[39;49m,\u001b[39m34\u001b[39;49m)\n",
      "\u001b[1;32mc:\\Users\\chetan\\Desktop\\Python Practice\\udemy python-2\\3.Project1\\Goal1.ipynb Cell 28\u001b[0m in \u001b[0;36mPolygon.__init__\u001b[1;34m(self, n, r)\u001b[0m\n\u001b[0;32m      <a href='vscode-notebook-cell:/c%3A/Users/chetan/Desktop/Python%20Practice/udemy%20python-2/3.Project1/Goal1.ipynb#X36sZmlsZQ%3D%3D?line=5'>6</a>\u001b[0m \u001b[39mdef\u001b[39;00m \u001b[39m__init__\u001b[39m(\u001b[39mself\u001b[39m,n,r):\n\u001b[0;32m      <a href='vscode-notebook-cell:/c%3A/Users/chetan/Desktop/Python%20Practice/udemy%20python-2/3.Project1/Goal1.ipynb#X36sZmlsZQ%3D%3D?line=6'>7</a>\u001b[0m     \u001b[39mif\u001b[39;00m n\u001b[39m<\u001b[39m\u001b[39m3\u001b[39m :\n\u001b[1;32m----> <a href='vscode-notebook-cell:/c%3A/Users/chetan/Desktop/Python%20Practice/udemy%20python-2/3.Project1/Goal1.ipynb#X36sZmlsZQ%3D%3D?line=7'>8</a>\u001b[0m         \u001b[39mraise\u001b[39;00m \u001b[39mValueError\u001b[39;00m(\u001b[39m'\u001b[39m\u001b[39mPolygon must have at least 3 sides\u001b[39m\u001b[39m'\u001b[39m)\n\u001b[0;32m      <a href='vscode-notebook-cell:/c%3A/Users/chetan/Desktop/Python%20Practice/udemy%20python-2/3.Project1/Goal1.ipynb#X36sZmlsZQ%3D%3D?line=8'>9</a>\u001b[0m     \u001b[39melse\u001b[39;00m :\n\u001b[0;32m     <a href='vscode-notebook-cell:/c%3A/Users/chetan/Desktop/Python%20Practice/udemy%20python-2/3.Project1/Goal1.ipynb#X36sZmlsZQ%3D%3D?line=9'>10</a>\u001b[0m      \u001b[39mself\u001b[39m\u001b[39m.\u001b[39mn\u001b[39m=\u001b[39mn\n",
      "\u001b[1;31mValueError\u001b[0m: Polygon must have at least 3 sides"
     ]
    }
   ],
   "source": [
    "p1=Polygon(2,34)"
   ]
  },
  {
   "cell_type": "code",
   "execution_count": 7,
   "metadata": {},
   "outputs": [
    {
     "name": "stdout",
     "output_type": "stream",
     "text": [
      "velue is a=3.456745678\n",
      "3.46\n"
     ]
    }
   ],
   "source": [
    "a=3.456745678\n",
    "\n",
    "print(f'velue is {a=}')\n",
    "print('%0.2f'%a)"
   ]
  },
  {
   "cell_type": "code",
   "execution_count": null,
   "metadata": {},
   "outputs": [],
   "source": []
  }
 ],
 "metadata": {
  "kernelspec": {
   "display_name": "Python 3",
   "language": "python",
   "name": "python3"
  },
  "language_info": {
   "codemirror_mode": {
    "name": "ipython",
    "version": 3
   },
   "file_extension": ".py",
   "mimetype": "text/x-python",
   "name": "python",
   "nbconvert_exporter": "python",
   "pygments_lexer": "ipython3",
   "version": "3.10.4"
  },
  "orig_nbformat": 4
 },
 "nbformat": 4,
 "nbformat_minor": 2
}
