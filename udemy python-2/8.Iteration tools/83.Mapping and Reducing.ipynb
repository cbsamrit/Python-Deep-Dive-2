{
 "cells": [
  {
   "cell_type": "code",
   "execution_count": 2,
   "metadata": {},
   "outputs": [
    {
     "data": {
      "text/plain": [
       "[0, 1, 4, 9, 16]"
      ]
     },
     "execution_count": 2,
     "metadata": {},
     "output_type": "execute_result"
    }
   ],
   "source": [
    "list(map(lambda x : x**2 , range(5)))"
   ]
  },
  {
   "cell_type": "code",
   "execution_count": 3,
   "metadata": {},
   "outputs": [
    {
     "ename": "TypeError",
     "evalue": "<lambda>() missing 1 required positional argument: 'y'",
     "output_type": "error",
     "traceback": [
      "\u001b[1;31m---------------------------------------------------------------------------\u001b[0m",
      "\u001b[1;31mTypeError\u001b[0m                                 Traceback (most recent call last)",
      "\u001b[1;32mc:\\Users\\chetan\\Desktop\\Konverge.ai\\Python Practice\\udemy python-2\\8.Iteration tools\\83.Mapping and Reducing.ipynb Cell 2\u001b[0m in \u001b[0;36m<cell line: 4>\u001b[1;34m()\u001b[0m\n\u001b[0;32m      <a href='vscode-notebook-cell:/c%3A/Users/chetan/Desktop/Konverge.ai/Python%20Practice/udemy%20python-2/8.Iteration%20tools/83.Mapping%20and%20Reducing.ipynb#W1sZmlsZQ%3D%3D?line=0'>1</a>\u001b[0m l\u001b[39m=\u001b[39m[[\u001b[39m1\u001b[39m,\u001b[39m2\u001b[39m],[\u001b[39m2\u001b[39m,\u001b[39m3\u001b[39m],[\u001b[39m4\u001b[39m,\u001b[39m5\u001b[39m],[\u001b[39m6\u001b[39m,\u001b[39m7\u001b[39m]]\n\u001b[0;32m      <a href='vscode-notebook-cell:/c%3A/Users/chetan/Desktop/Konverge.ai/Python%20Practice/udemy%20python-2/8.Iteration%20tools/83.Mapping%20and%20Reducing.ipynb#W1sZmlsZQ%3D%3D?line=2'>3</a>\u001b[0m l\u001b[39m=\u001b[39m\u001b[39mmap\u001b[39m(\u001b[39mlambda\u001b[39;00m x ,y : x\u001b[39m*\u001b[39my , l)\n\u001b[1;32m----> <a href='vscode-notebook-cell:/c%3A/Users/chetan/Desktop/Konverge.ai/Python%20Practice/udemy%20python-2/8.Iteration%20tools/83.Mapping%20and%20Reducing.ipynb#W1sZmlsZQ%3D%3D?line=3'>4</a>\u001b[0m \u001b[39mprint\u001b[39m(\u001b[39mlist\u001b[39;49m(l))\n",
      "\u001b[1;31mTypeError\u001b[0m: <lambda>() missing 1 required positional argument: 'y'"
     ]
    }
   ],
   "source": [
    "l=[[1,2],[2,3],[4,5],[6,7]]\n",
    "\n",
    "l=map(lambda x ,y : x*y , l)\n",
    "print(list(l))"
   ]
  },
  {
   "cell_type": "code",
   "execution_count": 5,
   "metadata": {},
   "outputs": [
    {
     "name": "stdout",
     "output_type": "stream",
     "text": [
      "[2, 6, 20, 42]\n"
     ]
    }
   ],
   "source": [
    "l=[[1,2],[2,3],[4,5],[6,7]]\n",
    "l=map(lambda x : x[0]*x[1] , l)\n",
    "print(list(l))"
   ]
  },
  {
   "cell_type": "code",
   "execution_count": 7,
   "metadata": {},
   "outputs": [
    {
     "ename": "TypeError",
     "evalue": "mul expected 2 arguments, got 1",
     "output_type": "error",
     "traceback": [
      "\u001b[1;31m---------------------------------------------------------------------------\u001b[0m",
      "\u001b[1;31mTypeError\u001b[0m                                 Traceback (most recent call last)",
      "\u001b[1;32mc:\\Users\\chetan\\Desktop\\Konverge.ai\\Python Practice\\udemy python-2\\8.Iteration tools\\83.Mapping and Reducing.ipynb Cell 4\u001b[0m in \u001b[0;36m<cell line: 4>\u001b[1;34m()\u001b[0m\n\u001b[0;32m      <a href='vscode-notebook-cell:/c%3A/Users/chetan/Desktop/Konverge.ai/Python%20Practice/udemy%20python-2/8.Iteration%20tools/83.Mapping%20and%20Reducing.ipynb#W3sZmlsZQ%3D%3D?line=1'>2</a>\u001b[0m l\u001b[39m=\u001b[39m[[\u001b[39m1\u001b[39m,\u001b[39m2\u001b[39m],[\u001b[39m2\u001b[39m,\u001b[39m3\u001b[39m],[\u001b[39m4\u001b[39m,\u001b[39m5\u001b[39m],[\u001b[39m6\u001b[39m,\u001b[39m7\u001b[39m]]\n\u001b[0;32m      <a href='vscode-notebook-cell:/c%3A/Users/chetan/Desktop/Konverge.ai/Python%20Practice/udemy%20python-2/8.Iteration%20tools/83.Mapping%20and%20Reducing.ipynb#W3sZmlsZQ%3D%3D?line=2'>3</a>\u001b[0m l\u001b[39m=\u001b[39m\u001b[39mmap\u001b[39m(mul,l)\n\u001b[1;32m----> <a href='vscode-notebook-cell:/c%3A/Users/chetan/Desktop/Konverge.ai/Python%20Practice/udemy%20python-2/8.Iteration%20tools/83.Mapping%20and%20Reducing.ipynb#W3sZmlsZQ%3D%3D?line=3'>4</a>\u001b[0m \u001b[39mprint\u001b[39m(\u001b[39mlist\u001b[39;49m(l))\n",
      "\u001b[1;31mTypeError\u001b[0m: mul expected 2 arguments, got 1"
     ]
    }
   ],
   "source": [
    "from operator import *\n",
    "l=[[1,2],[2,3],[4,5],[6,7]]\n",
    "l=map(mul,l)\n",
    "print(list(l))"
   ]
  },
  {
   "cell_type": "code",
   "execution_count": 9,
   "metadata": {},
   "outputs": [
    {
     "name": "stdout",
     "output_type": "stream",
     "text": [
      "2\n",
      "6\n",
      "20\n",
      "42\n"
     ]
    }
   ],
   "source": [
    "l=[[1,2],[2,3],[4,5],[6,7]]\n",
    "temp=( i[0]*i[1] for i in l)\n",
    "for i in temp :\n",
    "    print(i)"
   ]
  },
  {
   "cell_type": "code",
   "execution_count": 13,
   "metadata": {},
   "outputs": [
    {
     "name": "stdout",
     "output_type": "stream",
     "text": [
      "[2, 6, 20, 42]\n"
     ]
    }
   ],
   "source": [
    "from operator import *\n",
    "from itertools import *\n",
    "l=[[1,2],[2,3],[4,5],[6,7]]\n",
    "l=starmap(mul,l)\n",
    "print(list(l))"
   ]
  },
  {
   "cell_type": "code",
   "execution_count": 18,
   "metadata": {},
   "outputs": [
    {
     "data": {
      "text/plain": [
       "[1, 2, 6, 24, 120, 720, 5040]"
      ]
     },
     "execution_count": 18,
     "metadata": {},
     "output_type": "execute_result"
    }
   ],
   "source": [
    "from functools import *\n",
    "l=[1,2,3,4,5,6,7]\n",
    "(reduce(mul,l))\n",
    "list(accumulate(l,mul))"
   ]
  },
  {
   "cell_type": "code",
   "execution_count": 24,
   "metadata": {},
   "outputs": [],
   "source": [
    "def fun(n):\n",
    "    for i in range(1,n) :\n",
    "      yield i"
   ]
  },
  {
   "cell_type": "code",
   "execution_count": 28,
   "metadata": {},
   "outputs": [
    {
     "name": "stdout",
     "output_type": "stream",
     "text": [
      "1\n",
      "2\n",
      "3\n",
      "4\n",
      "5\n",
      "6\n"
     ]
    }
   ],
   "source": [
    "o1=fun(7)\n",
    "for i in o1 :\n",
    "    print(i)"
   ]
  },
  {
   "cell_type": "code",
   "execution_count": 32,
   "metadata": {},
   "outputs": [
    {
     "data": {
      "text/plain": [
       "[1, 2, 6, 24, 120, 720]"
      ]
     },
     "execution_count": 32,
     "metadata": {},
     "output_type": "execute_result"
    }
   ],
   "source": [
    "k=(accumulate(fun(7),mul))\n",
    "list(k)"
   ]
  },
  {
   "cell_type": "code",
   "execution_count": 33,
   "metadata": {},
   "outputs": [
    {
     "data": {
      "text/plain": [
       "[]"
      ]
     },
     "execution_count": 33,
     "metadata": {},
     "output_type": "execute_result"
    }
   ],
   "source": [
    "list(k)"
   ]
  }
 ],
 "metadata": {
  "kernelspec": {
   "display_name": "Python 3",
   "language": "python",
   "name": "python3"
  },
  "language_info": {
   "codemirror_mode": {
    "name": "ipython",
    "version": 3
   },
   "file_extension": ".py",
   "mimetype": "text/x-python",
   "name": "python",
   "nbconvert_exporter": "python",
   "pygments_lexer": "ipython3",
   "version": "3.10.4"
  },
  "orig_nbformat": 4
 },
 "nbformat": 4,
 "nbformat_minor": 2
}
