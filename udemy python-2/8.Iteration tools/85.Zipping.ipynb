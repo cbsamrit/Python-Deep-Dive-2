{
 "cells": [
  {
   "cell_type": "code",
   "execution_count": 1,
   "metadata": {},
   "outputs": [
    {
     "name": "stdout",
     "output_type": "stream",
     "text": [
      "[(1, 'a', 'chetan'), (2, 'b', 'rahul')]\n",
      "[]\n"
     ]
    }
   ],
   "source": [
    "l1=[1,2,3]\n",
    "l2=['a','b']\n",
    "l3=['chetan','rahul','mohit','himani','simran']\n",
    "l=(zip(l1,l2,l3))\n",
    "print(list(l))\n",
    "print(list(l))"
   ]
  },
  {
   "cell_type": "code",
   "execution_count": 2,
   "metadata": {},
   "outputs": [
    {
     "name": "stdout",
     "output_type": "stream",
     "text": [
      "[(1, 'a', 'chetan'), (2, 'b', 'rahul')]\n",
      "[(1, 'a', 'chetan'), (2, 'b', 'rahul')]\n"
     ]
    }
   ],
   "source": [
    "l1=[1,2,3]\n",
    "l2=['a','b']\n",
    "l3=['chetan','rahul','mohit','himani','simran']\n",
    "l=list(zip(l1,l2,l3))\n",
    "print(l)\n",
    "print(l)"
   ]
  },
  {
   "cell_type": "code",
   "execution_count": 3,
   "metadata": {},
   "outputs": [],
   "source": [
    "def integer(n):\n",
    "    for i in range(n):\n",
    "        yield i\n",
    "def square(n):\n",
    "    for i in range(n):\n",
    "        yield i**2\n",
    "def cubes(n) :       \n",
    "    for i in range(n):\n",
    "        yield i**3            \n"
   ]
  },
  {
   "cell_type": "code",
   "execution_count": 5,
   "metadata": {},
   "outputs": [
    {
     "name": "stdout",
     "output_type": "stream",
     "text": [
      "[(0, 0, 0), (1, 1, 1), (2, 4, 8), (3, 9, 27)]\n",
      "[]\n"
     ]
    }
   ],
   "source": [
    "iter1=integer(7)\n",
    "iter2=square(5)\n",
    "iter3=cubes(4)\n",
    "\n",
    "l=zip(iter1,iter2,iter3)\n",
    "print(list(l))\n",
    "print(list(l))"
   ]
  },
  {
   "cell_type": "code",
   "execution_count": 7,
   "metadata": {},
   "outputs": [
    {
     "name": "stdout",
     "output_type": "stream",
     "text": [
      "[(0, 0, 0), (1, 1, 1), (2, 4, 8), (3, 9, 27), (4, 16, None), (5, None, None), (6, None, None)]\n",
      "[]\n"
     ]
    }
   ],
   "source": [
    "from itertools import *\n",
    "iter1=integer(7)\n",
    "iter2=square(5)\n",
    "iter3=cubes(4)\n",
    "l=zip_longest(iter1,iter2,iter3)\n",
    "print(list(l))\n",
    "print(list(l))"
   ]
  },
  {
   "cell_type": "code",
   "execution_count": 8,
   "metadata": {},
   "outputs": [
    {
     "name": "stdout",
     "output_type": "stream",
     "text": [
      "[(0, 0, 0), (1, 1, 1), (2, 4, 8), (3, 9, 27), (4, 16, 'N/A'), (5, 'N/A', 'N/A'), (6, 'N/A', 'N/A')]\n"
     ]
    }
   ],
   "source": [
    "iter1=integer(7)\n",
    "iter2=square(5)\n",
    "iter3=cubes(4)\n",
    "l=zip_longest(iter1,iter2,iter3,fillvalue='N/A')\n",
    "print(list(l))"
   ]
  },
  {
   "cell_type": "code",
   "execution_count": 15,
   "metadata": {},
   "outputs": [
    {
     "name": "stdout",
     "output_type": "stream",
     "text": [
      "[(0, 0, 0), (1, 1, 1), (2, 4, 8), (3, 9, 27), (4, 16, 64), (5, 25, 125), (6, 36, 216), (7, 49, 343), (8, 64, 512), (9, 81, 729)]\n",
      "[]\n"
     ]
    }
   ],
   "source": [
    "def square():\n",
    "    i=0\n",
    "    while True :\n",
    "        yield i**2\n",
    "        i+=1\n",
    "def cubes():\n",
    "    i=0\n",
    "    while True :\n",
    "        yield i**3\n",
    "        i+=1\n",
    "        \n",
    "l1=square()\n",
    "l2=cubes()\n",
    "l=zip(range(10),l1,l2)\n",
    "print(list(l))\n",
    "print(list(l))"
   ]
  }
 ],
 "metadata": {
  "kernelspec": {
   "display_name": "Python 3",
   "language": "python",
   "name": "python3"
  },
  "language_info": {
   "codemirror_mode": {
    "name": "ipython",
    "version": 3
   },
   "file_extension": ".py",
   "mimetype": "text/x-python",
   "name": "python",
   "nbconvert_exporter": "python",
   "pygments_lexer": "ipython3",
   "version": "3.10.4"
  },
  "orig_nbformat": 4
 },
 "nbformat": 4,
 "nbformat_minor": 2
}
