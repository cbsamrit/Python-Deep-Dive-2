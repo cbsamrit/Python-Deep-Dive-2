{
 "cells": [
  {
   "cell_type": "code",
   "execution_count": 2,
   "metadata": {},
   "outputs": [],
   "source": [
    "def fib_recursive(i):\n",
    "\n",
    "    if i<2 :\n",
    "        return 1\n",
    "    \n",
    "    else :\n",
    "        return fib_recursive(i-1)+fib_recursive(i-2)\n",
    "    "
   ]
  },
  {
   "cell_type": "code",
   "execution_count": 3,
   "metadata": {},
   "outputs": [
    {
     "data": {
      "text/plain": [
       "[1, 1, 2, 3, 5, 8, 13]"
      ]
     },
     "execution_count": 3,
     "metadata": {},
     "output_type": "execute_result"
    }
   ],
   "source": [
    "[fib_recursive(i) for i in range(7)]"
   ]
  },
  {
   "cell_type": "code",
   "execution_count": 4,
   "metadata": {},
   "outputs": [],
   "source": [
    "from timeit import timeit"
   ]
  },
  {
   "cell_type": "code",
   "execution_count": 25,
   "metadata": {},
   "outputs": [],
   "source": [
    "def fib (n) :\n",
    "    fib_0=1\n",
    "    fib_1=1\n",
    "\n",
    "    for i in range(n-1) :\n",
    "        fib_0 , fib_1 = fib_1 , fib_0+fib_1\n",
    "    return fib_1\n",
    "    "
   ]
  },
  {
   "cell_type": "code",
   "execution_count": 26,
   "metadata": {},
   "outputs": [
    {
     "data": {
      "text/plain": [
       "[1, 1, 2, 3, 5, 8, 13]"
      ]
     },
     "execution_count": 26,
     "metadata": {},
     "output_type": "execute_result"
    }
   ],
   "source": [
    "[fib(i) for i in range(7)]"
   ]
  },
  {
   "cell_type": "code",
   "execution_count": 30,
   "metadata": {},
   "outputs": [],
   "source": [
    "class Fib :\n",
    "    def __init__(self,n):\n",
    "        self.n=n\n",
    "\n",
    "    def __iter__(self):\n",
    "        return self.Fibiterator(self.n)\n",
    "\n",
    "    class Fibiterator:\n",
    "        def __init__(self,n):\n",
    "            self.n=n\n",
    "            self.i=0\n",
    "        def __iter__(self):\n",
    "            return self   \n",
    "\n",
    "        def __next__(self):\n",
    "            if  self.i >= self.n :\n",
    "             raise StopIteration\n",
    "            else :\n",
    "                result=fib(self.i)\n",
    "                self.i+=1\n",
    "                return result"
   ]
  },
  {
   "cell_type": "code",
   "execution_count": 31,
   "metadata": {},
   "outputs": [],
   "source": [
    "o1=Fib(7)"
   ]
  },
  {
   "cell_type": "code",
   "execution_count": 33,
   "metadata": {},
   "outputs": [
    {
     "name": "stdout",
     "output_type": "stream",
     "text": [
      "1\n",
      "1\n",
      "2\n",
      "3\n",
      "5\n",
      "8\n",
      "13\n"
     ]
    }
   ],
   "source": [
    "for i in o1 :\n",
    "    print(i)"
   ]
  },
  {
   "cell_type": "code",
   "execution_count": 36,
   "metadata": {},
   "outputs": [],
   "source": [
    "def fib(n):\n",
    "    fib_0=1\n",
    "    yield fib_0\n",
    "    fib_1=1\n",
    "    yield fib_1\n",
    "    for i in range(n-1) :\n",
    "        fib_0 , fib_1 = fib_1 , fib_0+fib_1\n",
    "        yield fib_1    "
   ]
  },
  {
   "cell_type": "code",
   "execution_count": 37,
   "metadata": {},
   "outputs": [
    {
     "name": "stdout",
     "output_type": "stream",
     "text": [
      "1\n",
      "1\n",
      "2\n",
      "3\n",
      "5\n",
      "8\n",
      "13\n",
      "21\n"
     ]
    }
   ],
   "source": [
    "o1=fib(7)\n",
    "\n",
    "for i in o1 :\n",
    "    print(i)"
   ]
  },
  {
   "cell_type": "code",
   "execution_count": 38,
   "metadata": {},
   "outputs": [],
   "source": [
    "for i in o1:\n",
    "    print(i)"
   ]
  },
  {
   "cell_type": "code",
   "execution_count": 41,
   "metadata": {},
   "outputs": [
    {
     "name": "stdout",
     "output_type": "stream",
     "text": [
      "[(0, 2), (1, 3), (2, 5), (3, 8), (4, 13), (5, 21)]\n"
     ]
    }
   ],
   "source": [
    "o1=fib(7)\n",
    "next(o1)\n",
    "next(o1)\n",
    "l=enumerate(o1)\n",
    "print(list(l))"
   ]
  },
  {
   "cell_type": "code",
   "execution_count": 42,
   "metadata": {},
   "outputs": [],
   "source": [
    "for i in o1 :\n",
    "    print(i)"
   ]
  },
  {
   "cell_type": "code",
   "execution_count": 47,
   "metadata": {},
   "outputs": [],
   "source": [
    "class Fib :\n",
    "  \n",
    "  def __init__(self,n):\n",
    "     self.n=n\n",
    "\n",
    "  def __iter__(self):\n",
    "     return self.fib()  \n",
    "   \n",
    "  def fib(self):\n",
    "    fib_0=1\n",
    "    yield fib_0\n",
    "    fib_1=1\n",
    "    yield fib_1\n",
    "    for i in range(self.n-1) :\n",
    "        fib_0 , fib_1 = fib_1 , fib_0+fib_1\n",
    "        yield fib_1  "
   ]
  },
  {
   "cell_type": "code",
   "execution_count": 48,
   "metadata": {},
   "outputs": [],
   "source": [
    "o1=Fib(7)\n"
   ]
  },
  {
   "cell_type": "code",
   "execution_count": 49,
   "metadata": {},
   "outputs": [
    {
     "name": "stdout",
     "output_type": "stream",
     "text": [
      "1\n",
      "1\n",
      "2\n",
      "3\n",
      "5\n",
      "8\n",
      "13\n",
      "21\n"
     ]
    }
   ],
   "source": [
    "for i in o1 :\n",
    "    print(i)"
   ]
  },
  {
   "cell_type": "code",
   "execution_count": 50,
   "metadata": {},
   "outputs": [
    {
     "name": "stdout",
     "output_type": "stream",
     "text": [
      "1\n",
      "1\n",
      "2\n",
      "3\n",
      "5\n",
      "8\n",
      "13\n",
      "21\n"
     ]
    }
   ],
   "source": [
    "for i in o1 :\n",
    "    print(i)"
   ]
  },
  {
   "cell_type": "code",
   "execution_count": 51,
   "metadata": {},
   "outputs": [],
   "source": [
    "def square(n):\n",
    "    i=0\n",
    "    for i in range(n):\n",
    "        yield i**2"
   ]
  },
  {
   "cell_type": "code",
   "execution_count": 52,
   "metadata": {},
   "outputs": [
    {
     "name": "stdout",
     "output_type": "stream",
     "text": [
      "0\n",
      "1\n",
      "4\n",
      "9\n",
      "16\n",
      "25\n",
      "36\n"
     ]
    }
   ],
   "source": [
    "o1=square(7)\n",
    "for i in o1 :\n",
    "    print(i)"
   ]
  },
  {
   "cell_type": "code",
   "execution_count": 53,
   "metadata": {},
   "outputs": [],
   "source": [
    "for i in o1 :\n",
    "    print(i)"
   ]
  },
  {
   "cell_type": "code",
   "execution_count": 54,
   "metadata": {},
   "outputs": [],
   "source": [
    "class Square:\n",
    "\n",
    "    def __init__(self,n):\n",
    "        self.n=n\n",
    "\n",
    "    def __iter__(self):\n",
    "        return self.square()\n",
    "    \n",
    "    def square(self) :\n",
    "        i=0\n",
    "        for i in range(self.n):\n",
    "            yield i**2"
   ]
  },
  {
   "cell_type": "code",
   "execution_count": 55,
   "metadata": {},
   "outputs": [
    {
     "name": "stdout",
     "output_type": "stream",
     "text": [
      "0\n",
      "1\n",
      "4\n",
      "9\n",
      "16\n",
      "25\n",
      "36\n"
     ]
    }
   ],
   "source": [
    "o1=Square(7)\n",
    "for i in o1 :\n",
    "    print(i)"
   ]
  },
  {
   "cell_type": "code",
   "execution_count": 56,
   "metadata": {},
   "outputs": [
    {
     "name": "stdout",
     "output_type": "stream",
     "text": [
      "0\n",
      "1\n",
      "4\n",
      "9\n",
      "16\n",
      "25\n",
      "36\n"
     ]
    }
   ],
   "source": [
    "for i in o1:\n",
    "    print(i)"
   ]
  }
 ],
 "metadata": {
  "kernelspec": {
   "display_name": "Python 3",
   "language": "python",
   "name": "python3"
  },
  "language_info": {
   "codemirror_mode": {
    "name": "ipython",
    "version": 3
   },
   "file_extension": ".py",
   "mimetype": "text/x-python",
   "name": "python",
   "nbconvert_exporter": "python",
   "pygments_lexer": "ipython3",
   "version": "3.10.4"
  },
  "orig_nbformat": 4
 },
 "nbformat": 4,
 "nbformat_minor": 2
}
