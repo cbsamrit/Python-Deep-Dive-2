{
 "cells": [
  {
   "cell_type": "code",
   "execution_count": 9,
   "metadata": {},
   "outputs": [],
   "source": [
    "from collections import namedtuple\n",
    "cards=namedtuple('cards',['rank','suit'])\n",
    "suit=('spades','clubs','diamonds','Hearts')\n",
    "rank=tuple(range(2,11))+tuple('JQKA')\n",
    "\n",
    "\n",
    "class Cards :     \n",
    "    def __iter__(self) :\n",
    "        return self.carditer()\n",
    "\n",
    "    def carditer(self):   \n",
    "        for i in suit :\n",
    "            for j in rank :\n",
    "                k=cards(i,j)\n",
    "                yield k\n",
    "\n",
    "\n",
    "            \n",
    "          "
   ]
  },
  {
   "cell_type": "code",
   "execution_count": 10,
   "metadata": {},
   "outputs": [],
   "source": [
    "o1=Cards()"
   ]
  },
  {
   "cell_type": "code",
   "execution_count": 11,
   "metadata": {},
   "outputs": [
    {
     "name": "stdout",
     "output_type": "stream",
     "text": [
      "cards(rank='spades', suit=2)\n",
      "cards(rank='spades', suit=3)\n",
      "cards(rank='spades', suit=4)\n",
      "cards(rank='spades', suit=5)\n",
      "cards(rank='spades', suit=6)\n",
      "cards(rank='spades', suit=7)\n",
      "cards(rank='spades', suit=8)\n",
      "cards(rank='spades', suit=9)\n",
      "cards(rank='spades', suit=10)\n",
      "cards(rank='spades', suit='J')\n",
      "cards(rank='spades', suit='Q')\n",
      "cards(rank='spades', suit='K')\n",
      "cards(rank='spades', suit='A')\n",
      "cards(rank='clubs', suit=2)\n",
      "cards(rank='clubs', suit=3)\n",
      "cards(rank='clubs', suit=4)\n",
      "cards(rank='clubs', suit=5)\n",
      "cards(rank='clubs', suit=6)\n",
      "cards(rank='clubs', suit=7)\n",
      "cards(rank='clubs', suit=8)\n",
      "cards(rank='clubs', suit=9)\n",
      "cards(rank='clubs', suit=10)\n",
      "cards(rank='clubs', suit='J')\n",
      "cards(rank='clubs', suit='Q')\n",
      "cards(rank='clubs', suit='K')\n",
      "cards(rank='clubs', suit='A')\n",
      "cards(rank='diamonds', suit=2)\n",
      "cards(rank='diamonds', suit=3)\n",
      "cards(rank='diamonds', suit=4)\n",
      "cards(rank='diamonds', suit=5)\n",
      "cards(rank='diamonds', suit=6)\n",
      "cards(rank='diamonds', suit=7)\n",
      "cards(rank='diamonds', suit=8)\n",
      "cards(rank='diamonds', suit=9)\n",
      "cards(rank='diamonds', suit=10)\n",
      "cards(rank='diamonds', suit='J')\n",
      "cards(rank='diamonds', suit='Q')\n",
      "cards(rank='diamonds', suit='K')\n",
      "cards(rank='diamonds', suit='A')\n",
      "cards(rank='Hearts', suit=2)\n",
      "cards(rank='Hearts', suit=3)\n",
      "cards(rank='Hearts', suit=4)\n",
      "cards(rank='Hearts', suit=5)\n",
      "cards(rank='Hearts', suit=6)\n",
      "cards(rank='Hearts', suit=7)\n",
      "cards(rank='Hearts', suit=8)\n",
      "cards(rank='Hearts', suit=9)\n",
      "cards(rank='Hearts', suit=10)\n",
      "cards(rank='Hearts', suit='J')\n",
      "cards(rank='Hearts', suit='Q')\n",
      "cards(rank='Hearts', suit='K')\n",
      "cards(rank='Hearts', suit='A')\n"
     ]
    }
   ],
   "source": [
    "for i in o1 :\n",
    "    print(i)"
   ]
  }
 ],
 "metadata": {
  "kernelspec": {
   "display_name": "Python 3",
   "language": "python",
   "name": "python3"
  },
  "language_info": {
   "codemirror_mode": {
    "name": "ipython",
    "version": 3
   },
   "file_extension": ".py",
   "mimetype": "text/x-python",
   "name": "python",
   "nbconvert_exporter": "python",
   "pygments_lexer": "ipython3",
   "version": "3.10.4"
  },
  "orig_nbformat": 4
 },
 "nbformat": 4,
 "nbformat_minor": 2
}
