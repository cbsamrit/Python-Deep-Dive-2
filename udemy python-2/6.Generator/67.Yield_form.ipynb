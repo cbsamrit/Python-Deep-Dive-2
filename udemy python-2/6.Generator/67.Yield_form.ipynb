{
 "cells": [
  {
   "cell_type": "code",
   "execution_count": 15,
   "metadata": {},
   "outputs": [],
   "source": [
    "def matrix(n) :\n",
    "    gen= ((i*j for j in range(1,n+1)) for i in range(1,n+1))\n",
    "\n",
    "    return gen"
   ]
  },
  {
   "cell_type": "code",
   "execution_count": 16,
   "metadata": {},
   "outputs": [],
   "source": [
    "g=matrix(5)"
   ]
  },
  {
   "cell_type": "code",
   "execution_count": 13,
   "metadata": {},
   "outputs": [
    {
     "name": "stdout",
     "output_type": "stream",
     "text": [
      "<generator object matrix.<locals>.<genexpr>.<genexpr> at 0x000002C8E59D7B50>\n",
      "<generator object matrix.<locals>.<genexpr>.<genexpr> at 0x000002C8E59D7A70>\n",
      "<generator object matrix.<locals>.<genexpr>.<genexpr> at 0x000002C8E59D7B50>\n",
      "<generator object matrix.<locals>.<genexpr>.<genexpr> at 0x000002C8E59D7A70>\n",
      "<generator object matrix.<locals>.<genexpr>.<genexpr> at 0x000002C8E59D7B50>\n"
     ]
    }
   ],
   "source": [
    "for i in g :\n",
    "    print(i)"
   ]
  },
  {
   "cell_type": "code",
   "execution_count": 17,
   "metadata": {},
   "outputs": [
    {
     "data": {
      "text/plain": [
       "[[1, 2, 3, 4, 5],\n",
       " [2, 4, 6, 8, 10],\n",
       " [3, 6, 9, 12, 15],\n",
       " [4, 8, 12, 16, 20],\n",
       " [5, 10, 15, 20, 25]]"
      ]
     },
     "execution_count": 17,
     "metadata": {},
     "output_type": "execute_result"
    }
   ],
   "source": [
    "l=[ list(i) for i in g]\n",
    "l"
   ]
  },
  {
   "cell_type": "code",
   "execution_count": 23,
   "metadata": {},
   "outputs": [],
   "source": [
    "def matixiter(n) :\n",
    "    for i in matrix(n) :\n",
    "        for item in i :\n",
    "            yield (item)"
   ]
  },
  {
   "cell_type": "code",
   "execution_count": 26,
   "metadata": {},
   "outputs": [
    {
     "name": "stdout",
     "output_type": "stream",
     "text": [
      "1\n",
      "2\n",
      "3\n",
      "2\n",
      "4\n",
      "6\n",
      "3\n",
      "6\n",
      "9\n"
     ]
    }
   ],
   "source": [
    "for i in matixiter(3) :\n",
    " print(i)"
   ]
  },
  {
   "cell_type": "code",
   "execution_count": 27,
   "metadata": {},
   "outputs": [],
   "source": [
    "\n",
    "def matixiter(n) :\n",
    "    for i in matrix(n) :\n",
    "        yield from i"
   ]
  },
  {
   "cell_type": "code",
   "execution_count": 28,
   "metadata": {},
   "outputs": [
    {
     "name": "stdout",
     "output_type": "stream",
     "text": [
      "1\n",
      "2\n",
      "3\n",
      "4\n",
      "2\n",
      "4\n",
      "6\n",
      "8\n",
      "3\n",
      "6\n",
      "9\n",
      "12\n",
      "4\n",
      "8\n",
      "12\n",
      "16\n"
     ]
    }
   ],
   "source": [
    "for i in matixiter(4) :\n",
    "    print(i)"
   ]
  },
  {
   "cell_type": "code",
   "execution_count": 29,
   "metadata": {},
   "outputs": [
    {
     "name": "stdout",
     "output_type": "stream",
     "text": [
      "1\n",
      "2\n",
      "3\n",
      "4\n",
      "2\n",
      "4\n",
      "6\n",
      "8\n",
      "3\n",
      "6\n",
      "9\n",
      "12\n",
      "4\n",
      "8\n",
      "12\n",
      "16\n"
     ]
    }
   ],
   "source": [
    "for i in matixiter(4) :\n",
    "    print(i)"
   ]
  },
  {
   "cell_type": "code",
   "execution_count": 30,
   "metadata": {},
   "outputs": [],
   "source": [
    "brands=[]\n",
    "\n",
    "f=open('./car-brands-1.txt','r')\n",
    "for i in f :\n",
    "    brands.append(i.strip('\\n'))\n",
    "\n",
    "f=open('./car-brands-2.txt','r')\n",
    "for i in f :\n",
    "    brands.append(i.strip('\\n'))\n",
    "\n",
    "f=open('./car-brands-3.txt','r')\n",
    "for i in f :\n",
    "    brands.append(i.strip('\\n'))"
   ]
  },
  {
   "cell_type": "code",
   "execution_count": 31,
   "metadata": {},
   "outputs": [
    {
     "data": {
      "text/plain": [
       "['Alfa Romeo',\n",
       " 'Aston Martin',\n",
       " 'Audi',\n",
       " 'Bentley',\n",
       " 'Benz',\n",
       " 'BMW',\n",
       " 'Bugatti',\n",
       " 'Cadillac',\n",
       " 'Chevrolet',\n",
       " 'Chrysler',\n",
       " 'Citroën',\n",
       " 'Corvette',\n",
       " 'DAF',\n",
       " 'Dacia',\n",
       " 'Daewoo',\n",
       " 'Daihatsu',\n",
       " 'Datsun',\n",
       " 'De Lorean',\n",
       " 'Dino',\n",
       " 'Dodge',\n",
       " 'Farboud',\n",
       " 'Ferrari',\n",
       " 'Fiat',\n",
       " 'Ford',\n",
       " 'Honda',\n",
       " 'Hummer',\n",
       " 'Hyundai',\n",
       " 'Jaguar',\n",
       " 'Jeep',\n",
       " 'KIA',\n",
       " 'Koenigsegg',\n",
       " 'Lada',\n",
       " 'Lamborghini',\n",
       " 'Lancia',\n",
       " 'Land Rover',\n",
       " 'Lexus',\n",
       " 'Ligier',\n",
       " 'Lincoln',\n",
       " 'Lotus',\n",
       " 'Martini',\n",
       " 'Maserati',\n",
       " 'Maybach',\n",
       " 'Mazda',\n",
       " 'McLaren',\n",
       " 'Mercedes-Benz',\n",
       " 'Mini',\n",
       " 'Mitsubishi',\n",
       " 'Nissan',\n",
       " 'Noble',\n",
       " 'Opel',\n",
       " 'Peugeot',\n",
       " 'Pontiac',\n",
       " 'Porsche',\n",
       " 'Renault',\n",
       " 'Rolls-Royce',\n",
       " 'Saab',\n",
       " 'Seat',\n",
       " 'Å\\xa0koda',\n",
       " 'Smart',\n",
       " 'Spyker',\n",
       " 'Subaru',\n",
       " 'Suzuki',\n",
       " 'Toyota',\n",
       " 'Vauxhall',\n",
       " 'Volkswagen',\n",
       " 'Volvo']"
      ]
     },
     "execution_count": 31,
     "metadata": {},
     "output_type": "execute_result"
    }
   ],
   "source": [
    "brands"
   ]
  },
  {
   "cell_type": "code",
   "execution_count": 34,
   "metadata": {},
   "outputs": [],
   "source": [
    "def brands(files) :\n",
    "    for i in files :\n",
    "        f=open(i,'r')\n",
    "        for item in f :\n",
    "            yield item\n"
   ]
  },
  {
   "cell_type": "code",
   "execution_count": 35,
   "metadata": {},
   "outputs": [],
   "source": [
    "files=['./car-brands-1.txt','./car-brands-2.txt','./car-brands-3.txt']"
   ]
  },
  {
   "cell_type": "code",
   "execution_count": 36,
   "metadata": {},
   "outputs": [],
   "source": [
    "k=brands(files)"
   ]
  },
  {
   "cell_type": "code",
   "execution_count": 37,
   "metadata": {},
   "outputs": [
    {
     "name": "stdout",
     "output_type": "stream",
     "text": [
      "Alfa Romeo\n",
      "\n",
      "Aston Martin\n",
      "\n",
      "Audi\n",
      "\n",
      "Bentley\n",
      "\n",
      "Benz\n",
      "\n",
      "BMW\n",
      "\n",
      "Bugatti\n",
      "\n",
      "Cadillac\n",
      "\n",
      "Chevrolet\n",
      "\n",
      "Chrysler\n",
      "\n",
      "Citroën\n",
      "\n",
      "Corvette\n",
      "\n",
      "DAF\n",
      "\n",
      "Dacia\n",
      "\n",
      "Daewoo\n",
      "\n",
      "Daihatsu\n",
      "\n",
      "Datsun\n",
      "\n",
      "De Lorean\n",
      "\n",
      "Dino\n",
      "\n",
      "Dodge\n",
      "Farboud\n",
      "\n",
      "Ferrari\n",
      "\n",
      "Fiat\n",
      "\n",
      "Ford\n",
      "\n",
      "Honda\n",
      "\n",
      "Hummer\n",
      "\n",
      "Hyundai\n",
      "\n",
      "Jaguar\n",
      "\n",
      "Jeep\n",
      "\n",
      "KIA\n",
      "\n",
      "Koenigsegg\n",
      "\n",
      "Lada\n",
      "\n",
      "Lamborghini\n",
      "\n",
      "Lancia\n",
      "\n",
      "Land Rover\n",
      "\n",
      "Lexus\n",
      "\n",
      "Ligier\n",
      "\n",
      "Lincoln\n",
      "\n",
      "Lotus\n",
      "\n",
      "Martini\n",
      "Maserati\n",
      "\n",
      "Maybach\n",
      "\n",
      "Mazda\n",
      "\n",
      "McLaren\n",
      "\n",
      "Mercedes-Benz\n",
      "\n",
      "Mini\n",
      "\n",
      "Mitsubishi\n",
      "\n",
      "Nissan\n",
      "\n",
      "Noble\n",
      "\n",
      "Opel\n",
      "\n",
      "Peugeot\n",
      "\n",
      "Pontiac\n",
      "\n",
      "Porsche\n",
      "\n",
      "Renault\n",
      "\n",
      "Rolls-Royce\n",
      "\n",
      "Saab\n",
      "\n",
      "Seat\n",
      "\n",
      "Å koda\n",
      "\n",
      "Smart\n",
      "\n",
      "Spyker\n",
      "\n",
      "Subaru\n",
      "\n",
      "Suzuki\n",
      "\n",
      "Toyota\n",
      "\n",
      "Vauxhall\n",
      "\n",
      "Volkswagen\n",
      "\n",
      "Volvo\n"
     ]
    }
   ],
   "source": [
    "for i in k :\n",
    "    print(i)"
   ]
  },
  {
   "cell_type": "code",
   "execution_count": 38,
   "metadata": {},
   "outputs": [],
   "source": [
    "def brands(files) :\n",
    "    for i in files :\n",
    "        f=open(i,'r')\n",
    "        yield from f\n"
   ]
  },
  {
   "cell_type": "code",
   "execution_count": 39,
   "metadata": {},
   "outputs": [],
   "source": [
    "k=brands(files)"
   ]
  },
  {
   "cell_type": "code",
   "execution_count": 40,
   "metadata": {},
   "outputs": [
    {
     "name": "stdout",
     "output_type": "stream",
     "text": [
      "Alfa Romeo\n",
      "\n",
      "Aston Martin\n",
      "\n",
      "Audi\n",
      "\n",
      "Bentley\n",
      "\n",
      "Benz\n",
      "\n",
      "BMW\n",
      "\n",
      "Bugatti\n",
      "\n",
      "Cadillac\n",
      "\n",
      "Chevrolet\n",
      "\n",
      "Chrysler\n",
      "\n",
      "Citroën\n",
      "\n",
      "Corvette\n",
      "\n",
      "DAF\n",
      "\n",
      "Dacia\n",
      "\n",
      "Daewoo\n",
      "\n",
      "Daihatsu\n",
      "\n",
      "Datsun\n",
      "\n",
      "De Lorean\n",
      "\n",
      "Dino\n",
      "\n",
      "Dodge\n",
      "Farboud\n",
      "\n",
      "Ferrari\n",
      "\n",
      "Fiat\n",
      "\n",
      "Ford\n",
      "\n",
      "Honda\n",
      "\n",
      "Hummer\n",
      "\n",
      "Hyundai\n",
      "\n",
      "Jaguar\n",
      "\n",
      "Jeep\n",
      "\n",
      "KIA\n",
      "\n",
      "Koenigsegg\n",
      "\n",
      "Lada\n",
      "\n",
      "Lamborghini\n",
      "\n",
      "Lancia\n",
      "\n",
      "Land Rover\n",
      "\n",
      "Lexus\n",
      "\n",
      "Ligier\n",
      "\n",
      "Lincoln\n",
      "\n",
      "Lotus\n",
      "\n",
      "Martini\n",
      "Maserati\n",
      "\n",
      "Maybach\n",
      "\n",
      "Mazda\n",
      "\n",
      "McLaren\n",
      "\n",
      "Mercedes-Benz\n",
      "\n",
      "Mini\n",
      "\n",
      "Mitsubishi\n",
      "\n",
      "Nissan\n",
      "\n",
      "Noble\n",
      "\n",
      "Opel\n",
      "\n",
      "Peugeot\n",
      "\n",
      "Pontiac\n",
      "\n",
      "Porsche\n",
      "\n",
      "Renault\n",
      "\n",
      "Rolls-Royce\n",
      "\n",
      "Saab\n",
      "\n",
      "Seat\n",
      "\n",
      "Å koda\n",
      "\n",
      "Smart\n",
      "\n",
      "Spyker\n",
      "\n",
      "Subaru\n",
      "\n",
      "Suzuki\n",
      "\n",
      "Toyota\n",
      "\n",
      "Vauxhall\n",
      "\n",
      "Volkswagen\n",
      "\n",
      "Volvo\n"
     ]
    }
   ],
   "source": [
    "for i in k :\n",
    "    print(i)"
   ]
  }
 ],
 "metadata": {
  "kernelspec": {
   "display_name": "Python 3",
   "language": "python",
   "name": "python3"
  },
  "language_info": {
   "codemirror_mode": {
    "name": "ipython",
    "version": 3
   },
   "file_extension": ".py",
   "mimetype": "text/x-python",
   "name": "python",
   "nbconvert_exporter": "python",
   "pygments_lexer": "ipython3",
   "version": "3.10.4"
  },
  "orig_nbformat": 4
 },
 "nbformat": 4,
 "nbformat_minor": 2
}
