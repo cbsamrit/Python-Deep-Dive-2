{
 "cells": [
  {
   "cell_type": "code",
   "execution_count": 2,
   "metadata": {},
   "outputs": [
    {
     "name": "stdout",
     "output_type": "stream",
     "text": [
      "finally ran !!\n"
     ]
    }
   ],
   "source": [
    "try :\n",
    "    10/2\n",
    "except ZeroDivisionError :\n",
    "    print(\"Zero Division error occured\")\n",
    "finally :\n",
    "    print(\"finally ran !!\")"
   ]
  },
  {
   "cell_type": "code",
   "execution_count": 3,
   "metadata": {},
   "outputs": [
    {
     "name": "stdout",
     "output_type": "stream",
     "text": [
      "Zero Division error occured\n",
      "finally ran !!\n"
     ]
    }
   ],
   "source": [
    "try :\n",
    "    10/0\n",
    "except ZeroDivisionError :\n",
    "    print(\"Zero Division error occured\")\n",
    "finally :\n",
    "    print(\"finally ran !!\")"
   ]
  },
  {
   "cell_type": "code",
   "execution_count": 5,
   "metadata": {},
   "outputs": [
    {
     "name": "stdout",
     "output_type": "stream",
     "text": [
      "Finally ran !!\n"
     ]
    }
   ],
   "source": [
    "def fun():\n",
    "  try :\n",
    "   1/0\n",
    "  except :\n",
    "   return\n",
    "  finally :\n",
    "   print(\"Finally ran !!\")\n",
    "\n",
    "fun()   "
   ]
  },
  {
   "cell_type": "code",
   "execution_count": 8,
   "metadata": {},
   "outputs": [
    {
     "name": "stdout",
     "output_type": "stream",
     "text": [
      "chetan Bhaurao Samri\n",
      "\n",
      "jvdnlvhlv ljrjf njldhlihf\n",
      "djjlf ndjforjrbgb v;orjrvbnv vlijeohfbe f\n",
      "jbfef erfbflihrf ffkjrhfijfr nbljhfierf\n",
      "ldfnrjfbrf fnlifhidjlvbdj vbdjvbdjvbv\n",
      "bdjvbljdbv vbdjkvbv vdbvdhv"
     ]
    }
   ],
   "source": [
    "f='./file.txt'\n",
    "def read(f):\n",
    "    with open(f,'r') as f :\n",
    "        # for  i in f :\n",
    "        #     yield i\n",
    "        yield from f\n",
    "\n",
    "o1=read(f)\n",
    "print(next(o1))\n",
    "for i in o1 :\n",
    "    print(i,end=\"\")"
   ]
  },
  {
   "cell_type": "code",
   "execution_count": 24,
   "metadata": {},
   "outputs": [
    {
     "name": "stdout",
     "output_type": "stream",
     "text": [
      "False\n"
     ]
    },
    {
     "ename": "ValueError",
     "evalue": "",
     "output_type": "error",
     "traceback": [
      "\u001b[1;31m---------------------------------------------------------------------------\u001b[0m",
      "\u001b[1;31mValueError\u001b[0m                                Traceback (most recent call last)",
      "\u001b[1;32mc:\\Users\\chetan\\Desktop\\Konverge.ai\\Python Practice\\udemy python-2\\10.Context Manager\\99.Context_manager.ipynb Cell 5\u001b[0m in \u001b[0;36m<cell line: 1>\u001b[1;34m()\u001b[0m\n\u001b[0;32m      <a href='vscode-notebook-cell:/c%3A/Users/chetan/Desktop/Konverge.ai/Python%20Practice/udemy%20python-2/10.Context%20Manager/99.Context_manager.ipynb#W4sZmlsZQ%3D%3D?line=0'>1</a>\u001b[0m \u001b[39mwith\u001b[39;00m \u001b[39mopen\u001b[39m(\u001b[39m'\u001b[39m\u001b[39m./file.txt\u001b[39m\u001b[39m'\u001b[39m) \u001b[39mas\u001b[39;00m f :\n\u001b[0;32m      <a href='vscode-notebook-cell:/c%3A/Users/chetan/Desktop/Konverge.ai/Python%20Practice/udemy%20python-2/10.Context%20Manager/99.Context_manager.ipynb#W4sZmlsZQ%3D%3D?line=1'>2</a>\u001b[0m   \u001b[39mprint\u001b[39m(f\u001b[39m.\u001b[39mclosed)\n\u001b[1;32m----> <a href='vscode-notebook-cell:/c%3A/Users/chetan/Desktop/Konverge.ai/Python%20Practice/udemy%20python-2/10.Context%20Manager/99.Context_manager.ipynb#W4sZmlsZQ%3D%3D?line=2'>3</a>\u001b[0m   \u001b[39mraise\u001b[39;00m \u001b[39mValueError\u001b[39;00m()\n",
      "\u001b[1;31mValueError\u001b[0m: "
     ]
    }
   ],
   "source": [
    "with open('./file.txt') as f :\n",
    "  print(f.closed)\n",
    "  raise ValueError()\n",
    "    "
   ]
  },
  {
   "cell_type": "code",
   "execution_count": 19,
   "metadata": {},
   "outputs": [],
   "source": [
    "f='./file.txt'\n",
    "def read(f) :\n",
    "    with open('./file.txt') as f :\n",
    "        for i in f:\n",
    "            print(i,end='')"
   ]
  },
  {
   "cell_type": "code",
   "execution_count": 20,
   "metadata": {},
   "outputs": [
    {
     "name": "stdout",
     "output_type": "stream",
     "text": [
      "chetan Bhaurao Samri\n",
      "jvdnlvhlv ljrjf njldhlihf\n",
      "djjlf ndjforjrbgb v;orjrvbnv vlijeohfbe f\n",
      "jbfef erfbflihrf ffkjrhfijfr nbljhfierf\n",
      "ldfnrjfbrf fnlifhidjlvbdj vbdjvbdjvbv\n",
      "bdjvbljdbv vbdjkvbv vdbvdhv"
     ]
    }
   ],
   "source": [
    "read(f)"
   ]
  },
  {
   "cell_type": "code",
   "execution_count": 27,
   "metadata": {},
   "outputs": [],
   "source": [
    "f='./file.txt'\n",
    "def read(f) :\n",
    "    with open('./file.txt') as f :\n",
    "        yield from f"
   ]
  },
  {
   "cell_type": "code",
   "execution_count": 29,
   "metadata": {},
   "outputs": [
    {
     "name": "stdout",
     "output_type": "stream",
     "text": [
      "chetan Bhaurao Samri\n",
      "jvdnlvhlv ljrjf njldhlihf\n",
      "djjlf ndjforjrbgb v;orjrvbnv vlijeohfbe f\n",
      "jbfef erfbflihrf ffkjrhfijfr nbljhfierf\n",
      "ldfnrjfbrf fnlifhidjlvbdj vbdjvbdjvbv\n",
      "bdjvbljdbv vbdjkvbv vdbvdhv"
     ]
    }
   ],
   "source": [
    "o1=read(f)\n",
    "for i in o1:\n",
    "    print(i,end='')"
   ]
  }
 ],
 "metadata": {
  "kernelspec": {
   "display_name": "Python 3",
   "language": "python",
   "name": "python3"
  },
  "language_info": {
   "codemirror_mode": {
    "name": "ipython",
    "version": 3
   },
   "file_extension": ".py",
   "mimetype": "text/x-python",
   "name": "python",
   "nbconvert_exporter": "python",
   "pygments_lexer": "ipython3",
   "version": "3.10.4"
  },
  "orig_nbformat": 4
 },
 "nbformat": 4,
 "nbformat_minor": 2
}
