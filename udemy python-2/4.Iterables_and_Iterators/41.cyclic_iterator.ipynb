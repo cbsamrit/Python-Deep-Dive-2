{
 "cells": [
  {
   "cell_type": "code",
   "execution_count": 19,
   "metadata": {},
   "outputs": [
    {
     "data": {
      "text/plain": [
       "['a1', 'b2', 'c3']"
      ]
     },
     "execution_count": 19,
     "metadata": {},
     "output_type": "execute_result"
    }
   ],
   "source": [
    "s=['a','b','c']\n",
    "l=['1','2','3','4','5','6']\n",
    "ls=[ item1+item2 for i,item1 in enumerate(s) for j,item2 in enumerate(l) if i==j]\n",
    "ls\n"
   ]
  },
  {
   "cell_type": "code",
   "execution_count": 29,
   "metadata": {},
   "outputs": [],
   "source": [
    "# N S W E  N S W E  N S W E\n",
    "# 0 1 2 3  4 5 6 7 8 9 10 11\n",
    "\n",
    "class cycliciterator :\n",
    "\n",
    "    def __init__(self,lt) :\n",
    "        self.list=lt\n",
    "        self.i=0\n",
    "\n",
    "    def __iter__(self) :\n",
    "        print(\"call iter\")\n",
    "        return self \n",
    "    \n",
    "    def __len__(self) :\n",
    "        return len(self.list)\n",
    "\n",
    "    def __next__(self) :\n",
    "        # print(\"call next\")\n",
    "        result=self.list[self.i%len(self)]\n",
    "        self.i+=1\n",
    "        return result  "
   ]
  },
  {
   "cell_type": "code",
   "execution_count": 26,
   "metadata": {},
   "outputs": [],
   "source": [
    "t1=cycliciterator('NSWE')\n"
   ]
  },
  {
   "cell_type": "code",
   "execution_count": 27,
   "metadata": {},
   "outputs": [
    {
     "name": "stdout",
     "output_type": "stream",
     "text": [
      "call next\n",
      "N\n",
      "call next\n",
      "S\n",
      "call next\n",
      "W\n",
      "call next\n",
      "E\n",
      "call next\n",
      "N\n",
      "call next\n",
      "S\n",
      "call next\n",
      "W\n",
      "call next\n",
      "E\n",
      "call next\n",
      "N\n",
      "call next\n",
      "S\n"
     ]
    }
   ],
   "source": [
    "for i in range(10) :\n",
    "\n",
    "    print(next(t1))"
   ]
  },
  {
   "cell_type": "code",
   "execution_count": 30,
   "metadata": {},
   "outputs": [
    {
     "name": "stdout",
     "output_type": "stream",
     "text": [
      "1N\n",
      "2S\n",
      "3W\n",
      "4E\n",
      "5N\n",
      "6S\n",
      "7W\n",
      "8E\n",
      "9N\n",
      "10S\n"
     ]
    }
   ],
   "source": [
    "n=10\n",
    "i1=cycliciterator('NSWE')\n",
    "for i in range(1, n+1) :\n",
    "\n",
    "    print(str(i)+next(i1))"
   ]
  },
  {
   "cell_type": "code",
   "execution_count": 31,
   "metadata": {},
   "outputs": [
    {
     "data": {
      "text/plain": [
       "['1N', '2S', '3W', '4E', '5N', '6S', '7W', '8E', '9N', '10S']"
      ]
     },
     "execution_count": 31,
     "metadata": {},
     "output_type": "execute_result"
    }
   ],
   "source": [
    "n=10\n",
    "i1=cycliciterator('NSWE')\n",
    "ls=[str(i)+next(i1) for i in range(1,n+1)]\n",
    "ls"
   ]
  },
  {
   "cell_type": "code",
   "execution_count": 38,
   "metadata": {},
   "outputs": [
    {
     "data": {
      "text/plain": [
       "[(1, 'N'),\n",
       " (2, 'S'),\n",
       " (3, 'W'),\n",
       " (4, 'E'),\n",
       " (5, 'N'),\n",
       " (6, 'S'),\n",
       " (7, 'W'),\n",
       " (8, 'E'),\n",
       " (9, 'N'),\n",
       " (10, 'S')]"
      ]
     },
     "execution_count": 38,
     "metadata": {},
     "output_type": "execute_result"
    }
   ],
   "source": [
    "n=10\n",
    "ls=list(zip(range(1,n+1),'NSWE'* (n//4+1)))\n",
    "ls"
   ]
  },
  {
   "cell_type": "code",
   "execution_count": 39,
   "metadata": {},
   "outputs": [
    {
     "data": {
      "text/plain": [
       "['1N', '2S', '3W', '4E', '5N', '6S', '7W', '8E', '9N', '10S']"
      ]
     },
     "execution_count": 39,
     "metadata": {},
     "output_type": "execute_result"
    }
   ],
   "source": [
    "ls=(zip(range(1,n+1),'NSWE'* (n//4+1)))\n",
    "k=[str(i)+j for i,j in ls]\n",
    "k"
   ]
  },
  {
   "cell_type": "code",
   "execution_count": null,
   "metadata": {},
   "outputs": [],
   "source": []
  }
 ],
 "metadata": {
  "kernelspec": {
   "display_name": "Python 3",
   "language": "python",
   "name": "python3"
  },
  "language_info": {
   "codemirror_mode": {
    "name": "ipython",
    "version": 3
   },
   "file_extension": ".py",
   "mimetype": "text/x-python",
   "name": "python",
   "nbconvert_exporter": "python",
   "pygments_lexer": "ipython3",
   "version": "3.10.4"
  },
  "orig_nbformat": 4
 },
 "nbformat": 4,
 "nbformat_minor": 2
}
