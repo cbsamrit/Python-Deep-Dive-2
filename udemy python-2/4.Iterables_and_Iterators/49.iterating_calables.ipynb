{
 "cells": [
  {
   "cell_type": "code",
   "execution_count": 33,
   "metadata": {},
   "outputs": [],
   "source": [
    "def counter() :\n",
    "    i=0\n",
    "\n",
    "    def inc() :\n",
    "        nonlocal i\n",
    "        i+=1\n",
    "        return i\n",
    "    \n",
    "    return inc"
   ]
  },
  {
   "cell_type": "code",
   "execution_count": 5,
   "metadata": {},
   "outputs": [],
   "source": [
    "o1=counter()\n"
   ]
  },
  {
   "cell_type": "code",
   "execution_count": 6,
   "metadata": {},
   "outputs": [
    {
     "data": {
      "text/plain": [
       "1"
      ]
     },
     "execution_count": 6,
     "metadata": {},
     "output_type": "execute_result"
    }
   ],
   "source": [
    "o1()"
   ]
  },
  {
   "cell_type": "code",
   "execution_count": 7,
   "metadata": {},
   "outputs": [
    {
     "data": {
      "text/plain": [
       "2"
      ]
     },
     "execution_count": 7,
     "metadata": {},
     "output_type": "execute_result"
    }
   ],
   "source": [
    "o1()"
   ]
  },
  {
   "cell_type": "code",
   "execution_count": 8,
   "metadata": {},
   "outputs": [],
   "source": [
    "def counter() :\n",
    "    i=0\n",
    "\n",
    "    def inc() :\n",
    "        nonlocal i\n",
    "        i+=1\n",
    "        return i\n",
    "    \n",
    "    return inc"
   ]
  },
  {
   "cell_type": "code",
   "execution_count": 31,
   "metadata": {},
   "outputs": [],
   "source": [
    "class counteriterator :\n",
    "    def __init__(self,counter) :\n",
    "        \n",
    "        self.counter=counter\n",
    "\n",
    "    def __iter__(self) :\n",
    "\n",
    "        return self\n",
    "\n",
    "    def __next__(self) :\n",
    "\n",
    "        return self.counter()  "
   ]
  },
  {
   "cell_type": "code",
   "execution_count": 32,
   "metadata": {},
   "outputs": [
    {
     "name": "stdout",
     "output_type": "stream",
     "text": [
      "1\n",
      "2\n",
      "3\n",
      "4\n",
      "5\n"
     ]
    }
   ],
   "source": [
    "o1=counter()\n",
    "e1=counteriterator(o1)\n",
    "\n",
    "for i in range(5):\n",
    "    print(next(e1))"
   ]
  },
  {
   "cell_type": "code",
   "execution_count": 42,
   "metadata": {},
   "outputs": [],
   "source": [
    "def counter() :\n",
    "    i=0\n",
    "\n",
    "    def inc() :\n",
    "        nonlocal i\n",
    "        i+=1\n",
    "        return i\n",
    "    \n",
    "    return inc"
   ]
  },
  {
   "cell_type": "code",
   "execution_count": 67,
   "metadata": {},
   "outputs": [],
   "source": [
    "class counteriterator :\n",
    "    def __init__(self,counter,sentinel) :\n",
    "        \n",
    "        self.counter_callable=counter\n",
    "        self.sentinel=sentinel\n",
    "        self.is_consumed=False\n",
    "\n",
    "    def __iter__(self) :\n",
    "\n",
    "        return self\n",
    "    \n",
    "\n",
    "    def __next__(self) :\n",
    "\n",
    "        if self.is_consumed :\n",
    "            raise  StopIteration\n",
    "        \n",
    "        else :\n",
    "         r=self.counter_callable()\n",
    "         if r==self.sentinel :\n",
    "            self.is_consumed=True\n",
    "            raise StopIteration\n",
    "         else :\n",
    "          return r "
   ]
  },
  {
   "cell_type": "code",
   "execution_count": 68,
   "metadata": {},
   "outputs": [
    {
     "name": "stdout",
     "output_type": "stream",
     "text": [
      "1\n",
      "2\n",
      "3\n",
      "4\n"
     ]
    }
   ],
   "source": [
    "o1=counter()\n",
    "e1=counteriterator(o1,5)\n",
    "\n",
    "for i in e1 :\n",
    "    print(i)\n",
    "\n",
    "# for i in range(4):\n",
    "#     print(next(e1))"
   ]
  },
  {
   "cell_type": "code",
   "execution_count": 69,
   "metadata": {},
   "outputs": [
    {
     "ename": "StopIteration",
     "evalue": "",
     "output_type": "error",
     "traceback": [
      "\u001b[1;31m---------------------------------------------------------------------------\u001b[0m",
      "\u001b[1;31mStopIteration\u001b[0m                             Traceback (most recent call last)",
      "\u001b[1;32mc:\\Users\\chetan\\Desktop\\Python Practice\\udemy python-2\\Iterables_and_Iterators\\49.iterating_calables.ipynb Cell 11\u001b[0m in \u001b[0;36m<cell line: 1>\u001b[1;34m()\u001b[0m\n\u001b[1;32m----> <a href='vscode-notebook-cell:/c%3A/Users/chetan/Desktop/Python%20Practice/udemy%20python-2/Iterables_and_Iterators/49.iterating_calables.ipynb#X20sZmlsZQ%3D%3D?line=0'>1</a>\u001b[0m \u001b[39mnext\u001b[39;49m(e1)\n",
      "\u001b[1;32mc:\\Users\\chetan\\Desktop\\Python Practice\\udemy python-2\\Iterables_and_Iterators\\49.iterating_calables.ipynb Cell 11\u001b[0m in \u001b[0;36mcounteriterator.__next__\u001b[1;34m(self)\u001b[0m\n\u001b[0;32m     <a href='vscode-notebook-cell:/c%3A/Users/chetan/Desktop/Python%20Practice/udemy%20python-2/Iterables_and_Iterators/49.iterating_calables.ipynb#X20sZmlsZQ%3D%3D?line=12'>13</a>\u001b[0m \u001b[39mdef\u001b[39;00m \u001b[39m__next__\u001b[39m(\u001b[39mself\u001b[39m) :\n\u001b[0;32m     <a href='vscode-notebook-cell:/c%3A/Users/chetan/Desktop/Python%20Practice/udemy%20python-2/Iterables_and_Iterators/49.iterating_calables.ipynb#X20sZmlsZQ%3D%3D?line=14'>15</a>\u001b[0m     \u001b[39mif\u001b[39;00m \u001b[39mself\u001b[39m\u001b[39m.\u001b[39mis_consumed :\n\u001b[1;32m---> <a href='vscode-notebook-cell:/c%3A/Users/chetan/Desktop/Python%20Practice/udemy%20python-2/Iterables_and_Iterators/49.iterating_calables.ipynb#X20sZmlsZQ%3D%3D?line=15'>16</a>\u001b[0m         \u001b[39mraise\u001b[39;00m  \u001b[39mStopIteration\u001b[39;00m\n\u001b[0;32m     <a href='vscode-notebook-cell:/c%3A/Users/chetan/Desktop/Python%20Practice/udemy%20python-2/Iterables_and_Iterators/49.iterating_calables.ipynb#X20sZmlsZQ%3D%3D?line=17'>18</a>\u001b[0m     \u001b[39melse\u001b[39;00m :\n\u001b[0;32m     <a href='vscode-notebook-cell:/c%3A/Users/chetan/Desktop/Python%20Practice/udemy%20python-2/Iterables_and_Iterators/49.iterating_calables.ipynb#X20sZmlsZQ%3D%3D?line=18'>19</a>\u001b[0m      r\u001b[39m=\u001b[39m\u001b[39mself\u001b[39m\u001b[39m.\u001b[39mcounter_callable()\n",
      "\u001b[1;31mStopIteration\u001b[0m: "
     ]
    }
   ],
   "source": [
    "next(e1)"
   ]
  },
  {
   "cell_type": "code",
   "execution_count": 70,
   "metadata": {},
   "outputs": [],
   "source": [
    "import random"
   ]
  },
  {
   "cell_type": "code",
   "execution_count": 71,
   "metadata": {},
   "outputs": [],
   "source": [
    "k=iter(lambda : random.randint(0,10),8) "
   ]
  },
  {
   "cell_type": "code",
   "execution_count": 72,
   "metadata": {},
   "outputs": [
    {
     "name": "stdout",
     "output_type": "stream",
     "text": [
      "10\n",
      "0\n",
      "1\n",
      "4\n",
      "3\n"
     ]
    }
   ],
   "source": [
    "for i in k :\n",
    "    print(i)"
   ]
  },
  {
   "cell_type": "code",
   "execution_count": 73,
   "metadata": {},
   "outputs": [],
   "source": [
    "def countdown(s=10) :\n",
    "    def run() :\n",
    "      nonlocal s\n",
    "      s-=1\n",
    "      return s\n",
    "    \n",
    "    return run\n",
    "        "
   ]
  },
  {
   "cell_type": "code",
   "execution_count": 74,
   "metadata": {},
   "outputs": [
    {
     "name": "stdout",
     "output_type": "stream",
     "text": [
      "9\n",
      "8\n",
      "7\n",
      "6\n",
      "5\n",
      "4\n",
      "3\n",
      "2\n",
      "1\n",
      "0\n",
      "-1\n",
      "-2\n",
      "-3\n",
      "-4\n",
      "-5\n"
     ]
    }
   ],
   "source": [
    "o1=countdown(10)\n",
    "for _ in range(15) :\n",
    "   \n",
    "   print(o1())"
   ]
  },
  {
   "cell_type": "code",
   "execution_count": 75,
   "metadata": {},
   "outputs": [
    {
     "name": "stdout",
     "output_type": "stream",
     "text": [
      "9\n",
      "8\n",
      "7\n",
      "6\n",
      "5\n",
      "4\n",
      "3\n",
      "2\n",
      "1\n"
     ]
    }
   ],
   "source": [
    "o1=countdown(10)\n",
    "k=iter(o1,0)\n",
    "\n",
    "for i in k :\n",
    "\n",
    "    print(i)"
   ]
  }
 ],
 "metadata": {
  "kernelspec": {
   "display_name": "Python 3",
   "language": "python",
   "name": "python3"
  },
  "language_info": {
   "codemirror_mode": {
    "name": "ipython",
    "version": 3
   },
   "file_extension": ".py",
   "mimetype": "text/x-python",
   "name": "python",
   "nbconvert_exporter": "python",
   "pygments_lexer": "ipython3",
   "version": "3.10.4"
  },
  "orig_nbformat": 4
 },
 "nbformat": 4,
 "nbformat_minor": 2
}
