{
 "cells": [
  {
   "cell_type": "code",
   "execution_count": 10,
   "metadata": {},
   "outputs": [],
   "source": [
    "import math \n",
    "\n",
    "class Circle :\n",
    "\n",
    "    def __init__(self,r) :\n",
    "        self.radius=r\n",
    "\n",
    "    @property\n",
    "    def cal(self) :\n",
    "\n",
    "        self.area= math.pi * self.radius**2\n",
    "        return  self.area\n",
    "\n",
    "    @cal.setter \n",
    "    def cal(self,a) :\n",
    "        \n",
    "        self.radius=math.sqrt(a/math.pi)\n",
    "        return  self.radius\n",
    "\n",
    "\n"
   ]
  },
  {
   "cell_type": "code",
   "execution_count": 11,
   "metadata": {},
   "outputs": [
    {
     "name": "stdout",
     "output_type": "stream",
     "text": [
      "12.566370614359172\n"
     ]
    }
   ],
   "source": [
    "t1=Circle(2)\n",
    "print(t1.cal)"
   ]
  },
  {
   "cell_type": "code",
   "execution_count": 13,
   "metadata": {},
   "outputs": [
    {
     "name": "stdout",
     "output_type": "stream",
     "text": [
      "2.061030186853819 13.345\n"
     ]
    }
   ],
   "source": [
    "t1.cal=13.345\n",
    "print(t1.radius,t1.cal)"
   ]
  },
  {
   "cell_type": "code",
   "execution_count": 9,
   "metadata": {},
   "outputs": [],
   "source": [
    "import math\n",
    "\n",
    "class circle :\n",
    "\n",
    "    def __init__ (self,r):\n",
    "        self.radius=r\n",
    "    \n",
    "    @property\n",
    "    def radius(self) :\n",
    "\n",
    "        return self._radius\n",
    "    \n",
    "    @radius.setter\n",
    "    def radius(self,r):\n",
    "     self._radius=r\n",
    "     self._area=None \n",
    "\n",
    "    @property\n",
    "    def area(self) :\n",
    "       if self._area is None :\n",
    "\n",
    "        self._area=math.pi *self.radius**2\n",
    "\n",
    "       return self._area\n",
    "     \n"
   ]
  },
  {
   "cell_type": "code",
   "execution_count": 11,
   "metadata": {},
   "outputs": [],
   "source": [
    "c = circle(3)"
   ]
  },
  {
   "cell_type": "code",
   "execution_count": 12,
   "metadata": {},
   "outputs": [
    {
     "data": {
      "text/plain": [
       "28.274333882308138"
      ]
     },
     "execution_count": 12,
     "metadata": {},
     "output_type": "execute_result"
    }
   ],
   "source": [
    "c.area"
   ]
  },
  {
   "cell_type": "code",
   "execution_count": null,
   "metadata": {},
   "outputs": [],
   "source": []
  }
 ],
 "metadata": {
  "kernelspec": {
   "display_name": "Python 3",
   "language": "python",
   "name": "python3"
  },
  "language_info": {
   "codemirror_mode": {
    "name": "ipython",
    "version": 3
   },
   "file_extension": ".py",
   "mimetype": "text/x-python",
   "name": "python",
   "nbconvert_exporter": "python",
   "pygments_lexer": "ipython3",
   "version": "3.10.4"
  },
  "orig_nbformat": 4
 },
 "nbformat": 4,
 "nbformat_minor": 2
}
