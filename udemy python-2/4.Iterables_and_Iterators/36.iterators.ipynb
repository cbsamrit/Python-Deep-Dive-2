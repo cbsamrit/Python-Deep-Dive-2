{
 "cells": [
  {
   "cell_type": "code",
   "execution_count": 12,
   "metadata": {},
   "outputs": [],
   "source": [
    "class Square :\n",
    "\n",
    "    def __init__(self,l) :\n",
    "       self.i=0\n",
    "       self.len=l\n",
    "\n",
    "    def __iter__(self) :\n",
    "\n",
    "        return self   \n",
    "\n",
    "    def __next__(self) :\n",
    "\n",
    "        if self.i > self.len :\n",
    "            raise StopIteration \n",
    "\n",
    "        else :\n",
    "            result=self.i**2\n",
    "            self.i+=1\n",
    "            return result "
   ]
  },
  {
   "cell_type": "code",
   "execution_count": 10,
   "metadata": {},
   "outputs": [
    {
     "name": "stdout",
     "output_type": "stream",
     "text": [
      "0\n",
      "1\n",
      "4\n",
      "9\n",
      "16\n",
      "25\n",
      "36\n",
      "49\n",
      "64\n",
      "81\n",
      "100\n"
     ]
    }
   ],
   "source": [
    "t1=Square(10) \n",
    "\n",
    "while True :\n",
    "    try :\n",
    "        print(next(t1))\n",
    "    except :\n",
    "        break    "
   ]
  },
  {
   "cell_type": "code",
   "execution_count": 13,
   "metadata": {},
   "outputs": [
    {
     "name": "stdout",
     "output_type": "stream",
     "text": [
      "0\n",
      "1\n",
      "4\n",
      "9\n",
      "16\n",
      "25\n"
     ]
    }
   ],
   "source": [
    "t1=Square(5)\n",
    "for i in t1 :\n",
    "    print(i)\n"
   ]
  },
  {
   "cell_type": "code",
   "execution_count": 15,
   "metadata": {},
   "outputs": [],
   "source": [
    "for i in t1 :\n",
    "    print(i)"
   ]
  },
  {
   "cell_type": "code",
   "execution_count": 17,
   "metadata": {},
   "outputs": [
    {
     "data": {
      "text/plain": [
       "[0, 1, 4, 9, 16, 25]"
      ]
     },
     "execution_count": 17,
     "metadata": {},
     "output_type": "execute_result"
    }
   ],
   "source": [
    "t1=Square(5)\n",
    "l=[ i for i in t1]\n",
    "l"
   ]
  },
  {
   "cell_type": "code",
   "execution_count": 18,
   "metadata": {},
   "outputs": [
    {
     "data": {
      "text/plain": [
       "[(0, 0), (1, 1), (2, 4), (3, 9), (4, 16), (5, 25)]"
      ]
     },
     "execution_count": 18,
     "metadata": {},
     "output_type": "execute_result"
    }
   ],
   "source": [
    "t1=Square(5)\n",
    "list(enumerate(t1))"
   ]
  },
  {
   "cell_type": "code",
   "execution_count": 19,
   "metadata": {},
   "outputs": [
    {
     "data": {
      "text/plain": [
       "[25, 16, 9, 4, 1, 0]"
      ]
     },
     "execution_count": 19,
     "metadata": {},
     "output_type": "execute_result"
    }
   ],
   "source": [
    "t1=Square(5)\n",
    "sorted(t1,reverse=True)"
   ]
  },
  {
   "cell_type": "code",
   "execution_count": 20,
   "metadata": {},
   "outputs": [],
   "source": [
    "class Square :\n",
    "\n",
    "    def __init__(self,l) :\n",
    "       self.i=0\n",
    "       self.len=l\n",
    "\n",
    "    def __iter__(self) :\n",
    "        print(\"calling iter method\")\n",
    "        return self   \n",
    "\n",
    "    def __next__(self) :\n",
    "        print(\"calling next method\")\n",
    "        if self.i > self.len :\n",
    "            raise StopIteration \n",
    "\n",
    "        else :\n",
    "            result=self.i**2\n",
    "            self.i+=1\n",
    "            return result "
   ]
  },
  {
   "cell_type": "code",
   "execution_count": 21,
   "metadata": {},
   "outputs": [
    {
     "name": "stdout",
     "output_type": "stream",
     "text": [
      "calling iter method\n",
      "calling next method\n",
      "0\n",
      "calling next method\n",
      "1\n",
      "calling next method\n",
      "4\n",
      "calling next method\n",
      "9\n",
      "calling next method\n",
      "16\n",
      "calling next method\n",
      "25\n",
      "calling next method\n"
     ]
    }
   ],
   "source": [
    "t1=Square(5)\n",
    "for i in t1 :\n",
    "    print(i)"
   ]
  },
  {
   "cell_type": "code",
   "execution_count": 24,
   "metadata": {},
   "outputs": [
    {
     "name": "stdout",
     "output_type": "stream",
     "text": [
      "calling iter method\n",
      "calling next method\n",
      "calling next method\n",
      "calling next method\n",
      "calling next method\n",
      "calling next method\n",
      "calling next method\n",
      "calling next method\n"
     ]
    },
    {
     "data": {
      "text/plain": [
       "[0, 1, 4, 9, 16, 25]"
      ]
     },
     "execution_count": 24,
     "metadata": {},
     "output_type": "execute_result"
    }
   ],
   "source": [
    "t1=Square(5)\n",
    "l=[i for i in t1]\n",
    "l"
   ]
  },
  {
   "cell_type": "code",
   "execution_count": 25,
   "metadata": {},
   "outputs": [
    {
     "name": "stdout",
     "output_type": "stream",
     "text": [
      "calling iter method\n",
      "calling next method\n",
      "calling next method\n",
      "calling next method\n",
      "calling next method\n",
      "calling next method\n",
      "calling next method\n",
      "calling next method\n"
     ]
    },
    {
     "data": {
      "text/plain": [
       "[(0, 0), (1, 1), (2, 4), (3, 9), (4, 16), (5, 25)]"
      ]
     },
     "execution_count": 25,
     "metadata": {},
     "output_type": "execute_result"
    }
   ],
   "source": [
    "t1=Square(5)\n",
    "list(enumerate(t1))"
   ]
  },
  {
   "cell_type": "code",
   "execution_count": 26,
   "metadata": {},
   "outputs": [
    {
     "name": "stdout",
     "output_type": "stream",
     "text": [
      "calling iter method\n",
      "2732526673520 2732526673520\n"
     ]
    }
   ],
   "source": [
    "t1=Square(5)\n",
    "k=iter(t1)\n",
    "print(id(t1),id(k))\n"
   ]
  }
 ],
 "metadata": {
  "kernelspec": {
   "display_name": "Python 3",
   "language": "python",
   "name": "python3"
  },
  "language_info": {
   "codemirror_mode": {
    "name": "ipython",
    "version": 3
   },
   "file_extension": ".py",
   "mimetype": "text/x-python",
   "name": "python",
   "nbconvert_exporter": "python",
   "pygments_lexer": "ipython3",
   "version": "3.10.4"
  },
  "orig_nbformat": 4
 },
 "nbformat": 4,
 "nbformat_minor": 2
}
