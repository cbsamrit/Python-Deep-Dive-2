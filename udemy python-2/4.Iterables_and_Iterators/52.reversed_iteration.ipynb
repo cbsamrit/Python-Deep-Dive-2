{
 "cells": [
  {
   "cell_type": "code",
   "execution_count": 5,
   "metadata": {},
   "outputs": [],
   "source": [
    "_suits=('Spades','Hearts','Dimonds','Clubs')\n",
    "_ranks=tuple(range(2,11))+tuple('JQKA')\n",
    "from collections import namedtuple\n",
    "\n",
    "card=namedtuple('card','rank suit')\n",
    "\n",
    "\n",
    "class carddeck :\n",
    "\n",
    "    def __init__(self) :\n",
    "        self.length= len(_suits) * len(_ranks)\n",
    "\n",
    "    def __iter__(self) :\n",
    "\n",
    "        return self.carddeckiterator(self.length)\n",
    "    \n",
    "\n",
    "    class carddeckiterator :\n",
    "        \n",
    "        def __init__(self,l) :\n",
    "             self.i=0\n",
    "             self.len=l\n",
    "             \n",
    "        def __iter__(self) :\n",
    "\n",
    "            return self \n",
    "\n",
    "        def __next__(self) :\n",
    "            \n",
    "            if self.i >= self.len :\n",
    "\n",
    "                raise StopIteration\n",
    "            \n",
    "            else :\n",
    "\n",
    "                suit=_suits[self.i//len(_ranks)]\n",
    "                rank=_ranks[self.i%len(_ranks)]\n",
    "                self.i+=1\n",
    "\n",
    "                return card(rank,suit)\n",
    "            \n",
    "\n",
    "            "
   ]
  },
  {
   "cell_type": "code",
   "execution_count": 6,
   "metadata": {},
   "outputs": [],
   "source": [
    "deck=carddeck()\n"
   ]
  },
  {
   "cell_type": "code",
   "execution_count": 7,
   "metadata": {},
   "outputs": [
    {
     "name": "stdout",
     "output_type": "stream",
     "text": [
      "card(rank=2, suit='Spades')\n",
      "card(rank=3, suit='Spades')\n",
      "card(rank=4, suit='Spades')\n",
      "card(rank=5, suit='Spades')\n",
      "card(rank=6, suit='Spades')\n",
      "card(rank=7, suit='Spades')\n",
      "card(rank=8, suit='Spades')\n",
      "card(rank=9, suit='Spades')\n",
      "card(rank=10, suit='Spades')\n",
      "card(rank='J', suit='Spades')\n",
      "card(rank='Q', suit='Spades')\n",
      "card(rank='K', suit='Spades')\n",
      "card(rank='A', suit='Spades')\n",
      "card(rank=2, suit='Hearts')\n",
      "card(rank=3, suit='Hearts')\n",
      "card(rank=4, suit='Hearts')\n",
      "card(rank=5, suit='Hearts')\n",
      "card(rank=6, suit='Hearts')\n",
      "card(rank=7, suit='Hearts')\n",
      "card(rank=8, suit='Hearts')\n",
      "card(rank=9, suit='Hearts')\n",
      "card(rank=10, suit='Hearts')\n",
      "card(rank='J', suit='Hearts')\n",
      "card(rank='Q', suit='Hearts')\n",
      "card(rank='K', suit='Hearts')\n",
      "card(rank='A', suit='Hearts')\n",
      "card(rank=2, suit='Dimonds')\n",
      "card(rank=3, suit='Dimonds')\n",
      "card(rank=4, suit='Dimonds')\n",
      "card(rank=5, suit='Dimonds')\n",
      "card(rank=6, suit='Dimonds')\n",
      "card(rank=7, suit='Dimonds')\n",
      "card(rank=8, suit='Dimonds')\n",
      "card(rank=9, suit='Dimonds')\n",
      "card(rank=10, suit='Dimonds')\n",
      "card(rank='J', suit='Dimonds')\n",
      "card(rank='Q', suit='Dimonds')\n",
      "card(rank='K', suit='Dimonds')\n",
      "card(rank='A', suit='Dimonds')\n",
      "card(rank=2, suit='Clubs')\n",
      "card(rank=3, suit='Clubs')\n",
      "card(rank=4, suit='Clubs')\n",
      "card(rank=5, suit='Clubs')\n",
      "card(rank=6, suit='Clubs')\n",
      "card(rank=7, suit='Clubs')\n",
      "card(rank=8, suit='Clubs')\n",
      "card(rank=9, suit='Clubs')\n",
      "card(rank=10, suit='Clubs')\n",
      "card(rank='J', suit='Clubs')\n",
      "card(rank='Q', suit='Clubs')\n",
      "card(rank='K', suit='Clubs')\n",
      "card(rank='A', suit='Clubs')\n"
     ]
    }
   ],
   "source": [
    "for i in deck :\n",
    "    print(i)"
   ]
  },
  {
   "cell_type": "code",
   "execution_count": 8,
   "metadata": {},
   "outputs": [
    {
     "name": "stdout",
     "output_type": "stream",
     "text": [
      "card(rank=2, suit='Spades')\n",
      "card(rank=3, suit='Spades')\n",
      "card(rank=4, suit='Spades')\n",
      "card(rank=5, suit='Spades')\n",
      "card(rank=6, suit='Spades')\n",
      "card(rank=7, suit='Spades')\n",
      "card(rank=8, suit='Spades')\n",
      "card(rank=9, suit='Spades')\n",
      "card(rank=10, suit='Spades')\n",
      "card(rank='J', suit='Spades')\n",
      "card(rank='Q', suit='Spades')\n",
      "card(rank='K', suit='Spades')\n",
      "card(rank='A', suit='Spades')\n",
      "card(rank=2, suit='Hearts')\n",
      "card(rank=3, suit='Hearts')\n",
      "card(rank=4, suit='Hearts')\n",
      "card(rank=5, suit='Hearts')\n",
      "card(rank=6, suit='Hearts')\n",
      "card(rank=7, suit='Hearts')\n",
      "card(rank=8, suit='Hearts')\n",
      "card(rank=9, suit='Hearts')\n",
      "card(rank=10, suit='Hearts')\n",
      "card(rank='J', suit='Hearts')\n",
      "card(rank='Q', suit='Hearts')\n",
      "card(rank='K', suit='Hearts')\n",
      "card(rank='A', suit='Hearts')\n",
      "card(rank=2, suit='Dimonds')\n",
      "card(rank=3, suit='Dimonds')\n",
      "card(rank=4, suit='Dimonds')\n",
      "card(rank=5, suit='Dimonds')\n",
      "card(rank=6, suit='Dimonds')\n",
      "card(rank=7, suit='Dimonds')\n",
      "card(rank=8, suit='Dimonds')\n",
      "card(rank=9, suit='Dimonds')\n",
      "card(rank=10, suit='Dimonds')\n",
      "card(rank='J', suit='Dimonds')\n",
      "card(rank='Q', suit='Dimonds')\n",
      "card(rank='K', suit='Dimonds')\n",
      "card(rank='A', suit='Dimonds')\n",
      "card(rank=2, suit='Clubs')\n",
      "card(rank=3, suit='Clubs')\n",
      "card(rank=4, suit='Clubs')\n",
      "card(rank=5, suit='Clubs')\n",
      "card(rank=6, suit='Clubs')\n",
      "card(rank=7, suit='Clubs')\n",
      "card(rank=8, suit='Clubs')\n",
      "card(rank=9, suit='Clubs')\n",
      "card(rank=10, suit='Clubs')\n",
      "card(rank='J', suit='Clubs')\n",
      "card(rank='Q', suit='Clubs')\n",
      "card(rank='K', suit='Clubs')\n",
      "card(rank='A', suit='Clubs')\n"
     ]
    }
   ],
   "source": [
    "for i in deck :\n",
    "    print(i)"
   ]
  },
  {
   "cell_type": "code",
   "execution_count": 9,
   "metadata": {},
   "outputs": [
    {
     "data": {
      "text/plain": [
       "<__main__.carddeck at 0x2263ca32590>"
      ]
     },
     "execution_count": 9,
     "metadata": {},
     "output_type": "execute_result"
    }
   ],
   "source": [
    "deck"
   ]
  },
  {
   "cell_type": "code",
   "execution_count": 40,
   "metadata": {},
   "outputs": [
    {
     "ename": "TypeError",
     "evalue": "'carddeck' object is not reversible",
     "output_type": "error",
     "traceback": [
      "\u001b[1;31m---------------------------------------------------------------------------\u001b[0m",
      "\u001b[1;31mTypeError\u001b[0m                                 Traceback (most recent call last)",
      "\u001b[1;32mc:\\Users\\chetan\\Desktop\\Python Practice\\udemy python-2\\Iterables_and_Iterators\\52.reversed_iteration.ipynb Cell 6\u001b[0m in \u001b[0;36m<cell line: 4>\u001b[1;34m()\u001b[0m\n\u001b[0;32m      <a href='vscode-notebook-cell:/c%3A/Users/chetan/Desktop/Python%20Practice/udemy%20python-2/Iterables_and_Iterators/52.reversed_iteration.ipynb#W6sZmlsZQ%3D%3D?line=0'>1</a>\u001b[0m \u001b[39m# l.reverse()\u001b[39;00m\n\u001b[0;32m      <a href='vscode-notebook-cell:/c%3A/Users/chetan/Desktop/Python%20Practice/udemy%20python-2/Iterables_and_Iterators/52.reversed_iteration.ipynb#W6sZmlsZQ%3D%3D?line=1'>2</a>\u001b[0m \u001b[39m# l=reversed(deck)\u001b[39;00m\n\u001b[1;32m----> <a href='vscode-notebook-cell:/c%3A/Users/chetan/Desktop/Python%20Practice/udemy%20python-2/Iterables_and_Iterators/52.reversed_iteration.ipynb#W6sZmlsZQ%3D%3D?line=3'>4</a>\u001b[0m \u001b[39mfor\u001b[39;00m i \u001b[39min\u001b[39;00m \u001b[39mreversed\u001b[39;49m(deck) :\n\u001b[0;32m      <a href='vscode-notebook-cell:/c%3A/Users/chetan/Desktop/Python%20Practice/udemy%20python-2/Iterables_and_Iterators/52.reversed_iteration.ipynb#W6sZmlsZQ%3D%3D?line=4'>5</a>\u001b[0m     \u001b[39mprint\u001b[39m(i)\n",
      "\u001b[1;31mTypeError\u001b[0m: 'carddeck' object is not reversible"
     ]
    }
   ],
   "source": [
    "\n",
    "# l.reverse()\n",
    "# l=reversed(deck)\n",
    "\n",
    "for i in reversed(deck) :\n",
    "    print(i)\n",
    "# print(l[0:4])"
   ]
  },
  {
   "cell_type": "code",
   "execution_count": null,
   "metadata": {},
   "outputs": [],
   "source": []
  }
 ],
 "metadata": {
  "kernelspec": {
   "display_name": "Python 3",
   "language": "python",
   "name": "python3"
  },
  "language_info": {
   "codemirror_mode": {
    "name": "ipython",
    "version": 3
   },
   "file_extension": ".py",
   "mimetype": "text/x-python",
   "name": "python",
   "nbconvert_exporter": "python",
   "pygments_lexer": "ipython3",
   "version": "3.10.4"
  },
  "orig_nbformat": 4
 },
 "nbformat": 4,
 "nbformat_minor": 2
}
