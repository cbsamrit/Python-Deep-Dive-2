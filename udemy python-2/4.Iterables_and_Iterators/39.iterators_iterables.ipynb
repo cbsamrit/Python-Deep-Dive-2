{
 "cells": [
  {
   "cell_type": "code",
   "execution_count": 1,
   "metadata": {},
   "outputs": [],
   "source": [
    "class cities :\n",
    "\n",
    "    def __init__(self) :\n",
    "        self.city=['sakoli','lakhani','bhandara','nagpur','amaravati','vardha','aarvi']\n",
    "        self.i=0\n",
    "     \n",
    "    \n",
    "    def __iter__(self) :\n",
    "        return self\n",
    "\n",
    "    def __next__(self) :\n",
    "\n",
    "        if self.i >= len(self.city) :\n",
    "\n",
    "            raise StopIteration\n",
    "            \n",
    "        \n",
    "        else: \n",
    "            \n",
    "         result=self.city[self.i]\n",
    "         self.i+=1\n",
    "         return result        "
   ]
  },
  {
   "cell_type": "code",
   "execution_count": 2,
   "metadata": {},
   "outputs": [],
   "source": [
    "e1=cities()\n"
   ]
  },
  {
   "cell_type": "code",
   "execution_count": 3,
   "metadata": {},
   "outputs": [
    {
     "name": "stdout",
     "output_type": "stream",
     "text": [
      "sakoli\n",
      "lakhani\n",
      "bhandara\n",
      "nagpur\n",
      "amaravati\n",
      "vardha\n",
      "aarvi\n"
     ]
    }
   ],
   "source": [
    "for  i in e1  :\n",
    "    print(i)"
   ]
  },
  {
   "cell_type": "code",
   "execution_count": 25,
   "metadata": {},
   "outputs": [
    {
     "data": {
      "text/plain": [
       "[(0, 'sakoli'),\n",
       " (1, 'lakhani'),\n",
       " (2, 'bhandara'),\n",
       " (3, 'nagpur'),\n",
       " (4, 'amaravati'),\n",
       " (5, 'vardha'),\n",
       " (6, 'aarvi')]"
      ]
     },
     "execution_count": 25,
     "metadata": {},
     "output_type": "execute_result"
    }
   ],
   "source": [
    "k=cities()\n",
    "list(enumerate(k))"
   ]
  },
  {
   "cell_type": "code",
   "execution_count": 26,
   "metadata": {},
   "outputs": [
    {
     "data": {
      "text/plain": [
       "['aarvi', 'amaravati', 'bhandara', 'lakhani', 'nagpur', 'sakoli', 'vardha']"
      ]
     },
     "execution_count": 26,
     "metadata": {},
     "output_type": "execute_result"
    }
   ],
   "source": [
    "l=cities()\n",
    "sorted(l)"
   ]
  },
  {
   "cell_type": "code",
   "execution_count": 27,
   "metadata": {},
   "outputs": [
    {
     "data": {
      "text/plain": [
       "['SAKOLI', 'LAKHANI', 'BHANDARA', 'NAGPUR', 'AMARAVATI', 'VARDHA', 'AARVI']"
      ]
     },
     "execution_count": 27,
     "metadata": {},
     "output_type": "execute_result"
    }
   ],
   "source": [
    "l=cities()\n",
    "[i.upper() for i in l]"
   ]
  },
  {
   "cell_type": "code",
   "execution_count": 35,
   "metadata": {},
   "outputs": [],
   "source": [
    "class cities :\n",
    "\n",
    "    def __init__(self) :\n",
    "        self.city=['sakoli','lakhani','bhandara','nagpur','amaravati','vardha','aarvi']\n",
    "\n",
    "    def __len__(self) :\n",
    "        self.len=len(self.city)\n",
    "\n",
    "        return self.len\n",
    "\n",
    "class citiesiterator :\n",
    "\n",
    "    def __init__(self,citiesobj) :\n",
    "\n",
    "       self.getobj=citiesobj\n",
    "       self.i=0\n",
    "\n",
    "    def __iter__(self) :\n",
    "\n",
    "        return self\n",
    "\n",
    "    def __next__(self): \n",
    "\n",
    "        if self.i >= len(self.getobj) :\n",
    "\n",
    "            raise StopIteration\n",
    "        \n",
    "        else :\n",
    "\n",
    "            result=self.getobj.city[self.i]\n",
    "            self.i+=1\n",
    "            return result\n",
    "            \n",
    "            \n",
    "    "
   ]
  },
  {
   "cell_type": "code",
   "execution_count": 36,
   "metadata": {},
   "outputs": [
    {
     "name": "stdout",
     "output_type": "stream",
     "text": [
      "sakoli\n",
      "lakhani\n",
      "bhandara\n",
      "nagpur\n",
      "amaravati\n",
      "vardha\n",
      "aarvi\n"
     ]
    }
   ],
   "source": [
    "c1=cities()\n",
    "e1=citiesiterator(c1)\n",
    "for i in e1 :\n",
    "    print(i)\n"
   ]
  },
  {
   "cell_type": "code",
   "execution_count": 38,
   "metadata": {},
   "outputs": [
    {
     "data": {
      "text/plain": [
       "['SAKOLI', 'LAKHANI', 'BHANDARA', 'NAGPUR', 'AMARAVATI', 'VARDHA', 'AARVI']"
      ]
     },
     "execution_count": 38,
     "metadata": {},
     "output_type": "execute_result"
    }
   ],
   "source": [
    "e2=citiesiterator(c1)\n",
    "[i.upper() for i in e2]\n"
   ]
  },
  {
   "cell_type": "code",
   "execution_count": 39,
   "metadata": {},
   "outputs": [
    {
     "ename": "TypeError",
     "evalue": "'cities' object is not iterable",
     "output_type": "error",
     "traceback": [
      "\u001b[1;31m---------------------------------------------------------------------------\u001b[0m",
      "\u001b[1;31mTypeError\u001b[0m                                 Traceback (most recent call last)",
      "\u001b[1;32mc:\\Users\\chetan\\Desktop\\Python Practice\\udemy python-2\\Iterables_and_Iterators\\39.iterators_iterables.ipynb Cell 10\u001b[0m in \u001b[0;36m<cell line: 1>\u001b[1;34m()\u001b[0m\n\u001b[1;32m----> <a href='vscode-notebook-cell:/c%3A/Users/chetan/Desktop/Python%20Practice/udemy%20python-2/Iterables_and_Iterators/39.iterators_iterables.ipynb#X22sZmlsZQ%3D%3D?line=0'>1</a>\u001b[0m \u001b[39mfor\u001b[39;00m i \u001b[39min\u001b[39;00m c1 :\n\u001b[0;32m      <a href='vscode-notebook-cell:/c%3A/Users/chetan/Desktop/Python%20Practice/udemy%20python-2/Iterables_and_Iterators/39.iterators_iterables.ipynb#X22sZmlsZQ%3D%3D?line=1'>2</a>\u001b[0m     \u001b[39mprint\u001b[39m(i)\n",
      "\u001b[1;31mTypeError\u001b[0m: 'cities' object is not iterable"
     ]
    }
   ],
   "source": [
    "for i in c1 :\n",
    "    print(i)"
   ]
  },
  {
   "cell_type": "code",
   "execution_count": 40,
   "metadata": {},
   "outputs": [],
   "source": [
    "for i in e2 :\n",
    " print(i)"
   ]
  },
  {
   "cell_type": "code",
   "execution_count": 42,
   "metadata": {},
   "outputs": [],
   "source": [
    "class citiesiterator :\n",
    "\n",
    "    def __init__(self,citiesobj) :\n",
    "       \n",
    "       print(\"we call citiesiterator init\")\n",
    "\n",
    "       self.getobj=citiesobj\n",
    "       self.i=0\n",
    "\n",
    "    def __iter__(self) :\n",
    "        \n",
    "        print(\"we call citiesiterator iter\")\n",
    "        return self\n",
    "\n",
    "    def __next__(self): \n",
    "        \n",
    "        print(\"we call next\")\n",
    "        if self.i >= len(self.getobj) :\n",
    "\n",
    "            raise StopIteration\n",
    "        \n",
    "        else :\n",
    "\n",
    "            result=self.getobj.city[self.i]\n",
    "            self.i+=1\n",
    "            return result"
   ]
  },
  {
   "cell_type": "code",
   "execution_count": 48,
   "metadata": {},
   "outputs": [
    {
     "name": "stdout",
     "output_type": "stream",
     "text": [
      "we call citiesiterator init\n"
     ]
    }
   ],
   "source": [
    "e1=citiesiterator(c1)"
   ]
  },
  {
   "cell_type": "code",
   "execution_count": 49,
   "metadata": {},
   "outputs": [
    {
     "name": "stdout",
     "output_type": "stream",
     "text": [
      "we call citiesiterator iter\n",
      "we call next\n",
      "sakoli\n",
      "we call next\n",
      "lakhani\n",
      "we call next\n",
      "bhandara\n",
      "we call next\n",
      "nagpur\n",
      "we call next\n",
      "amaravati\n",
      "we call next\n",
      "vardha\n",
      "we call next\n",
      "aarvi\n",
      "we call next\n"
     ]
    }
   ],
   "source": [
    "for i in e1 :\n",
    "    print(i)\n",
    "  "
   ]
  },
  {
   "cell_type": "code",
   "execution_count": 50,
   "metadata": {},
   "outputs": [],
   "source": [
    "class citiesiterator :\n",
    "\n",
    "    def __init__(self,citiesobj) :\n",
    "       \n",
    "       print(\"we call citiesiterator init\")\n",
    "\n",
    "       self.getobj=citiesobj\n",
    "       self.i=0\n",
    "\n",
    "    def __iter__(self) :\n",
    "        \n",
    "        print(\"we call citiesiterator iter\")\n",
    "        return self\n",
    "\n",
    "    def __next__(self): \n",
    "        \n",
    "        print(\"we call next\")\n",
    "        if self.i >= len(self.getobj) :\n",
    "\n",
    "            raise StopIteration\n",
    "        \n",
    "        else :\n",
    "\n",
    "            result=self.getobj.city[self.i]\n",
    "            self.i+=1\n",
    "            return result\n",
    "            \n",
    "            \n",
    "class cities :\n",
    "\n",
    "    def __init__(self) :\n",
    "        print(\"we call cities init\")\n",
    "        self.city=['sakoli','lakhani','bhandara','nagpur','amaravati','vardha','aarvi']\n",
    "\n",
    "    def __len__(self) :\n",
    "        self.len=len(self.city)\n",
    "\n",
    "        return self.len\n",
    "    \n",
    "    def __iter__(self) :\n",
    "        print(\"we call cities iter\") \n",
    "        return citiesiterator(self)        \n",
    "            "
   ]
  },
  {
   "cell_type": "code",
   "execution_count": 51,
   "metadata": {},
   "outputs": [
    {
     "name": "stdout",
     "output_type": "stream",
     "text": [
      "we call cities init\n",
      "we call cities iter\n",
      "we call citiesiterator init\n",
      "we call next\n",
      "sakoli\n",
      "we call next\n",
      "lakhani\n",
      "we call next\n",
      "bhandara\n",
      "we call next\n",
      "nagpur\n",
      "we call next\n",
      "amaravati\n",
      "we call next\n",
      "vardha\n",
      "we call next\n",
      "aarvi\n",
      "we call next\n"
     ]
    }
   ],
   "source": [
    "e1=cities()\n",
    "\n",
    "for i in e1 :\n",
    "    print(i)\n"
   ]
  },
  {
   "cell_type": "code",
   "execution_count": 52,
   "metadata": {},
   "outputs": [
    {
     "name": "stdout",
     "output_type": "stream",
     "text": [
      "we call cities iter\n",
      "we call citiesiterator init\n",
      "we call next\n",
      "sakoli\n",
      "we call next\n",
      "lakhani\n",
      "we call next\n",
      "bhandara\n",
      "we call next\n",
      "nagpur\n",
      "we call next\n",
      "amaravati\n",
      "we call next\n",
      "vardha\n",
      "we call next\n",
      "aarvi\n",
      "we call next\n"
     ]
    }
   ],
   "source": [
    "for i in e1 :\n",
    "    print(i)"
   ]
  },
  {
   "cell_type": "code",
   "execution_count": 54,
   "metadata": {},
   "outputs": [
    {
     "name": "stdout",
     "output_type": "stream",
     "text": [
      "we call cities iter\n",
      "we call citiesiterator init\n",
      "we call next\n",
      "we call next\n",
      "we call next\n",
      "we call next\n",
      "we call next\n",
      "we call next\n",
      "we call next\n",
      "we call next\n"
     ]
    },
    {
     "data": {
      "text/plain": [
       "['SAKOLI', 'LAKHANI', 'BHANDARA', 'NAGPUR', 'AMARAVATI', 'VARDHA', 'AARVI']"
      ]
     },
     "execution_count": 54,
     "metadata": {},
     "output_type": "execute_result"
    }
   ],
   "source": [
    "[i.upper() for i in e1]"
   ]
  },
  {
   "cell_type": "code",
   "execution_count": 17,
   "metadata": {},
   "outputs": [],
   "source": [
    "class cities :\n",
    "\n",
    "    def __init__(self) :\n",
    "        print(\"we call cities init\")\n",
    "        self.city=['sakoli','lakhani','bhandara','nagpur','amaravati','vardha','aarvi']\n",
    "\n",
    "    def __len__(self) :\n",
    "        self.len=len(self.city)\n",
    "\n",
    "        return self.len\n",
    "    \n",
    "    def __getitem__(self,s) :\n",
    "       \n",
    "       return self.city[s]\n",
    "    \n",
    "    def __iter__(self) :\n",
    "        print(\"we call cities iter\") \n",
    "        return self.citiesiterator(self)  \n",
    "    \n",
    "    class citiesiterator :\n",
    "\n",
    "     def __init__(self,citiesobj) :\n",
    "       \n",
    "       print(\"we call citiesiterator init\")\n",
    "\n",
    "       self.getobj=citiesobj\n",
    "       self.i=0\n",
    "\n",
    "     def __iter__(self) :\n",
    "        \n",
    "        print(\"we call citiesiterator iter\")\n",
    "        return self\n",
    "\n",
    "     def __next__(self): \n",
    "        \n",
    "        print(\"we call next\")\n",
    "        if self.i >= len(self.getobj) :\n",
    "\n",
    "            raise StopIteration\n",
    "        \n",
    "        else :\n",
    "\n",
    "            result=self.getobj.city[self.i]\n",
    "            self.i+=1\n",
    "            return result\n",
    "                  "
   ]
  },
  {
   "cell_type": "code",
   "execution_count": 18,
   "metadata": {},
   "outputs": [
    {
     "name": "stdout",
     "output_type": "stream",
     "text": [
      "we call cities init\n",
      "we call cities iter\n",
      "we call citiesiterator init\n",
      "we call next\n",
      "sakoli\n",
      "we call next\n",
      "lakhani\n",
      "we call next\n",
      "bhandara\n",
      "we call next\n",
      "nagpur\n",
      "we call next\n",
      "amaravati\n",
      "we call next\n",
      "vardha\n",
      "we call next\n",
      "aarvi\n",
      "we call next\n"
     ]
    }
   ],
   "source": [
    "c1=cities()\n",
    "for i in c1 :\n",
    "    print(i)"
   ]
  },
  {
   "cell_type": "code",
   "execution_count": 19,
   "metadata": {},
   "outputs": [
    {
     "name": "stdout",
     "output_type": "stream",
     "text": [
      "we call cities iter\n",
      "we call citiesiterator init\n",
      "we call cities iter\n",
      "we call citiesiterator init\n"
     ]
    }
   ],
   "source": [
    "e1=iter(c1)\n",
    "e2=iter(c1)"
   ]
  },
  {
   "cell_type": "code",
   "execution_count": 20,
   "metadata": {},
   "outputs": [
    {
     "name": "stdout",
     "output_type": "stream",
     "text": [
      "1192730369600 1192732447440\n"
     ]
    }
   ],
   "source": [
    "print(id(e1),id(e2))"
   ]
  },
  {
   "cell_type": "code",
   "execution_count": 21,
   "metadata": {},
   "outputs": [
    {
     "name": "stdout",
     "output_type": "stream",
     "text": [
      "sakoli\n"
     ]
    }
   ],
   "source": [
    "print(c1[0])"
   ]
  },
  {
   "cell_type": "code",
   "execution_count": 22,
   "metadata": {},
   "outputs": [
    {
     "name": "stdout",
     "output_type": "stream",
     "text": [
      "we call cities init\n"
     ]
    }
   ],
   "source": [
    "c1=cities()"
   ]
  },
  {
   "cell_type": "code",
   "execution_count": 23,
   "metadata": {},
   "outputs": [
    {
     "name": "stdout",
     "output_type": "stream",
     "text": [
      "we call cities iter\n",
      "we call citiesiterator init\n"
     ]
    }
   ],
   "source": [
    "i=iter(c1)"
   ]
  },
  {
   "cell_type": "code",
   "execution_count": 24,
   "metadata": {},
   "outputs": [
    {
     "name": "stdout",
     "output_type": "stream",
     "text": [
      "we call next\n"
     ]
    },
    {
     "data": {
      "text/plain": [
       "'sakoli'"
      ]
     },
     "execution_count": 24,
     "metadata": {},
     "output_type": "execute_result"
    }
   ],
   "source": [
    "next(i)"
   ]
  },
  {
   "cell_type": "code",
   "execution_count": 25,
   "metadata": {},
   "outputs": [],
   "source": [
    "l=[1,2,3,4]\n"
   ]
  },
  {
   "cell_type": "code",
   "execution_count": 26,
   "metadata": {},
   "outputs": [],
   "source": [
    "i=iter(l)"
   ]
  },
  {
   "cell_type": "code",
   "execution_count": 27,
   "metadata": {},
   "outputs": [
    {
     "data": {
      "text/plain": [
       "1"
      ]
     },
     "execution_count": 27,
     "metadata": {},
     "output_type": "execute_result"
    }
   ],
   "source": [
    "next(i)"
   ]
  },
  {
   "cell_type": "code",
   "execution_count": 28,
   "metadata": {},
   "outputs": [
    {
     "data": {
      "text/plain": [
       "2"
      ]
     },
     "execution_count": 28,
     "metadata": {},
     "output_type": "execute_result"
    }
   ],
   "source": [
    "next(i)"
   ]
  },
  {
   "cell_type": "code",
   "execution_count": 39,
   "metadata": {},
   "outputs": [
    {
     "data": {
      "text/plain": [
       "True"
      ]
     },
     "execution_count": 39,
     "metadata": {},
     "output_type": "execute_result"
    }
   ],
   "source": []
  }
 ],
 "metadata": {
  "kernelspec": {
   "display_name": "Python 3",
   "language": "python",
   "name": "python3"
  },
  "language_info": {
   "codemirror_mode": {
    "name": "ipython",
    "version": 3
   },
   "file_extension": ".py",
   "mimetype": "text/x-python",
   "name": "python",
   "nbconvert_exporter": "python",
   "pygments_lexer": "ipython3",
   "version": "3.10.4"
  },
  "orig_nbformat": 4
 },
 "nbformat": 4,
 "nbformat_minor": 2
}
