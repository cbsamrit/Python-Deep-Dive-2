{
 "cells": [
  {
   "cell_type": "code",
   "execution_count": 1,
   "metadata": {},
   "outputs": [],
   "source": [
    "import random"
   ]
  },
  {
   "cell_type": "code",
   "execution_count": 9,
   "metadata": {},
   "outputs": [],
   "source": [
    "class randomsint :\n",
    "\n",
    "    def __init__(self,length,seed=0,lower=0,upper=10) :\n",
    "        self.length=length\n",
    "        self.seed=seed\n",
    "        self.lower=lower\n",
    "        self.upper=upper\n",
    "\n",
    "    def __len__(self) :\n",
    "        return self.length\n",
    "\n",
    "    def __iter__(self) :\n",
    "\n",
    "        return self.randomintinterator(self.length,self.seed,self.lower,self.upper)\n",
    "\n",
    "    class randomintinterator :\n",
    "\n",
    "        def __init__(self,len,seed,lower,upper) :\n",
    "               self.length=len\n",
    "               self.lower=lower\n",
    "               self.upper=upper\n",
    "               self.i=0\n",
    "               random.seed(seed)\n",
    "\n",
    "        def iter (self):\n",
    "             \n",
    "             return self\n",
    "        \n",
    "        def __next__(self) :\n",
    "             if self.i >= self.length :\n",
    "                  raise StopIteration\n",
    "             \n",
    "             else :\n",
    "                  result =random.randint(self.lower,self.upper)\n",
    "                  self.i+=1\n",
    "\n",
    "                  return result\n",
    "\n",
    "\n",
    "\n",
    "               "
   ]
  },
  {
   "cell_type": "code",
   "execution_count": 10,
   "metadata": {},
   "outputs": [
    {
     "name": "stdout",
     "output_type": "stream",
     "text": [
      "6\n",
      "6\n",
      "0\n",
      "4\n",
      "8\n",
      "7\n",
      "6\n",
      "4\n",
      "7\n",
      "5\n"
     ]
    }
   ],
   "source": [
    "r=randomsint(10)\n",
    "\n",
    "for i in r :\n",
    "    print(i)"
   ]
  },
  {
   "cell_type": "code",
   "execution_count": 11,
   "metadata": {},
   "outputs": [
    {
     "data": {
      "text/plain": [
       "[0, 4, 4, 5, 6, 6, 6, 7, 7, 8]"
      ]
     },
     "execution_count": 11,
     "metadata": {},
     "output_type": "execute_result"
    }
   ],
   "source": [
    "sorted(r)"
   ]
  },
  {
   "cell_type": "code",
   "execution_count": null,
   "metadata": {},
   "outputs": [],
   "source": []
  }
 ],
 "metadata": {
  "kernelspec": {
   "display_name": "Python 3",
   "language": "python",
   "name": "python3"
  },
  "language_info": {
   "codemirror_mode": {
    "name": "ipython",
    "version": 3
   },
   "file_extension": ".py",
   "mimetype": "text/x-python",
   "name": "python",
   "nbconvert_exporter": "python",
   "pygments_lexer": "ipython3",
   "version": "3.10.4"
  },
  "orig_nbformat": 4
 },
 "nbformat": 4,
 "nbformat_minor": 2
}
