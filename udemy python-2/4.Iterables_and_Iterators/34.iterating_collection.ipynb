{
 "cells": [
  {
   "cell_type": "code",
   "execution_count": 2,
   "metadata": {},
   "outputs": [
    {
     "data": {
      "text/plain": [
       "{'a', 'b', 'c', 'x', 'y', 'z'}"
      ]
     },
     "execution_count": 2,
     "metadata": {},
     "output_type": "execute_result"
    }
   ],
   "source": [
    "s={'x','y','z','a','b','c'}\n",
    "s"
   ]
  },
  {
   "cell_type": "code",
   "execution_count": 3,
   "metadata": {},
   "outputs": [
    {
     "name": "stdout",
     "output_type": "stream",
     "text": [
      "a\n",
      "x\n",
      "y\n",
      "b\n",
      "z\n",
      "c\n"
     ]
    }
   ],
   "source": [
    "for i in s:\n",
    "    print(i)"
   ]
  },
  {
   "cell_type": "code",
   "execution_count": 4,
   "metadata": {},
   "outputs": [
    {
     "ename": "TypeError",
     "evalue": "'set' object is not subscriptable",
     "output_type": "error",
     "traceback": [
      "\u001b[1;31m---------------------------------------------------------------------------\u001b[0m",
      "\u001b[1;31mTypeError\u001b[0m                                 Traceback (most recent call last)",
      "\u001b[1;32mc:\\Users\\chetan\\Desktop\\Python Practice\\udemy python-2\\Iterables_and_Iterators\\34.iterating_collection.ipynb Cell 3\u001b[0m in \u001b[0;36m<cell line: 1>\u001b[1;34m()\u001b[0m\n\u001b[1;32m----> <a href='vscode-notebook-cell:/c%3A/Users/chetan/Desktop/Python%20Practice/udemy%20python-2/Iterables_and_Iterators/34.iterating_collection.ipynb#W2sZmlsZQ%3D%3D?line=0'>1</a>\u001b[0m s[\u001b[39m2\u001b[39;49m]\n",
      "\u001b[1;31mTypeError\u001b[0m: 'set' object is not subscriptable"
     ]
    }
   ],
   "source": [
    "s[2]"
   ]
  },
  {
   "cell_type": "code",
   "execution_count": 6,
   "metadata": {},
   "outputs": [
    {
     "name": "stdout",
     "output_type": "stream",
     "text": [
      "0\n",
      "1\n",
      "4\n",
      "9\n",
      "16\n"
     ]
    }
   ],
   "source": [
    "class Square :\n",
    "\n",
    "    def __init__(self) :\n",
    "        \n",
    "        self.i=0\n",
    "\n",
    "    def next_(self) :\n",
    "        result=self.i**2\n",
    "        self.i+=1\n",
    "        return result\n",
    "    \n",
    "t1=Square()\n",
    "\n",
    "for _ in range(5) :\n",
    "\n",
    "    print(t1.next_())"
   ]
  },
  {
   "cell_type": "code",
   "execution_count": 11,
   "metadata": {},
   "outputs": [],
   "source": [
    "class Square :\n",
    "\n",
    "    def __init__(self,l) :\n",
    "        \n",
    "        self.i=0\n",
    "        self.l=l\n",
    "\n",
    "    def __next__(self) :\n",
    "        if self.i > self.l :\n",
    "            raise ValueError\n",
    "        else:\n",
    "          result=self.i**2\n",
    "          self.i+=1\n",
    "          return result"
   ]
  },
  {
   "cell_type": "code",
   "execution_count": 13,
   "metadata": {},
   "outputs": [
    {
     "name": "stdout",
     "output_type": "stream",
     "text": [
      "0\n",
      "1\n",
      "4\n",
      "9\n",
      "16\n",
      "25\n",
      "36\n"
     ]
    }
   ],
   "source": [
    "t1=Square(6)\n",
    "\n",
    "while True :\n",
    "\n",
    "    try :\n",
    "       print(next(t1))\n",
    "\n",
    "    except :\n",
    "\n",
    "        break"
   ]
  },
  {
   "cell_type": "code",
   "execution_count": 55,
   "metadata": {},
   "outputs": [],
   "source": [
    "import random"
   ]
  },
  {
   "cell_type": "code",
   "execution_count": 58,
   "metadata": {},
   "outputs": [],
   "source": [
    "class Randomnum :\n",
    "\n",
    "    def __init__(self,len,max_l=10,min_l=0) :\n",
    "        self.i=0\n",
    "        self.len=len\n",
    "        self.max_l=max_l\n",
    "        self.min_l=min_l\n",
    "\n",
    "    def __len__(self) :\n",
    "\n",
    "        return self.len     \n",
    "\n",
    "    def __next__(self):\n",
    "      \n",
    "\n",
    "        if self.i > self.len :\n",
    "            raise ValueError\n",
    "\n",
    "        else :\n",
    "            \n",
    "            self.i+=1\n",
    "            return random.randint(self.min_l,self.max_l)\n",
    "             \n",
    "        "
   ]
  },
  {
   "cell_type": "code",
   "execution_count": 60,
   "metadata": {},
   "outputs": [
    {
     "name": "stdout",
     "output_type": "stream",
     "text": [
      "10\n",
      "3\n",
      "4\n",
      "10\n",
      "1\n",
      "2\n",
      "8\n",
      "4\n",
      "3\n",
      "4\n",
      "10\n",
      "4\n"
     ]
    }
   ],
   "source": [
    "s1=Randomnum(10) \n",
    "print(len(s1))\n",
    "while True :\n",
    "\n",
    "    try :\n",
    "        print(next(s1))\n",
    "\n",
    "    except :\n",
    "        break    "
   ]
  }
 ],
 "metadata": {
  "kernelspec": {
   "display_name": "Python 3",
   "language": "python",
   "name": "python3"
  },
  "language_info": {
   "codemirror_mode": {
    "name": "ipython",
    "version": 3
   },
   "file_extension": ".py",
   "mimetype": "text/x-python",
   "name": "python",
   "nbconvert_exporter": "python",
   "pygments_lexer": "ipython3",
   "version": "3.10.4"
  },
  "orig_nbformat": 4
 },
 "nbformat": 4,
 "nbformat_minor": 2
}
