{
 "cells": [
  {
   "cell_type": "code",
   "execution_count": 1,
   "metadata": {},
   "outputs": [],
   "source": [
    "import random"
   ]
  },
  {
   "cell_type": "code",
   "execution_count": 2,
   "metadata": {},
   "outputs": [],
   "source": [
    "class Random :\n",
    "\n",
    "    def __init__(self,n) :\n",
    "        self.n=n\n",
    "        self.i=0\n",
    "\n",
    "    def __iter__(self) :\n",
    "        return self.Randomiterator(self.n,self.i)\n",
    "\n",
    "\n",
    "    class Randomiterator:\n",
    "\n",
    "        def __init__(self,n,i) :\n",
    "              \n",
    "              self.n=n\n",
    "              self.i=i\n",
    "           \n",
    "\n",
    "\n",
    "        def __iter__(self):\n",
    "\n",
    "            return self      \n",
    "              \n",
    "        def __next__(self) :\n",
    "         \n",
    "         if self.i >=self.n :\n",
    "            raise StopIteration\n",
    "         \n",
    "         else :\n",
    "           self.i+=1\n",
    "           return random.randint(0,100) \n",
    "\n",
    "        def __max__(self) :\n",
    "              print(\"call\")\n",
    "              return max(self)"
   ]
  },
  {
   "cell_type": "code",
   "execution_count": 3,
   "metadata": {},
   "outputs": [
    {
     "name": "stdout",
     "output_type": "stream",
     "text": [
      "49\n",
      "97\n",
      "53\n",
      "5\n",
      "33\n",
      "65\n",
      "62\n",
      "51\n",
      "100\n",
      "38\n"
     ]
    }
   ],
   "source": [
    "\n",
    "temp=Random(10) \n",
    "random.seed(0)\n",
    "for i in temp :\n",
    "    print(i)"
   ]
  },
  {
   "cell_type": "code",
   "execution_count": 4,
   "metadata": {},
   "outputs": [
    {
     "name": "stdout",
     "output_type": "stream",
     "text": [
      "49\n",
      "97\n",
      "53\n",
      "5\n",
      "33\n",
      "65\n",
      "62\n",
      "51\n",
      "100\n",
      "38\n"
     ]
    }
   ],
   "source": [
    "random.seed(0)\n",
    "for i in temp :\n",
    "    print(i)\n",
    "\n",
    "    "
   ]
  },
  {
   "cell_type": "code",
   "execution_count": 8,
   "metadata": {},
   "outputs": [
    {
     "data": {
      "text/plain": [
       "([5, 33, 38, 49, 51, 53, 62, 65, 97, 100], 96, 9)"
      ]
     },
     "execution_count": 8,
     "metadata": {},
     "output_type": "execute_result"
    }
   ],
   "source": [
    "random.seed(0)\n",
    "sorted(temp) , max(temp) , min(temp)"
   ]
  }
 ],
 "metadata": {
  "kernelspec": {
   "display_name": "Python 3",
   "language": "python",
   "name": "python3"
  },
  "language_info": {
   "codemirror_mode": {
    "name": "ipython",
    "version": 3
   },
   "file_extension": ".py",
   "mimetype": "text/x-python",
   "name": "python",
   "nbconvert_exporter": "python",
   "pygments_lexer": "ipython3",
   "version": "3.10.4"
  },
  "orig_nbformat": 4
 },
 "nbformat": 4,
 "nbformat_minor": 2
}
