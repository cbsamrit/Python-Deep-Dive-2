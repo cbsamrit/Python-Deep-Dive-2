{
 "cells": [
  {
   "cell_type": "code",
   "execution_count": 6,
   "metadata": {},
   "outputs": [
    {
     "name": "stdout",
     "output_type": "stream",
     "text": [
      "2 3 0 (4, 5, 6, 7, 8) {'l': 10, 'm': 20, 'n': 30}\n"
     ]
    }
   ],
   "source": [
    "def temp(a,b,*d,c=0,**e):\n",
    "\n",
    "    print(a,b,c,d,e)\n",
    "\n",
    "\n",
    "\n",
    "temp(2,3,4,5,6,7,8,l=10,m=20,n=30)\n"
   ]
  },
  {
   "cell_type": "code",
   "execution_count": 9,
   "metadata": {},
   "outputs": [
    {
     "name": "stdout",
     "output_type": "stream",
     "text": [
      "1 5\n"
     ]
    }
   ],
   "source": [
    "a,*_,c=1,2,3,4,5\n",
    "print(a,c)"
   ]
  },
  {
   "cell_type": "code",
   "execution_count": 20,
   "metadata": {},
   "outputs": [
    {
     "name": "stdout",
     "output_type": "stream",
     "text": [
      "result is : 0.5\n",
      "we solve our problem that is given\n"
     ]
    }
   ],
   "source": [
    "a=10\n",
    "b=20\n",
    "\n",
    "try :\n",
    "\n",
    "    print(\"result is :\",a/b)\n",
    "\n",
    "except Exception as k :\n",
    "\n",
    "    print(f\"we find a {k}\")  \n",
    "\n",
    "else :\n",
    "\n",
    "    print(\"we solve our problem that is given\")      \n",
    "\n"
   ]
  },
  {
   "cell_type": "code",
   "execution_count": 16,
   "metadata": {},
   "outputs": [
    {
     "name": "stdout",
     "output_type": "stream",
     "text": [
      "2492838093376 2492838395072\n",
      "2492838093376\n",
      "2492729917712 2492729917712\n"
     ]
    }
   ],
   "source": [
    "t=(1,2,3)\n",
    "m=(1,2,3)\n",
    "print(id(t),id(m))\n",
    "# t.add(9)\n",
    "print(id(t))\n",
    "t=2\n",
    "m=2\n",
    "print(id(t),id(m))\n",
    "\n",
    "\n",
    "\n"
   ]
  },
  {
   "cell_type": "code",
   "execution_count": 21,
   "metadata": {},
   "outputs": [
    {
     "name": "stdout",
     "output_type": "stream",
     "text": [
      "2492838108272 2492838108816\n"
     ]
    }
   ],
   "source": [
    "a=1000\n",
    "b=1000\n",
    "print(id(a),id(b))"
   ]
  },
  {
   "cell_type": "code",
   "execution_count": 23,
   "metadata": {},
   "outputs": [
    {
     "name": "stdout",
     "output_type": "stream",
     "text": [
      "gh\n",
      "gh\n",
      "gh\n",
      "gh\n"
     ]
    }
   ],
   "source": [
    "s={1,2,3,4}\n",
    "\n",
    "for i in s:\n",
    "     print(\"gh\")"
   ]
  },
  {
   "cell_type": "code",
   "execution_count": 24,
   "metadata": {},
   "outputs": [
    {
     "name": "stdout",
     "output_type": "stream",
     "text": [
      "k\n"
     ]
    }
   ],
   "source": [
    "if 3 in s :\n",
    "    print(\"k\")"
   ]
  },
  {
   "cell_type": "code",
   "execution_count": 38,
   "metadata": {},
   "outputs": [
    {
     "name": "stdout",
     "output_type": "stream",
     "text": [
      "0\n",
      "3\n",
      "5\n",
      "6\n",
      "6\n",
      "6\n",
      "6\n"
     ]
    }
   ],
   "source": [
    "l=[1,2,3,1,7,1,1]\n",
    "\n",
    " "
   ]
  },
  {
   "cell_type": "code",
   "execution_count": 48,
   "metadata": {},
   "outputs": [
    {
     "name": "stdout",
     "output_type": "stream",
     "text": [
      "[[1, 2], 2, 3, [1, 2], 2, 3] 2492838368832 2492838368832\n",
      "[[100, 2], 2, 3, [100, 2], 2, 3] 2492838368832 2492838368832\n"
     ]
    }
   ],
   "source": [
    "s=[[1,2],2,3]\n",
    "t=s*2\n",
    "print(t,id(t[0]),id(t[3]))\n",
    "t[0][0]=100\n",
    "print(t,id(t[0]),id(t[3]))\n"
   ]
  },
  {
   "cell_type": "code",
   "execution_count": 50,
   "metadata": {},
   "outputs": [
    {
     "name": "stdout",
     "output_type": "stream",
     "text": [
      "(1, 2, 3, 'k', 'k', '3', 'f')\n"
     ]
    }
   ],
   "source": [
    "t=(1,2,3)\n",
    "s=\"kk3f\"\n",
    "print(t+)"
   ]
  },
  {
   "cell_type": "code",
   "execution_count": 52,
   "metadata": {},
   "outputs": [
    {
     "name": "stdout",
     "output_type": "stream",
     "text": [
      "0 7 7\n"
     ]
    }
   ],
   "source": [
    "s=\"chetan ch lmck\"\n",
    "\n",
    "print(s.index('c'),s.index('c',1),s.index('c',1,len(s)))"
   ]
  },
  {
   "cell_type": "code",
   "execution_count": 59,
   "metadata": {},
   "outputs": [
    {
     "name": "stdout",
     "output_type": "stream",
     "text": [
      "529344893407937584\n"
     ]
    }
   ],
   "source": [
    "l=frozenset[1,2,3]\n",
    "print(hash(l))\n",
    "\n"
   ]
  },
  {
   "cell_type": "code",
   "execution_count": 62,
   "metadata": {},
   "outputs": [
    {
     "name": "stdout",
     "output_type": "stream",
     "text": [
      "[1, 2, 1, 2, 1, 2]\n",
      "2492729917648 2492729917712\n"
     ]
    }
   ],
   "source": [
    "l=[1,2]\n",
    "t=l*3\n",
    "print(t)\n",
    "print(id(0),id(2))"
   ]
  }
 ],
 "metadata": {
  "kernelspec": {
   "display_name": "Python 3",
   "language": "python",
   "name": "python3"
  },
  "language_info": {
   "codemirror_mode": {
    "name": "ipython",
    "version": 3
   },
   "file_extension": ".py",
   "mimetype": "text/x-python",
   "name": "python",
   "nbconvert_exporter": "python",
   "pygments_lexer": "ipython3",
   "version": "3.10.4"
  },
  "orig_nbformat": 4
 },
 "nbformat": 4,
 "nbformat_minor": 2
}
