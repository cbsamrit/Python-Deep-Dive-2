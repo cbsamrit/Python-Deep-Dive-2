{
 "cells": [
  {
   "cell_type": "code",
   "execution_count": 1,
   "metadata": {},
   "outputs": [
    {
     "name": "stdout",
     "output_type": "stream",
     "text": [
      "1967241983744 1967241983744\n",
      "1967241983744 1967240833664\n",
      "1967241983744 1967242043072\n"
     ]
    }
   ],
   "source": [
    "l=[1,2,3]\n",
    "m=l\n",
    "print(id(l),id(m))\n",
    "n=l.copy()\n",
    "print(id(l),id(n))\n",
    "o=list(l)\n",
    "print(id(l),id(o))"
   ]
  },
  {
   "cell_type": "code",
   "execution_count": 3,
   "metadata": {},
   "outputs": [
    {
     "name": "stdout",
     "output_type": "stream",
     "text": [
      "1967242085696 1967242085696\n",
      "1967242085696 1967242085696\n"
     ]
    }
   ],
   "source": [
    "t=(1,2,3,4)\n",
    "m=t\n",
    "print(id(t),id(m))\n",
    "s=tuple(t)\n",
    "print(id(t),id(s))\n"
   ]
  },
  {
   "cell_type": "code",
   "execution_count": 4,
   "metadata": {},
   "outputs": [],
   "source": [
    "from dis import dis"
   ]
  },
  {
   "cell_type": "code",
   "execution_count": 13,
   "metadata": {},
   "outputs": [
    {
     "name": "stdout",
     "output_type": "stream",
     "text": [
      "  1           0 LOAD_CONST               0 ((1, 2, 3, 'a'))\n",
      "              2 RETURN_VALUE\n"
     ]
    }
   ],
   "source": [
    "dis(compile('(1,2,3,\"a\")','string','eval'))\n"
   ]
  },
  {
   "cell_type": "code",
   "execution_count": 14,
   "metadata": {},
   "outputs": [
    {
     "name": "stdout",
     "output_type": "stream",
     "text": [
      "  1           0 LOAD_CONST               0 (1)\n",
      "              2 LOAD_CONST               1 (2)\n",
      "              4 LOAD_CONST               2 (3)\n",
      "              6 BUILD_LIST               0\n",
      "              8 LOAD_CONST               3 ((1, 2, 3))\n",
      "             10 LIST_EXTEND              1\n",
      "             12 BUILD_TUPLE              4\n",
      "             14 RETURN_VALUE\n"
     ]
    }
   ],
   "source": [
    "dis(compile('(1,2,3,[1,2,3])',\"string\",\"eval\"))"
   ]
  },
  {
   "cell_type": "code",
   "execution_count": 20,
   "metadata": {},
   "outputs": [
    {
     "name": "stdout",
     "output_type": "stream",
     "text": [
      "  1           0 BUILD_LIST               0\n",
      "              2 LOAD_CONST               0 ((1, 2, 3, 'a'))\n",
      "              4 LIST_EXTEND              1\n",
      "              6 RETURN_VALUE\n"
     ]
    }
   ],
   "source": [
    "dis(compile('[1,2,3,\"a\"]','string','eval'))\n"
   ]
  },
  {
   "cell_type": "code",
   "execution_count": 21,
   "metadata": {},
   "outputs": [
    {
     "name": "stdout",
     "output_type": "stream",
     "text": [
      "  1           0 LOAD_CONST               0 (1)\n",
      "              2 LOAD_CONST               1 (2)\n",
      "              4 LOAD_CONST               2 (3)\n",
      "              6 LOAD_CONST               0 (1)\n",
      "              8 LOAD_CONST               1 (2)\n",
      "             10 BUILD_LIST               2\n",
      "             12 BUILD_TUPLE              4\n",
      "             14 RETURN_VALUE\n"
     ]
    }
   ],
   "source": [
    "dis(compile('(1,2,3, [1,2])', 'string', 'eval'))"
   ]
  },
  {
   "cell_type": "code",
   "execution_count": 22,
   "metadata": {},
   "outputs": [
    {
     "data": {
      "text/plain": [
       "0.09298560000024736"
      ]
     },
     "execution_count": 22,
     "metadata": {},
     "output_type": "execute_result"
    }
   ],
   "source": [
    "from timeit import timeit\n",
    "timeit(\"(1,2,3,4)\",number=10_00_000)\n"
   ]
  },
  {
   "cell_type": "code",
   "execution_count": 23,
   "metadata": {},
   "outputs": [
    {
     "data": {
      "text/plain": [
       "0.1430298000050243"
      ]
     },
     "execution_count": 23,
     "metadata": {},
     "output_type": "execute_result"
    }
   ],
   "source": [
    "timeit(\"[1,2,3,4]\",number=10_00_000)"
   ]
  },
  {
   "cell_type": "code",
   "execution_count": 1,
   "metadata": {},
   "outputs": [
    {
     "name": "stdout",
     "output_type": "stream",
     "text": [
      "1854927042880 1854927042880 1854927020544\n"
     ]
    }
   ],
   "source": [
    "l=[1,2,3]\n",
    "m=l\n",
    "s=l.copy\n",
    "print(id(l),id(m),id(s))"
   ]
  }
 ],
 "metadata": {
  "kernelspec": {
   "display_name": "Python 3",
   "language": "python",
   "name": "python3"
  },
  "language_info": {
   "codemirror_mode": {
    "name": "ipython",
    "version": 3
   },
   "file_extension": ".py",
   "mimetype": "text/x-python",
   "name": "python",
   "nbconvert_exporter": "python",
   "pygments_lexer": "ipython3",
   "version": "3.10.4"
  },
  "orig_nbformat": 4
 },
 "nbformat": 4,
 "nbformat_minor": 2
}
