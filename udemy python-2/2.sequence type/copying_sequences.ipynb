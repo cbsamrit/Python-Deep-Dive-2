{
 "cells": [
  {
   "cell_type": "code",
   "execution_count": 15,
   "metadata": {},
   "outputs": [
    {
     "name": "stdout",
     "output_type": "stream",
     "text": [
      "[4, 3, 2, 1] [1, 2, 3, 4]\n",
      "[1, 2, 3, 4]\n"
     ]
    }
   ],
   "source": [
    "s=[1,2,3,4]\n",
    "print(s[::-1],s)\n",
    "reversed(s)\n",
    "print(s)"
   ]
  },
  {
   "cell_type": "code",
   "execution_count": 18,
   "metadata": {},
   "outputs": [
    {
     "name": "stdout",
     "output_type": "stream",
     "text": [
      "2739569189120\n",
      "[1, 4, 2, 3]\n",
      "2739569189120\n"
     ]
    }
   ],
   "source": [
    "l=[1,4,2,3]\n",
    "print(id(l))\n",
    "# l.sort()\n",
    "# print(id(l))\n",
    "sorted(l)\n",
    "print(l)\n",
    "print(id(l))"
   ]
  },
  {
   "cell_type": "code",
   "execution_count": 22,
   "metadata": {},
   "outputs": [
    {
     "name": "stdout",
     "output_type": "stream",
     "text": [
      "2739568995968 2739569173376\n",
      "[1, 2, 3, 4] [1, 2, 3, 4, 3]\n"
     ]
    }
   ],
   "source": [
    "l=[1,2,3,4]\n",
    "# a=l\n",
    "# print(id(a),id(l))\n",
    "# a.append(5)\n",
    "# print(a,l)\n",
    "a=l.copy()\n",
    "print(id(a),id(l))\n",
    "a.append(3)\n",
    "print(l,a)\n",
    "\n",
    "\n"
   ]
  },
  {
   "cell_type": "code",
   "execution_count": 25,
   "metadata": {},
   "outputs": [
    {
     "name": "stdout",
     "output_type": "stream",
     "text": [
      "2739569280448 2739569173376 2739569289920 2739569289920\n"
     ]
    }
   ],
   "source": [
    "s=[1,2,3,[1,2]]\n",
    "t=s.copy()\n",
    "print(id(s),id(l),id(s[3]),id(t[3]))"
   ]
  },
  {
   "cell_type": "code",
   "execution_count": 29,
   "metadata": {},
   "outputs": [
    {
     "name": "stdout",
     "output_type": "stream",
     "text": [
      "2739569188800 2739569261824 [1, 2, 3, 4] [1, 2, 3, 4]\n",
      "2739457556720 2739457556720\n",
      "[1, 2, 3, 4] [22, 2, 3, 4]\n"
     ]
    }
   ],
   "source": [
    "l1=[1,2,3,4]\n",
    "l2=[]\n",
    "for i in l1 :\n",
    "    l2.append(i)\n",
    "\n",
    "print(id(l1),id(l2),l1,l2)  \n",
    "print(id(l1[0]),id(l2[0]))  \n",
    "l2[0]=22\n",
    "print(l1,l2)"
   ]
  },
  {
   "cell_type": "code",
   "execution_count": 37,
   "metadata": {},
   "outputs": [
    {
     "name": "stdout",
     "output_type": "stream",
     "text": [
      "2739569489344 2739569086336 [1, 2, 3, 4] [1, 2, 3, 4] 2739457556720 2739457556720\n"
     ]
    }
   ],
   "source": [
    "import copy\n",
    "l1=[1,2,3,4]\n",
    "l2=[ copy.copy(i) for i in l1]\n",
    "print(id(l1),id(l2),l1,l2,id(l1[0]),id(l2[0]))"
   ]
  },
  {
   "cell_type": "code",
   "execution_count": 32,
   "metadata": {},
   "outputs": [
    {
     "name": "stdout",
     "output_type": "stream",
     "text": [
      "2739569491264 2739569491200 2739457556720 2739457556720\n"
     ]
    }
   ],
   "source": [
    "a=[1,2,3]\n",
    "b=a.copy()\n",
    "print(id(a),id(b),id(a[0]),id(b[0]))"
   ]
  },
  {
   "cell_type": "code",
   "execution_count": 33,
   "metadata": {},
   "outputs": [
    {
     "name": "stdout",
     "output_type": "stream",
     "text": [
      "2739569518784 2739569340736\n"
     ]
    }
   ],
   "source": [
    "a=[1,2,3]\n",
    "b=list(a)\n",
    "print(id(a),id(b))"
   ]
  },
  {
   "cell_type": "code",
   "execution_count": 2,
   "metadata": {},
   "outputs": [
    {
     "name": "stdout",
     "output_type": "stream",
     "text": [
      "2668218478976 2668218746816 [(1, 2), [0, 2]] [(1, 2), [0, 2]]\n",
      "[(1, 2), [0, 2]] [(1, 2), [0, 2]]\n"
     ]
    }
   ],
   "source": [
    "l=[[1,2],[0,2]]\n",
    "s=l.copy()\n",
    "print(id(l),id(s),l,s)\n",
    "s[0][1]=100\n",
    "print(l,s)\n",
    "# s=[ i.copy() for i in l]\n",
    "# s=copy.deepcopy(l)\n",
    "# s[0][1]=100\n",
    "# print(l,s)\n",
    "\n",
    "\n"
   ]
  }
 ],
 "metadata": {
  "kernelspec": {
   "display_name": "Python 3",
   "language": "python",
   "name": "python3"
  },
  "language_info": {
   "codemirror_mode": {
    "name": "ipython",
    "version": 3
   },
   "file_extension": ".py",
   "mimetype": "text/x-python",
   "name": "python",
   "nbconvert_exporter": "python",
   "pygments_lexer": "ipython3",
   "version": "3.10.4"
  },
  "orig_nbformat": 4
 },
 "nbformat": 4,
 "nbformat_minor": 2
}
