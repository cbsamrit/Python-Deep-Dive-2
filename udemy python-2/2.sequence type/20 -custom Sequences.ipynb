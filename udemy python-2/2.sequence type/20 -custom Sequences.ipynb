{
 "cells": [
  {
   "cell_type": "code",
   "execution_count": 17,
   "metadata": {},
   "outputs": [],
   "source": [
    "class point :\n",
    "\n",
    "    def __init__(self,x,y) :\n",
    "       self._pt=(x,y)\n",
    "\n",
    "    def __repr__(self) :\n",
    "\n",
    "        return f\"point(x={self._pt[0]},y={self._pt[1]})\" \n",
    "\n",
    "    def __len__(self) :\n",
    "\n",
    "        return 2\n",
    "\n",
    "    def __getitem__(self,s) :\n",
    "\n",
    "       return self._pt[s]"
   ]
  },
  {
   "cell_type": "code",
   "execution_count": 8,
   "metadata": {},
   "outputs": [],
   "source": [
    "p1=point(2,3)"
   ]
  },
  {
   "cell_type": "code",
   "execution_count": 9,
   "metadata": {},
   "outputs": [
    {
     "data": {
      "text/plain": [
       "point(x=2,y=3)"
      ]
     },
     "execution_count": 9,
     "metadata": {},
     "output_type": "execute_result"
    }
   ],
   "source": [
    "p1\n"
   ]
  },
  {
   "cell_type": "code",
   "execution_count": 10,
   "metadata": {},
   "outputs": [
    {
     "data": {
      "text/plain": [
       "2"
      ]
     },
     "execution_count": 10,
     "metadata": {},
     "output_type": "execute_result"
    }
   ],
   "source": [
    "len(p1)"
   ]
  },
  {
   "cell_type": "code",
   "execution_count": 11,
   "metadata": {},
   "outputs": [
    {
     "data": {
      "text/plain": [
       "2"
      ]
     },
     "execution_count": 11,
     "metadata": {},
     "output_type": "execute_result"
    }
   ],
   "source": [
    "p1[0] "
   ]
  },
  {
   "cell_type": "code",
   "execution_count": 15,
   "metadata": {},
   "outputs": [
    {
     "data": {
      "text/plain": [
       "[point(x=1,y=2), point(x=1,y=2), point(x=1,y=2)]"
      ]
     },
     "execution_count": 15,
     "metadata": {},
     "output_type": "execute_result"
    }
   ],
   "source": [
    "k=[]\n",
    "for i in range(0,3):\n",
    "     k.append(point(1,2))\n",
    "\n",
    "k     \n",
    "   "
   ]
  },
  {
   "cell_type": "code",
   "execution_count": 64,
   "metadata": {},
   "outputs": [],
   "source": [
    "class polygon :\n",
    "\n",
    "    def __init__(self,*pts) :\n",
    "        \n",
    "        if pts :\n",
    "\n",
    "            self.l=[ point(*i) for i in pts]\n",
    "\n",
    "        else :\n",
    "\n",
    "            self.l=[]\n",
    "\n",
    "    def __repr__(self) :\n",
    "        \n",
    "        self.ls=','.join( str(i) for i in self.l)\n",
    "        return f'polygon=({self.ls})'\n",
    "    \n",
    "    def __len__(self) :\n",
    "\n",
    "        return len(self.l)\n",
    "    \n",
    "    def __getitem__(self,s) :\n",
    "\n",
    "        return self.l[s]\n",
    "    \n",
    "    def __add__(self,other) :\n",
    "      \n",
    "        ladd=self.l+other.l\n",
    "        print(ladd)\n",
    "        return polygon(*ladd)\n",
    "                 "
   ]
  },
  {
   "cell_type": "code",
   "execution_count": 65,
   "metadata": {},
   "outputs": [
    {
     "data": {
      "text/plain": [
       "polygon=()"
      ]
     },
     "execution_count": 65,
     "metadata": {},
     "output_type": "execute_result"
    }
   ],
   "source": [
    "c1=polygon()\n",
    "c1"
   ]
  },
  {
   "cell_type": "code",
   "execution_count": 39,
   "metadata": {},
   "outputs": [],
   "source": [
    "c2=polygon([1,2],[3,4],[5,6])"
   ]
  },
  {
   "cell_type": "code",
   "execution_count": 40,
   "metadata": {},
   "outputs": [
    {
     "data": {
      "text/plain": [
       "polygon=(point(x=1,y=2),point(x=3,y=4),point(x=5,y=6))"
      ]
     },
     "execution_count": 40,
     "metadata": {},
     "output_type": "execute_result"
    }
   ],
   "source": [
    "c2"
   ]
  },
  {
   "cell_type": "code",
   "execution_count": 42,
   "metadata": {},
   "outputs": [
    {
     "data": {
      "text/plain": [
       "3"
      ]
     },
     "execution_count": 42,
     "metadata": {},
     "output_type": "execute_result"
    }
   ],
   "source": [
    "len(c2) "
   ]
  },
  {
   "cell_type": "code",
   "execution_count": 43,
   "metadata": {},
   "outputs": [
    {
     "data": {
      "text/plain": [
       "point(x=5,y=6)"
      ]
     },
     "execution_count": 43,
     "metadata": {},
     "output_type": "execute_result"
    }
   ],
   "source": [
    "c2[2]"
   ]
  },
  {
   "cell_type": "code",
   "execution_count": 44,
   "metadata": {},
   "outputs": [
    {
     "data": {
      "text/plain": [
       "[point(x=1,y=2), point(x=3,y=4)]"
      ]
     },
     "execution_count": 44,
     "metadata": {},
     "output_type": "execute_result"
    }
   ],
   "source": [
    "c2[0:2]"
   ]
  },
  {
   "cell_type": "code",
   "execution_count": 45,
   "metadata": {},
   "outputs": [
    {
     "data": {
      "text/plain": [
       "[point(x=1,y=2), point(x=3,y=4), point(x=5,y=6)]"
      ]
     },
     "execution_count": 45,
     "metadata": {},
     "output_type": "execute_result"
    }
   ],
   "source": [
    "c2[0:3]"
   ]
  },
  {
   "cell_type": "code",
   "execution_count": 67,
   "metadata": {},
   "outputs": [
    {
     "data": {
      "text/plain": [
       "(polygon=(point(x=7,y=8),point(x=9,y=10),point(x=11,y=12)),\n",
       " polygon=(point(x=7,y=8),point(x=9,y=10),point(x=11,y=12)))"
      ]
     },
     "execution_count": 67,
     "metadata": {},
     "output_type": "execute_result"
    }
   ],
   "source": [
    "c3=polygon((7,8),(9,10),(11,12))\n",
    "c2 ,c3 "
   ]
  },
  {
   "cell_type": "code",
   "execution_count": 74,
   "metadata": {},
   "outputs": [],
   "source": [
    "class polygon :\n",
    "\n",
    "    def __init__(self,*pts) :\n",
    "        \n",
    "        if pts :\n",
    "\n",
    "            self.l=[ point(*i) for i in pts]\n",
    "\n",
    "        else :\n",
    "\n",
    "            self.l=[]\n",
    "\n",
    "    def __repr__(self) :\n",
    "        \n",
    "        self.ls=','.join( str(i) for i in self.l)\n",
    "        return f'polygon=({self.ls})'\n",
    "    \n",
    "    def __len__(self) :\n",
    "\n",
    "        return len(self.l)\n",
    "    \n",
    "    def __getitem__(self,s) :\n",
    "\n",
    "        return self.l[s]\n",
    "    \n",
    "    def __add__(self,other) :\n",
    "      \n",
    "        ladd=self.l+other.l\n",
    "        print(ladd)\n",
    "        return polygon(*ladd)\n",
    "    \n",
    "    def __iadd__(self,other) :\n",
    "\n",
    "        self.l+=other.l\n",
    "        return self"
   ]
  },
  {
   "cell_type": "code",
   "execution_count": 78,
   "metadata": {},
   "outputs": [],
   "source": [
    "c2=polygon([1,2],[3,4],[5,6])\n",
    "c3=polygon((7,8),(9,10),(11,12))"
   ]
  },
  {
   "cell_type": "code",
   "execution_count": 79,
   "metadata": {},
   "outputs": [
    {
     "data": {
      "text/plain": [
       "(polygon=(point(x=1,y=2),point(x=3,y=4),point(x=5,y=6)),\n",
       " polygon=(point(x=7,y=8),point(x=9,y=10),point(x=11,y=12)))"
      ]
     },
     "execution_count": 79,
     "metadata": {},
     "output_type": "execute_result"
    }
   ],
   "source": [
    "c2 , c3"
   ]
  },
  {
   "cell_type": "code",
   "execution_count": 80,
   "metadata": {},
   "outputs": [
    {
     "name": "stdout",
     "output_type": "stream",
     "text": [
      "[point(x=1,y=2), point(x=3,y=4), point(x=5,y=6), point(x=7,y=8), point(x=9,y=10), point(x=11,y=12)]\n"
     ]
    }
   ],
   "source": [
    "# c2 +c3\n",
    "c2+=c3"
   ]
  },
  {
   "cell_type": "code",
   "execution_count": null,
   "metadata": {},
   "outputs": [],
   "source": []
  }
 ],
 "metadata": {
  "kernelspec": {
   "display_name": "Python 3",
   "language": "python",
   "name": "python3"
  },
  "language_info": {
   "codemirror_mode": {
    "name": "ipython",
    "version": 3
   },
   "file_extension": ".py",
   "mimetype": "text/x-python",
   "name": "python",
   "nbconvert_exporter": "python",
   "pygments_lexer": "ipython3",
   "version": "3.10.4"
  },
  "orig_nbformat": 4
 },
 "nbformat": 4,
 "nbformat_minor": 2
}
