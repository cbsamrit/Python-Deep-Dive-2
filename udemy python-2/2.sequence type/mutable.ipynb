{
 "cells": [
  {
   "cell_type": "code",
   "execution_count": 4,
   "metadata": {},
   "outputs": [
    {
     "name": "stdout",
     "output_type": "stream",
     "text": [
      "2339752479616 [1, 2, 3, 4, 5]\n",
      "2339752479616 [1, 2, 3, 4, 5, 'a']\n",
      "2339752479616 []\n",
      "2339752485760 []\n"
     ]
    }
   ],
   "source": [
    "l=[1,2,3,4,5]\n",
    "print(id(l),l)\n",
    "l.append('a')\n",
    "print(id(l),l)\n",
    "l.clear()\n",
    "print(id(l),l)\n",
    "l.append(2)\n",
    "l=[]\n",
    "print(id(l),l)"
   ]
  },
  {
   "cell_type": "code",
   "execution_count": 7,
   "metadata": {},
   "outputs": [
    {
     "name": "stdout",
     "output_type": "stream",
     "text": [
      "2339752615808 2339752615808\n",
      "[1, 2, 3, 4] []\n",
      "2339752615808 2339752484992\n"
     ]
    }
   ],
   "source": [
    "l=[1,2,3,4]\n",
    "m=l\n",
    "print(id(l),id(m))\n",
    "m=[]\n",
    "print(l,m)\n",
    "print(id(l),id(m))"
   ]
  },
  {
   "cell_type": "code",
   "execution_count": 9,
   "metadata": {},
   "outputs": [
    {
     "name": "stdout",
     "output_type": "stream",
     "text": [
      "2339752619904\n",
      "['a', 2, 3, 3, 4, 5] 2339752619904\n"
     ]
    }
   ],
   "source": [
    "l=[1,2,3,3,4,5]\n",
    "print(id(l))\n",
    "l[0:1]=['a']\n",
    "print(l,id(l))"
   ]
  },
  {
   "cell_type": "code",
   "execution_count": 10,
   "metadata": {},
   "outputs": [
    {
     "name": "stdout",
     "output_type": "stream",
     "text": [
      "['a', 2, 3, 3, 4, 5, 3] 2339752619904\n"
     ]
    }
   ],
   "source": [
    "l.append(3)\n",
    "print(l,id(l))"
   ]
  },
  {
   "cell_type": "code",
   "execution_count": 11,
   "metadata": {},
   "outputs": [
    {
     "name": "stdout",
     "output_type": "stream",
     "text": [
      "2339752681472 ['a', 2, 3, 3, 4, 5, 3, 4]\n"
     ]
    }
   ],
   "source": [
    "l=l+[4]\n",
    "print(id(l),l)"
   ]
  },
  {
   "cell_type": "code",
   "execution_count": 16,
   "metadata": {},
   "outputs": [
    {
     "name": "stdout",
     "output_type": "stream",
     "text": [
      "2339752681472 [2, 3, 3, 4, 1, 2, 3, 4, 5, 1, 2, 3, 4, 5]\n"
     ]
    }
   ],
   "source": [
    "l.extend([1,2,3,4,5])\n",
    "print(id(l),l)"
   ]
  },
  {
   "cell_type": "code",
   "execution_count": 19,
   "metadata": {},
   "outputs": [
    {
     "name": "stdout",
     "output_type": "stream",
     "text": [
      "2 2339752681472 [3, 1, 3, 4, 5, 1, 2, 3, 4, 5]\n",
      "2339752681472 [3, 1, 3, 4, 5, 1, 3, 4, 5]\n"
     ]
    }
   ],
   "source": [
    "k=l.pop(2)\n",
    "print(k,id(l),l)\n",
    "l.remove(2)\n",
    "print(id(l),l)"
   ]
  },
  {
   "cell_type": "code",
   "execution_count": 20,
   "metadata": {},
   "outputs": [
    {
     "name": "stdout",
     "output_type": "stream",
     "text": [
      "2339752681472 ['a', 3, 1, 3, 4, 5, 1, 3, 4, 5]\n"
     ]
    }
   ],
   "source": [
    "l.insert(0,'a')\n",
    "print(id(l),l)"
   ]
  },
  {
   "cell_type": "code",
   "execution_count": 21,
   "metadata": {},
   "outputs": [
    {
     "name": "stdout",
     "output_type": "stream",
     "text": [
      "2339752681472 ['a', 3, 1, 3, 4, 5, 1, 3, 4, 5, 3]\n"
     ]
    }
   ],
   "source": [
    "l.append(3)\n",
    "print(id(l),l)"
   ]
  },
  {
   "cell_type": "code",
   "execution_count": 24,
   "metadata": {},
   "outputs": [
    {
     "name": "stdout",
     "output_type": "stream",
     "text": [
      "2339752681472 [1, 3, 3, 3, 3, 4, 4, 5, 5, 'a']\n",
      "2339752681472 [1, 3, 3, 3, 3, 4, 4, 5, 5]\n"
     ]
    }
   ],
   "source": [
    "l.reverse()\n",
    "print(id(l),l)\n",
    "l.pop(len(l)-1)\n",
    "l.sort()\n",
    "print(id(l),l)\n"
   ]
  },
  {
   "cell_type": "code",
   "execution_count": 27,
   "metadata": {},
   "outputs": [
    {
     "name": "stdout",
     "output_type": "stream",
     "text": [
      "2339752638592 2339753180800 [1, 2, 3] [1, 2, 3]\n",
      "[3, 2, 1] 2339753209792\n"
     ]
    }
   ],
   "source": [
    "l=[1,2,3]\n",
    "m=l.copy()\n",
    "print(id(m),id(l),m,l)\n",
    "l=l[::-1]\n",
    "print(l,id(l))\n",
    "\n"
   ]
  }
 ],
 "metadata": {
  "kernelspec": {
   "display_name": "Python 3",
   "language": "python",
   "name": "python3"
  },
  "language_info": {
   "codemirror_mode": {
    "name": "ipython",
    "version": 3
   },
   "file_extension": ".py",
   "mimetype": "text/x-python",
   "name": "python",
   "nbconvert_exporter": "python",
   "pygments_lexer": "ipython3",
   "version": "3.10.4"
  },
  "orig_nbformat": 4
 },
 "nbformat": 4,
 "nbformat_minor": 2
}
