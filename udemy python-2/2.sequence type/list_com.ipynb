{
 "cells": [
  {
   "cell_type": "code",
   "execution_count": 1,
   "metadata": {},
   "outputs": [
    {
     "name": "stdout",
     "output_type": "stream",
     "text": [
      "[0, 0, 0, 0, 1, 2, 0, 2, 4]\n"
     ]
    }
   ],
   "source": [
    "l=[]\n",
    "for i in range(0,3) :\n",
    "    for j in range(0,3) :\n",
    "        l.append(i*j)\n",
    "\n",
    "print(l)\n"
   ]
  },
  {
   "cell_type": "code",
   "execution_count": 9,
   "metadata": {},
   "outputs": [
    {
     "data": {
      "text/plain": [
       "[[0, 0, 0], [0, 1, 2]]"
      ]
     },
     "execution_count": 9,
     "metadata": {},
     "output_type": "execute_result"
    }
   ],
   "source": [
    "l=[[i*j for i in range(0,3)] for j in range(0,2)]\n",
    "l\n"
   ]
  },
  {
   "cell_type": "code",
   "execution_count": 10,
   "metadata": {},
   "outputs": [],
   "source": [
    "square=[]\n",
    "for i in range(1,101) :\n",
    "    square.append(i**2)"
   ]
  },
  {
   "cell_type": "code",
   "execution_count": 11,
   "metadata": {},
   "outputs": [
    {
     "data": {
      "text/plain": [
       "[1, 4, 9, 16, 25, 36, 49, 64, 81, 100]"
      ]
     },
     "execution_count": 11,
     "metadata": {},
     "output_type": "execute_result"
    }
   ],
   "source": [
    "square[0:10]"
   ]
  },
  {
   "cell_type": "code",
   "execution_count": 12,
   "metadata": {},
   "outputs": [
    {
     "data": {
      "text/plain": [
       "[1, 4, 9, 16, 25, 36, 49, 64, 81, 100]"
      ]
     },
     "execution_count": 12,
     "metadata": {},
     "output_type": "execute_result"
    }
   ],
   "source": [
    "square=[i**2 for i in range(1,101)]\n",
    "square[0:10]"
   ]
  },
  {
   "cell_type": "code",
   "execution_count": 14,
   "metadata": {},
   "outputs": [
    {
     "data": {
      "text/plain": [
       "[4, 16, 36, 64, 100, 144, 196, 256, 324, 400]"
      ]
     },
     "execution_count": 14,
     "metadata": {},
     "output_type": "execute_result"
    }
   ],
   "source": [
    "square=[]\n",
    "for i in range(1,101) :\n",
    "    if i%2==0 :\n",
    "        square.append(i**2)\n",
    "square[0:10]      \n"
   ]
  },
  {
   "cell_type": "code",
   "execution_count": 15,
   "metadata": {},
   "outputs": [
    {
     "data": {
      "text/plain": [
       "[4, 16, 36, 64, 100, 144, 196, 256, 324, 400]"
      ]
     },
     "execution_count": 15,
     "metadata": {},
     "output_type": "execute_result"
    }
   ],
   "source": [
    "square=[i**2 for i in range(1,101) if i%2==0]\n",
    "square[0:10]"
   ]
  },
  {
   "cell_type": "code",
   "execution_count": 36,
   "metadata": {},
   "outputs": [],
   "source": [
    "from dis import dis\n",
    "compile_code=compile('[i**2 for i in (1,2,3)]',filename='',mode='eval')\n"
   ]
  },
  {
   "cell_type": "code",
   "execution_count": 37,
   "metadata": {},
   "outputs": [
    {
     "name": "stdout",
     "output_type": "stream",
     "text": [
      "  1           0 LOAD_CONST               0 (<code object <listcomp> at 0x000001437A9421E0, file \"\", line 1>)\n",
      "              2 LOAD_CONST               1 ('<listcomp>')\n",
      "              4 MAKE_FUNCTION            0\n",
      "              6 LOAD_CONST               2 ((1, 2, 3))\n",
      "              8 GET_ITER\n",
      "             10 CALL_FUNCTION            1\n",
      "             12 RETURN_VALUE\n",
      "\n",
      "Disassembly of <code object <listcomp> at 0x000001437A9421E0, file \"\", line 1>:\n",
      "  1           0 BUILD_LIST               0\n",
      "              2 LOAD_FAST                0 (.0)\n",
      "        >>    4 FOR_ITER                 6 (to 18)\n",
      "              6 STORE_FAST               1 (i)\n",
      "              8 LOAD_FAST                1 (i)\n",
      "             10 LOAD_CONST               0 (2)\n",
      "             12 BINARY_POWER\n",
      "             14 LIST_APPEND              2\n",
      "             16 JUMP_ABSOLUTE            2 (to 4)\n",
      "        >>   18 RETURN_VALUE\n"
     ]
    }
   ],
   "source": [
    "dis(compile_code)"
   ]
  },
  {
   "cell_type": "code",
   "execution_count": 38,
   "metadata": {},
   "outputs": [],
   "source": [
    " t=[ [i*j for j in range(1,11)] for i in range(1,11)]"
   ]
  },
  {
   "cell_type": "code",
   "execution_count": 39,
   "metadata": {},
   "outputs": [
    {
     "data": {
      "text/plain": [
       "[[1, 2, 3, 4, 5, 6, 7, 8, 9, 10],\n",
       " [2, 4, 6, 8, 10, 12, 14, 16, 18, 20],\n",
       " [3, 6, 9, 12, 15, 18, 21, 24, 27, 30],\n",
       " [4, 8, 12, 16, 20, 24, 28, 32, 36, 40],\n",
       " [5, 10, 15, 20, 25, 30, 35, 40, 45, 50],\n",
       " [6, 12, 18, 24, 30, 36, 42, 48, 54, 60],\n",
       " [7, 14, 21, 28, 35, 42, 49, 56, 63, 70],\n",
       " [8, 16, 24, 32, 40, 48, 56, 64, 72, 80],\n",
       " [9, 18, 27, 36, 45, 54, 63, 72, 81, 90],\n",
       " [10, 20, 30, 40, 50, 60, 70, 80, 90, 100]]"
      ]
     },
     "execution_count": 39,
     "metadata": {},
     "output_type": "execute_result"
    }
   ],
   "source": [
    "t"
   ]
  },
  {
   "cell_type": "code",
   "execution_count": 41,
   "metadata": {},
   "outputs": [],
   "source": [
    "from math import factorial\n",
    "def combo (n,k) :\n",
    "    return factorial(n) // factorial(k) * factorial(n-k)\n",
    "\n",
    "size=10 \n",
    "\n",
    "pascal=[ [combo(n,k) for k in range(n+1)] for n in range(size+1)]"
   ]
  },
  {
   "cell_type": "code",
   "execution_count": 42,
   "metadata": {},
   "outputs": [
    {
     "data": {
      "text/plain": [
       "[[1],\n",
       " [1, 1],\n",
       " [4, 2, 1],\n",
       " [36, 12, 3, 1],\n",
       " [576, 144, 24, 4, 1],\n",
       " [14400, 2880, 360, 40, 5, 1],\n",
       " [518400, 86400, 8640, 720, 60, 6, 1],\n",
       " [25401600, 3628800, 302400, 20160, 1260, 84, 7, 1],\n",
       " [1625702400, 203212800, 14515200, 806400, 40320, 2016, 112, 8, 1],\n",
       " [131681894400,\n",
       "  14631321600,\n",
       "  914457600,\n",
       "  43545600,\n",
       "  1814400,\n",
       "  72576,\n",
       "  3024,\n",
       "  144,\n",
       "  9,\n",
       "  1],\n",
       " [13168189440000,\n",
       "  1316818944000,\n",
       "  73156608000,\n",
       "  3048192000,\n",
       "  108864000,\n",
       "  3628800,\n",
       "  120960,\n",
       "  4320,\n",
       "  180,\n",
       "  10,\n",
       "  1]]"
      ]
     },
     "execution_count": 42,
     "metadata": {},
     "output_type": "execute_result"
    }
   ],
   "source": [
    "pascal"
   ]
  },
  {
   "cell_type": "code",
   "execution_count": 44,
   "metadata": {},
   "outputs": [],
   "source": [
    "l1=['a','b','c']\n",
    "l2=['x','y','z']\n",
    "l=[ s1+s2 for s1 in l1 for s2 in l2]"
   ]
  },
  {
   "cell_type": "code",
   "execution_count": 45,
   "metadata": {},
   "outputs": [
    {
     "data": {
      "text/plain": [
       "['ax', 'ay', 'az', 'bx', 'by', 'bz', 'cx', 'cy', 'cz']"
      ]
     },
     "execution_count": 45,
     "metadata": {},
     "output_type": "execute_result"
    }
   ],
   "source": [
    "l"
   ]
  },
  {
   "cell_type": "code",
   "execution_count": 46,
   "metadata": {},
   "outputs": [],
   "source": [
    "l1=['a','b','c']\n",
    "l2=['b','c','d']\n",
    "r=[]\n",
    "for s1 in l1 :\n",
    "    for s2 in l2 :\n",
    "        if s1!=s2 :\n",
    "            r.append(s1+s2)\n",
    "            "
   ]
  },
  {
   "cell_type": "code",
   "execution_count": 47,
   "metadata": {},
   "outputs": [
    {
     "data": {
      "text/plain": [
       "['ab', 'ac', 'ad', 'bc', 'bd', 'cb', 'cd']"
      ]
     },
     "execution_count": 47,
     "metadata": {},
     "output_type": "execute_result"
    }
   ],
   "source": [
    "r"
   ]
  },
  {
   "cell_type": "code",
   "execution_count": 49,
   "metadata": {},
   "outputs": [],
   "source": [
    "r=[s1+s2 for s1 in l1 for s2 in l2 if s1!=s2]"
   ]
  },
  {
   "cell_type": "code",
   "execution_count": 50,
   "metadata": {},
   "outputs": [
    {
     "data": {
      "text/plain": [
       "['ab', 'ac', 'ad', 'bc', 'bd', 'cb', 'cd']"
      ]
     },
     "execution_count": 50,
     "metadata": {},
     "output_type": "execute_result"
    }
   ],
   "source": [
    "r"
   ]
  },
  {
   "cell_type": "code",
   "execution_count": 52,
   "metadata": {},
   "outputs": [
    {
     "data": {
      "text/plain": [
       "[(1, 'a'), (2, 'b'), (3, 'c'), (4, 'd')]"
      ]
     },
     "execution_count": 52,
     "metadata": {},
     "output_type": "execute_result"
    }
   ],
   "source": [
    "l1=[1,2,3,4,5,6,7,8]\n",
    "l2=['a','b','c','d']\n",
    "\n",
    "list(zip(l1,l2))"
   ]
  },
  {
   "cell_type": "code",
   "execution_count": 53,
   "metadata": {},
   "outputs": [
    {
     "data": {
      "text/plain": [
       "[(1, 'a'), (2, 'b'), (3, 'c'), (4, 'd')]"
      ]
     },
     "execution_count": 53,
     "metadata": {},
     "output_type": "execute_result"
    }
   ],
   "source": [
    "temp=[]\n",
    "for s1,i1 in enumerate(l1) :\n",
    "    for s2,i2 in enumerate(l2):\n",
    "        if(s1==s2):\n",
    "            temp.append((i1,i2))\n",
    "temp            "
   ]
  },
  {
   "cell_type": "code",
   "execution_count": 55,
   "metadata": {},
   "outputs": [],
   "source": [
    "sam=[ [(i1,i2) for s2,i2 in enumerate(l2) ]for s1,i1 in enumerate(l1) if s1==s2]"
   ]
  },
  {
   "cell_type": "code",
   "execution_count": 56,
   "metadata": {},
   "outputs": [
    {
     "data": {
      "text/plain": [
       "[[(4, 'a'), (4, 'b'), (4, 'c'), (4, 'd')]]"
      ]
     },
     "execution_count": 56,
     "metadata": {},
     "output_type": "execute_result"
    }
   ],
   "source": [
    "sam"
   ]
  },
  {
   "cell_type": "code",
   "execution_count": 59,
   "metadata": {},
   "outputs": [
    {
     "data": {
      "text/plain": [
       "80"
      ]
     },
     "execution_count": 59,
     "metadata": {},
     "output_type": "execute_result"
    }
   ],
   "source": [
    "v1=[1,2,3,4,5,0,3]\n",
    "v2=[6,7,8,9]\n",
    "dot=0\n",
    "for i in v2 :\n",
    "    dot+=i*v1[v2.index(i)]\n",
    "\n",
    "dot    "
   ]
  },
  {
   "cell_type": "code",
   "execution_count": 60,
   "metadata": {},
   "outputs": [
    {
     "data": {
      "text/plain": [
       "80"
      ]
     },
     "execution_count": 60,
     "metadata": {},
     "output_type": "execute_result"
    }
   ],
   "source": [
    "k=list(zip(v1,v2))\n",
    "k=[i*j for  i, j in k]\n",
    "dot=sum(k)\n",
    "dot"
   ]
  },
  {
   "cell_type": "code",
   "execution_count": 61,
   "metadata": {},
   "outputs": [
    {
     "data": {
      "text/plain": [
       "False"
      ]
     },
     "execution_count": 61,
     "metadata": {},
     "output_type": "execute_result"
    }
   ],
   "source": [
    "'number' in globals()"
   ]
  },
  {
   "cell_type": "code",
   "execution_count": 63,
   "metadata": {},
   "outputs": [
    {
     "data": {
      "text/plain": [
       "[0, 1, 4, 9, 16]"
      ]
     },
     "execution_count": 63,
     "metadata": {},
     "output_type": "execute_result"
    }
   ],
   "source": [
    "l=[number**2 for number in range(5)]\n",
    "l"
   ]
  },
  {
   "cell_type": "code",
   "execution_count": 67,
   "metadata": {},
   "outputs": [
    {
     "data": {
      "text/plain": [
       "[0, 100, 200, 300, 400]"
      ]
     },
     "execution_count": 67,
     "metadata": {},
     "output_type": "execute_result"
    }
   ],
   "source": [
    "number=100\n",
    "l=[number*i for i in range(5)]\n",
    "l\n"
   ]
  },
  {
   "cell_type": "code",
   "execution_count": 68,
   "metadata": {},
   "outputs": [
    {
     "data": {
      "text/plain": [
       "100"
      ]
     },
     "execution_count": 68,
     "metadata": {},
     "output_type": "execute_result"
    }
   ],
   "source": [
    "number"
   ]
  },
  {
   "cell_type": "code",
   "execution_count": 69,
   "metadata": {},
   "outputs": [],
   "source": [
    "fun=[lambda x :x**1 , lambda x :x**2 ,lambda x :x**3]\n"
   ]
  },
  {
   "cell_type": "code",
   "execution_count": 82,
   "metadata": {},
   "outputs": [
    {
     "name": "stdout",
     "output_type": "stream",
     "text": [
      "10\n",
      "100\n",
      "1000\n"
     ]
    }
   ],
   "source": [
    "# print(fun[0](10) , fun(1)[10] , fun(2)[10])\n",
    "print(fun[0](10))\n",
    "print(fun[1](10))\n",
    "print(fun[2](10))"
   ]
  },
  {
   "cell_type": "code",
   "execution_count": 83,
   "metadata": {},
   "outputs": [
    {
     "name": "stdout",
     "output_type": "stream",
     "text": [
      "100000\n",
      "100000\n",
      "100000\n"
     ]
    }
   ],
   "source": [
    "fun=[]\n",
    "for i in range(6) :\n",
    "\n",
    "    fun.append(lambda x : x**i)\n",
    "\n",
    "print(fun[0](10))\n",
    "print(fun[1](10))\n",
    "print(fun[2](10))    "
   ]
  },
  {
   "cell_type": "code",
   "execution_count": 87,
   "metadata": {},
   "outputs": [],
   "source": [
    "fun=[ lambda x ,com=i: x**com for i in range(6)]"
   ]
  },
  {
   "cell_type": "code",
   "execution_count": 88,
   "metadata": {},
   "outputs": [
    {
     "name": "stdout",
     "output_type": "stream",
     "text": [
      "10\n",
      "100\n"
     ]
    }
   ],
   "source": [
    "\n",
    "print(fun[1](10))\n",
    "print(fun[2](10))"
   ]
  }
 ],
 "metadata": {
  "kernelspec": {
   "display_name": "Python 3",
   "language": "python",
   "name": "python3"
  },
  "language_info": {
   "codemirror_mode": {
    "name": "ipython",
    "version": 3
   },
   "file_extension": ".py",
   "mimetype": "text/x-python",
   "name": "python",
   "nbconvert_exporter": "python",
   "pygments_lexer": "ipython3",
   "version": "3.10.4"
  },
  "orig_nbformat": 4
 },
 "nbformat": 4,
 "nbformat_minor": 2
}
