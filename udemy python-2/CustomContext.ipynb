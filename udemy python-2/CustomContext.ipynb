{
 "cells": [
  {
   "cell_type": "code",
   "execution_count": 1,
   "metadata": {},
   "outputs": [
    {
     "name": "stdout",
     "output_type": "stream",
     "text": [
      "we enter\n",
      "Chetan Bhaurao Samrit\n",
      "Shilpa Bhaurao Samrit\n",
      "Yashoda Bhaurao Samritwe exit\n"
     ]
    }
   ],
   "source": [
    "f='./test.txt'\n",
    "\n",
    "class emp:\n",
    "    def __init__(self,f) :\n",
    "        self.file=f\n",
    "        self.file_obj=None\n",
    "\n",
    "    def __enter__(self) :\n",
    "        print(\"we enter\")\n",
    "        self.file_obj=open(self.file) \n",
    "        return self.file_obj\n",
    "\n",
    "    def __exit__(self,l,m,n):\n",
    "        print(\"we exit\")\n",
    "        if not self.file_obj.closed:\n",
    "            self.file_obj.close()\n",
    "        else:\n",
    "            return False    \n",
    "\n",
    "with emp(f) as f :\n",
    "    for i in f:\n",
    "        print(i,end=\"\")\n"
   ]
  }
 ],
 "metadata": {
  "kernelspec": {
   "display_name": "Python 3",
   "language": "python",
   "name": "python3"
  },
  "language_info": {
   "codemirror_mode": {
    "name": "ipython",
    "version": 3
   },
   "file_extension": ".py",
   "mimetype": "text/x-python",
   "name": "python",
   "nbconvert_exporter": "python",
   "pygments_lexer": "ipython3",
   "version": "3.10.4"
  },
  "orig_nbformat": 4
 },
 "nbformat": 4,
 "nbformat_minor": 2
}
