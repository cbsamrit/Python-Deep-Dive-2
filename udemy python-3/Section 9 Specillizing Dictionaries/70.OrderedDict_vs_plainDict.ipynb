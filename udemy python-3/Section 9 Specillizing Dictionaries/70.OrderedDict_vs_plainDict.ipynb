{
 "cells": [
  {
   "cell_type": "code",
   "execution_count": 1,
   "metadata": {},
   "outputs": [],
   "source": [
    "from collections import OrderedDict  "
   ]
  },
  {
   "attachments": {},
   "cell_type": "markdown",
   "metadata": {},
   "source": [
    "Normal dict popitem and reversed"
   ]
  },
  {
   "cell_type": "code",
   "execution_count": 35,
   "metadata": {},
   "outputs": [
    {
     "name": "stdout",
     "output_type": "stream",
     "text": [
      "c\n",
      "b\n",
      "a\n"
     ]
    }
   ],
   "source": [
    "d1=dict(a=1,b=2,c=3)\n",
    "for i in reversed(d):\n",
    "    print(i)"
   ]
  },
  {
   "cell_type": "code",
   "execution_count": 36,
   "metadata": {},
   "outputs": [
    {
     "name": "stdout",
     "output_type": "stream",
     "text": [
      "['c', 'b', 'a']\n"
     ]
    }
   ],
   "source": [
    "print(list(reversed(d)))"
   ]
  },
  {
   "cell_type": "code",
   "execution_count": 38,
   "metadata": {},
   "outputs": [
    {
     "name": "stdout",
     "output_type": "stream",
     "text": [
      "a\n",
      "{'b': 2, 'c': 3}\n"
     ]
    }
   ],
   "source": [
    "first_item=(next(iter(d1.keys())))\n",
    "print(first_item)\n",
    "del d1[first_item]\n",
    "print(d1)\n",
    "\n"
   ]
  },
  {
   "cell_type": "code",
   "execution_count": 30,
   "metadata": {},
   "outputs": [
    {
     "name": "stdout",
     "output_type": "stream",
     "text": [
      "('c', 3)\n",
      "{'a': 1, 'b': 2}\n"
     ]
    }
   ],
   "source": [
    "print(d1.popitem())\n",
    "print(d1)"
   ]
  },
  {
   "attachments": {},
   "cell_type": "markdown",
   "metadata": {},
   "source": [
    "OrderedDict popitem and reversed"
   ]
  },
  {
   "cell_type": "code",
   "execution_count": 32,
   "metadata": {},
   "outputs": [
    {
     "name": "stdout",
     "output_type": "stream",
     "text": [
      "d\n",
      "c\n",
      "b\n",
      "a\n"
     ]
    }
   ],
   "source": [
    "d2=OrderedDict()\n",
    "d2['a']=1\n",
    "d2['b']=2\n",
    "d2['c']=3\n",
    "d2['d']=4\n",
    "for i in reversed(d2):\n",
    "    print(i)"
   ]
  },
  {
   "cell_type": "code",
   "execution_count": 33,
   "metadata": {},
   "outputs": [
    {
     "name": "stdout",
     "output_type": "stream",
     "text": [
      "('d', 4)\n",
      "OrderedDict([('a', 1), ('b', 2), ('c', 3)])\n",
      "('a', 1)\n",
      "OrderedDict([('b', 2), ('c', 3)])\n"
     ]
    }
   ],
   "source": [
    "print(d2.popitem())\n",
    "print(d2)\n",
    "print(d2.popitem(last=False))\n",
    "print(d2)"
   ]
  },
  {
   "attachments": {},
   "cell_type": "markdown",
   "metadata": {},
   "source": [
    "normal dict move  to end and first"
   ]
  },
  {
   "cell_type": "code",
   "execution_count": 40,
   "metadata": {},
   "outputs": [
    {
     "name": "stdout",
     "output_type": "stream",
     "text": [
      "{'a': 1, 'b': 2, 'c': 3, 'd': 4}\n"
     ]
    }
   ],
   "source": [
    "d2 = dict(a=1, b=2, c=3, d=4)\n",
    "print(d2)\n"
   ]
  },
  {
   "cell_type": "code",
   "execution_count": 42,
   "metadata": {},
   "outputs": [
    {
     "name": "stdout",
     "output_type": "stream",
     "text": [
      "{'a': 1, 'c': 3, 'd': 4, 'b': 2}\n"
     ]
    }
   ],
   "source": [
    "value= d2.pop('b') # move to end\n",
    "d2['b']=value\n",
    "print(d2)"
   ]
  },
  {
   "cell_type": "code",
   "execution_count": 43,
   "metadata": {},
   "outputs": [
    {
     "name": "stdout",
     "output_type": "stream",
     "text": [
      "{'a': 1, 'b': 2, 'c': 3, 'd': 4}\n",
      "{'c': 2, 'a': 1, 'b': 2, 'd': 4}\n"
     ]
    }
   ],
   "source": [
    "d2 = dict(a=1, b=2, c=3, d=4)\n",
    "print(d2)\n",
    "d={}\n",
    "val=d2.pop('c')\n",
    "d['c']=value\n",
    "for i in d2 :\n",
    "    d[i]=d2[i]\n",
    "\n",
    "print(d)    "
   ]
  },
  {
   "cell_type": "code",
   "execution_count": 46,
   "metadata": {},
   "outputs": [
    {
     "name": "stdout",
     "output_type": "stream",
     "text": [
      "OrderedDict([('a', 1), ('b', 2), ('c', 3), ('d', 4)])\n",
      "OrderedDict([('c', 3), ('a', 1), ('d', 4), ('b', 2)])\n"
     ]
    }
   ],
   "source": [
    "d2=dict(a=1,b=2,c=3,d=4)\n",
    "d1=OrderedDict(d2)\n",
    "print(d1)\n",
    "d1.move_to_end('b')\n",
    "d1.move_to_end('c',last=False)\n",
    "print(d1)\n"
   ]
  },
  {
   "attachments": {},
   "cell_type": "markdown",
   "metadata": {},
   "source": [
    "Equality Comparision in normal Dict and orderd Dict"
   ]
  },
  {
   "cell_type": "code",
   "execution_count": 47,
   "metadata": {},
   "outputs": [
    {
     "name": "stdout",
     "output_type": "stream",
     "text": [
      "True\n"
     ]
    }
   ],
   "source": [
    "d1=dict(a=1,b=2,c=3,d=4)\n",
    "d2=dict(c=3,b=2,a=1,d=4)\n",
    "print(d1==d2)\n"
   ]
  },
  {
   "cell_type": "code",
   "execution_count": 49,
   "metadata": {},
   "outputs": [
    {
     "data": {
      "text/plain": [
       "True"
      ]
     },
     "execution_count": 49,
     "metadata": {},
     "output_type": "execute_result"
    }
   ],
   "source": [
    "d1.keys()==d2.keys()"
   ]
  },
  {
   "cell_type": "code",
   "execution_count": 50,
   "metadata": {},
   "outputs": [
    {
     "data": {
      "text/plain": [
       "False"
      ]
     },
     "execution_count": 50,
     "metadata": {},
     "output_type": "execute_result"
    }
   ],
   "source": [
    "list(d1.keys())==list(d2.keys())"
   ]
  },
  {
   "cell_type": "code",
   "execution_count": 48,
   "metadata": {},
   "outputs": [
    {
     "name": "stdout",
     "output_type": "stream",
     "text": [
      "False\n"
     ]
    }
   ],
   "source": [
    "d1=OrderedDict(d1)\n",
    "d2=OrderedDict(d2)\n",
    "print(d1==d2)"
   ]
  },
  {
   "attachments": {},
   "cell_type": "markdown",
   "metadata": {},
   "source": [
    "performance and timeit"
   ]
  },
  {
   "cell_type": "code",
   "execution_count": 51,
   "metadata": {},
   "outputs": [],
   "source": [
    "from timeit import timeit"
   ]
  },
  {
   "cell_type": "code",
   "execution_count": 56,
   "metadata": {},
   "outputs": [
    {
     "name": "stdout",
     "output_type": "stream",
     "text": [
      "0.6977159999951255\n",
      "1.3227251999996952\n"
     ]
    }
   ],
   "source": [
    "def create_dict(n):\n",
    "    d=dict()\n",
    "    for i in range(n):\n",
    "        d[i]=i\n",
    "    return d\n",
    "\n",
    "def create_odict(n):\n",
    "    d=OrderedDict()\n",
    "    for i in range(n):\n",
    "        d[i]=i\n",
    "    return d\n",
    "\n",
    "t1=timeit('create_dict(10_000)',globals=globals(),number=1_000)\n",
    "t2=timeit('create_odict(10_000)',globals=globals(),number=1_000)\n",
    "print(t1)\n",
    "print(t2)\n"
   ]
  },
  {
   "cell_type": "code",
   "execution_count": 57,
   "metadata": {},
   "outputs": [
    {
     "name": "stdout",
     "output_type": "stream",
     "text": [
      "0.000244400005612988 1.3227251999996952\n"
     ]
    }
   ],
   "source": [
    "d1=create_dict(10_000)\n",
    "d2=create_odict(10_000)\n",
    "t1=timeit('d1[9_999]',globals=globals(),number=1_000)\n",
    "t1=timeit('d2[9_999]',globals=globals(),number=1_000)\n",
    "print(t1,t2)"
   ]
  },
  {
   "cell_type": "code",
   "execution_count": null,
   "metadata": {},
   "outputs": [],
   "source": []
  }
 ],
 "metadata": {
  "kernelspec": {
   "display_name": "Python 3",
   "language": "python",
   "name": "python3"
  },
  "language_info": {
   "codemirror_mode": {
    "name": "ipython",
    "version": 3
   },
   "file_extension": ".py",
   "mimetype": "text/x-python",
   "name": "python",
   "nbconvert_exporter": "python",
   "pygments_lexer": "ipython3",
   "version": "3.10.4"
  },
  "orig_nbformat": 4
 },
 "nbformat": 4,
 "nbformat_minor": 2
}
