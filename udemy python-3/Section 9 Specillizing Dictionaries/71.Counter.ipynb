{
 "cells": [
  {
   "cell_type": "code",
   "execution_count": 1,
   "metadata": {},
   "outputs": [],
   "source": [
    "from collections import *"
   ]
  },
  {
   "cell_type": "code",
   "execution_count": 3,
   "metadata": {},
   "outputs": [],
   "source": [
    "sentence = 'the quick brown fox jumps over the lazy dog'"
   ]
  },
  {
   "cell_type": "code",
   "execution_count": 8,
   "metadata": {},
   "outputs": [
    {
     "data": {
      "text/plain": [
       "{'t': 2,\n",
       " 'h': 2,\n",
       " 'e': 3,\n",
       " ' ': 8,\n",
       " 'q': 1,\n",
       " 'u': 2,\n",
       " 'i': 1,\n",
       " 'c': 1,\n",
       " 'k': 1,\n",
       " 'b': 1,\n",
       " 'r': 2,\n",
       " 'o': 4,\n",
       " 'w': 1,\n",
       " 'n': 1,\n",
       " 'f': 1,\n",
       " 'x': 1,\n",
       " 'j': 1,\n",
       " 'm': 1,\n",
       " 'p': 1,\n",
       " 's': 1,\n",
       " 'v': 1,\n",
       " 'l': 1,\n",
       " 'a': 1,\n",
       " 'z': 1,\n",
       " 'y': 1,\n",
       " 'd': 1,\n",
       " 'g': 1}"
      ]
     },
     "execution_count": 8,
     "metadata": {},
     "output_type": "execute_result"
    }
   ],
   "source": [
    "sentence=sentence.strip(' ')\n",
    "d=defaultdict(int)\n",
    "for i in sentence :\n",
    "    d[i]+=1\n",
    "\n",
    "dict(d)\n"
   ]
  },
  {
   "cell_type": "code",
   "execution_count": 10,
   "metadata": {},
   "outputs": [
    {
     "data": {
      "text/plain": [
       "{'t': 2,\n",
       " 'h': 2,\n",
       " 'e': 3,\n",
       " ' ': 8,\n",
       " 'q': 1,\n",
       " 'u': 2,\n",
       " 'i': 1,\n",
       " 'c': 1,\n",
       " 'k': 1,\n",
       " 'b': 1,\n",
       " 'r': 2,\n",
       " 'o': 4,\n",
       " 'w': 1,\n",
       " 'n': 1,\n",
       " 'f': 1,\n",
       " 'x': 1,\n",
       " 'j': 1,\n",
       " 'm': 1,\n",
       " 'p': 1,\n",
       " 's': 1,\n",
       " 'v': 1,\n",
       " 'l': 1,\n",
       " 'a': 1,\n",
       " 'z': 1,\n",
       " 'y': 1,\n",
       " 'd': 1,\n",
       " 'g': 1}"
      ]
     },
     "execution_count": 10,
     "metadata": {},
     "output_type": "execute_result"
    }
   ],
   "source": [
    "c=Counter()\n",
    "for i in sentence :\n",
    "    c[i]+=1\n",
    "\n",
    "dict(c)"
   ]
  },
  {
   "cell_type": "code",
   "execution_count": 11,
   "metadata": {},
   "outputs": [
    {
     "data": {
      "text/plain": [
       "Counter({'a': 4,\n",
       "         'b': 2,\n",
       "         'l': 2,\n",
       "         'e': 4,\n",
       "         ' ': 6,\n",
       "         'w': 2,\n",
       "         's': 2,\n",
       "         'I': 2,\n",
       "         'r': 1})"
      ]
     },
     "execution_count": 11,
     "metadata": {},
     "output_type": "execute_result"
    }
   ],
   "source": [
    "c1=Counter('able was I ere I saw elba')\n",
    "c1"
   ]
  },
  {
   "cell_type": "code",
   "execution_count": 15,
   "metadata": {},
   "outputs": [
    {
     "data": {
      "text/plain": [
       "Counter({69: 16,\n",
       "         73: 22,\n",
       "         25: 22,\n",
       "         53: 11,\n",
       "         85: 5,\n",
       "         82: 13,\n",
       "         71: 10,\n",
       "         58: 18,\n",
       "         81: 13,\n",
       "         65: 19,\n",
       "         94: 9,\n",
       "         47: 11,\n",
       "         84: 8,\n",
       "         37: 9,\n",
       "         56: 9,\n",
       "         32: 13,\n",
       "         99: 10,\n",
       "         52: 15,\n",
       "         88: 8,\n",
       "         97: 17,\n",
       "         38: 17,\n",
       "         59: 10,\n",
       "         29: 13,\n",
       "         62: 16,\n",
       "         80: 14,\n",
       "         91: 11,\n",
       "         75: 10,\n",
       "         60: 11,\n",
       "         98: 13,\n",
       "         46: 17,\n",
       "         90: 12,\n",
       "         76: 14,\n",
       "         86: 16,\n",
       "         27: 12,\n",
       "         21: 13,\n",
       "         31: 13,\n",
       "         100: 16,\n",
       "         20: 15,\n",
       "         83: 16,\n",
       "         51: 7,\n",
       "         61: 11,\n",
       "         28: 13,\n",
       "         44: 16,\n",
       "         92: 12,\n",
       "         48: 14,\n",
       "         50: 10,\n",
       "         89: 10,\n",
       "         77: 13,\n",
       "         30: 22,\n",
       "         33: 13,\n",
       "         57: 20,\n",
       "         35: 17,\n",
       "         95: 10,\n",
       "         96: 11,\n",
       "         93: 7,\n",
       "         43: 14,\n",
       "         24: 15,\n",
       "         36: 14,\n",
       "         39: 15,\n",
       "         70: 15,\n",
       "         87: 14,\n",
       "         55: 10,\n",
       "         34: 14,\n",
       "         22: 9,\n",
       "         54: 6,\n",
       "         67: 13,\n",
       "         41: 6,\n",
       "         74: 13,\n",
       "         23: 10,\n",
       "         64: 10,\n",
       "         79: 7,\n",
       "         45: 9,\n",
       "         40: 11,\n",
       "         63: 11,\n",
       "         42: 6,\n",
       "         72: 8,\n",
       "         78: 15,\n",
       "         68: 9,\n",
       "         26: 8,\n",
       "         66: 7,\n",
       "         49: 8})"
      ]
     },
     "execution_count": 15,
     "metadata": {},
     "output_type": "execute_result"
    }
   ],
   "source": [
    "import random\n",
    "random.seed(0)\n",
    "l=[ random.randint(20,100) for i  in range(1_000)]\n",
    "c=Counter(l)\n",
    "c"
   ]
  },
  {
   "cell_type": "code",
   "execution_count": 17,
   "metadata": {},
   "outputs": [
    {
     "name": "stdout",
     "output_type": "stream",
     "text": [
      "Counter({'b': 2, 'a': 1}) 1\n"
     ]
    }
   ],
   "source": [
    "c2=Counter(a=1,b=2)\n",
    "print(c2,c2['a'])"
   ]
  },
  {
   "cell_type": "code",
   "execution_count": 42,
   "metadata": {},
   "outputs": [],
   "source": [
    "sentence = '''\n",
    "his module implements pseudo-random number generators for various distributions.\n",
    "\n",
    "For integers, there is uniform selection from a range. For sequences, there is uniform selection of a random element, a function to generate a random permutation of a list in-place, and a function for random sampling without replacement.\n",
    "\n",
    "On the real line, there are functions to compute uniform, normal (Gaussian), lognormal, negative exponential, gamma, and beta distributions. For generating distributions of angles, the von Mises distribution is available.\n",
    "\n",
    "Almost all module functions depend on the basic function random(), which generates a random float uniformly in the semi-open range [0.0, 1.0). Python uses the Mersenne Twister as the core generator. It produces 53-bit precision floats and has a period of 2**19937-1. The underlying implementation in C is both fast and threadsafe. The Mersenne Twister is one of the most extensively tested random number generators in existence. However, being completely deterministic, it is not suitable for all purposes, and is completely unsuitable for cryptographic purposes.'''"
   ]
  },
  {
   "cell_type": "code",
   "execution_count": 54,
   "metadata": {},
   "outputs": [
    {
     "data": {
      "text/plain": [
       "['',\n",
       " 'his',\n",
       " 'module',\n",
       " 'implements',\n",
       " 'pseudo',\n",
       " 'random',\n",
       " 'number',\n",
       " 'generators',\n",
       " 'for',\n",
       " 'various',\n",
       " 'distributions',\n",
       " '',\n",
       " '',\n",
       " 'For',\n",
       " 'integers',\n",
       " '',\n",
       " 'there',\n",
       " 'is',\n",
       " 'uniform',\n",
       " 'selection',\n",
       " 'from',\n",
       " 'a',\n",
       " 'range',\n",
       " '',\n",
       " 'For',\n",
       " 'sequences',\n",
       " '',\n",
       " 'there',\n",
       " 'is',\n",
       " 'uniform',\n",
       " 'selection',\n",
       " 'of',\n",
       " 'a',\n",
       " 'random',\n",
       " 'element',\n",
       " '',\n",
       " 'a',\n",
       " 'function',\n",
       " 'to',\n",
       " 'generate',\n",
       " 'a',\n",
       " 'random',\n",
       " 'permutation',\n",
       " 'of',\n",
       " 'a',\n",
       " 'list',\n",
       " 'in',\n",
       " 'place',\n",
       " '',\n",
       " 'and',\n",
       " 'a',\n",
       " 'function',\n",
       " 'for',\n",
       " 'random',\n",
       " 'sampling',\n",
       " 'without',\n",
       " 'replacement',\n",
       " '',\n",
       " '',\n",
       " 'On',\n",
       " 'the',\n",
       " 'real',\n",
       " 'line',\n",
       " '',\n",
       " 'there',\n",
       " 'are',\n",
       " 'functions',\n",
       " 'to',\n",
       " 'compute',\n",
       " 'uniform',\n",
       " '',\n",
       " 'normal',\n",
       " '',\n",
       " 'Gaussian',\n",
       " '',\n",
       " '',\n",
       " 'lognormal',\n",
       " '',\n",
       " 'negative',\n",
       " 'exponential',\n",
       " '',\n",
       " 'gamma',\n",
       " '',\n",
       " 'and',\n",
       " 'beta',\n",
       " 'distributions',\n",
       " '',\n",
       " 'For',\n",
       " 'generating',\n",
       " 'distributions',\n",
       " 'of',\n",
       " 'angles',\n",
       " '',\n",
       " 'the',\n",
       " 'von',\n",
       " 'Mises',\n",
       " 'distribution',\n",
       " 'is',\n",
       " 'available',\n",
       " '',\n",
       " '',\n",
       " 'Almost',\n",
       " 'all',\n",
       " 'module',\n",
       " 'functions',\n",
       " 'depend',\n",
       " 'on',\n",
       " 'the',\n",
       " 'basic',\n",
       " 'function',\n",
       " 'random',\n",
       " '',\n",
       " '',\n",
       " '',\n",
       " 'which',\n",
       " 'generates',\n",
       " 'a',\n",
       " 'random',\n",
       " 'float',\n",
       " 'uniformly',\n",
       " 'in',\n",
       " 'the',\n",
       " 'semi',\n",
       " 'open',\n",
       " 'range',\n",
       " '',\n",
       " '0',\n",
       " '0',\n",
       " '',\n",
       " '1',\n",
       " '0',\n",
       " '',\n",
       " '',\n",
       " 'Python',\n",
       " 'uses',\n",
       " 'the',\n",
       " 'Mersenne',\n",
       " 'Twister',\n",
       " 'as',\n",
       " 'the',\n",
       " 'core',\n",
       " 'generator',\n",
       " '',\n",
       " 'It',\n",
       " 'produces',\n",
       " '53',\n",
       " 'bit',\n",
       " 'precision',\n",
       " 'floats',\n",
       " 'and',\n",
       " 'has',\n",
       " 'a',\n",
       " 'period',\n",
       " 'of',\n",
       " '2',\n",
       " '',\n",
       " '19937',\n",
       " '1',\n",
       " '',\n",
       " 'The',\n",
       " 'underlying',\n",
       " 'implementation',\n",
       " 'in',\n",
       " 'C',\n",
       " 'is',\n",
       " 'both',\n",
       " 'fast',\n",
       " 'and',\n",
       " 'threadsafe',\n",
       " '',\n",
       " 'The',\n",
       " 'Mersenne',\n",
       " 'Twister',\n",
       " 'is',\n",
       " 'one',\n",
       " 'of',\n",
       " 'the',\n",
       " 'most',\n",
       " 'extensively',\n",
       " 'tested',\n",
       " 'random',\n",
       " 'number',\n",
       " 'generators',\n",
       " 'in',\n",
       " 'existence',\n",
       " '',\n",
       " 'However',\n",
       " '',\n",
       " 'being',\n",
       " 'completely',\n",
       " 'deterministic',\n",
       " '',\n",
       " 'it',\n",
       " 'is',\n",
       " 'not',\n",
       " 'suitable',\n",
       " 'for',\n",
       " 'all',\n",
       " 'purposes',\n",
       " '',\n",
       " 'and',\n",
       " 'is',\n",
       " 'completely',\n",
       " 'unsuitable',\n",
       " 'for',\n",
       " 'cryptographic',\n",
       " 'purposes',\n",
       " '']"
      ]
     },
     "execution_count": 54,
     "metadata": {},
     "output_type": "execute_result"
    }
   ],
   "source": [
    "import re\n",
    "l=re.split('\\W',sentence)\n",
    "l"
   ]
  },
  {
   "cell_type": "code",
   "execution_count": 55,
   "metadata": {},
   "outputs": [
    {
     "data": {
      "text/plain": [
       "Counter({'': 38,\n",
       "         'his': 1,\n",
       "         'module': 2,\n",
       "         'implements': 1,\n",
       "         'pseudo': 1,\n",
       "         'random': 7,\n",
       "         'number': 2,\n",
       "         'generators': 2,\n",
       "         'for': 4,\n",
       "         'various': 1,\n",
       "         'distributions': 3,\n",
       "         'For': 3,\n",
       "         'integers': 1,\n",
       "         'there': 3,\n",
       "         'is': 7,\n",
       "         'uniform': 3,\n",
       "         'selection': 2,\n",
       "         'from': 1,\n",
       "         'a': 8,\n",
       "         'range': 2,\n",
       "         'sequences': 1,\n",
       "         'of': 5,\n",
       "         'element': 1,\n",
       "         'function': 3,\n",
       "         'to': 2,\n",
       "         'generate': 1,\n",
       "         'permutation': 1,\n",
       "         'list': 1,\n",
       "         'in': 4,\n",
       "         'place': 1,\n",
       "         'and': 5,\n",
       "         'sampling': 1,\n",
       "         'without': 1,\n",
       "         'replacement': 1,\n",
       "         'On': 1,\n",
       "         'the': 7,\n",
       "         'real': 1,\n",
       "         'line': 1,\n",
       "         'are': 1,\n",
       "         'functions': 2,\n",
       "         'compute': 1,\n",
       "         'normal': 1,\n",
       "         'Gaussian': 1,\n",
       "         'lognormal': 1,\n",
       "         'negative': 1,\n",
       "         'exponential': 1,\n",
       "         'gamma': 1,\n",
       "         'beta': 1,\n",
       "         'generating': 1,\n",
       "         'angles': 1,\n",
       "         'von': 1,\n",
       "         'Mises': 1,\n",
       "         'distribution': 1,\n",
       "         'available': 1,\n",
       "         'Almost': 1,\n",
       "         'all': 2,\n",
       "         'depend': 1,\n",
       "         'on': 1,\n",
       "         'basic': 1,\n",
       "         'which': 1,\n",
       "         'generates': 1,\n",
       "         'float': 1,\n",
       "         'uniformly': 1,\n",
       "         'semi': 1,\n",
       "         'open': 1,\n",
       "         '0': 3,\n",
       "         '1': 2,\n",
       "         'Python': 1,\n",
       "         'uses': 1,\n",
       "         'Mersenne': 2,\n",
       "         'Twister': 2,\n",
       "         'as': 1,\n",
       "         'core': 1,\n",
       "         'generator': 1,\n",
       "         'It': 1,\n",
       "         'produces': 1,\n",
       "         '53': 1,\n",
       "         'bit': 1,\n",
       "         'precision': 1,\n",
       "         'floats': 1,\n",
       "         'has': 1,\n",
       "         'period': 1,\n",
       "         '2': 1,\n",
       "         '19937': 1,\n",
       "         'The': 2,\n",
       "         'underlying': 1,\n",
       "         'implementation': 1,\n",
       "         'C': 1,\n",
       "         'both': 1,\n",
       "         'fast': 1,\n",
       "         'threadsafe': 1,\n",
       "         'one': 1,\n",
       "         'most': 1,\n",
       "         'extensively': 1,\n",
       "         'tested': 1,\n",
       "         'existence': 1,\n",
       "         'However': 1,\n",
       "         'being': 1,\n",
       "         'completely': 2,\n",
       "         'deterministic': 1,\n",
       "         'it': 1,\n",
       "         'not': 1,\n",
       "         'suitable': 1,\n",
       "         'purposes': 2,\n",
       "         'unsuitable': 1,\n",
       "         'cryptographic': 1})"
      ]
     },
     "execution_count": 55,
     "metadata": {},
     "output_type": "execute_result"
    }
   ],
   "source": [
    "c=Counter(l)\n",
    "c"
   ]
  },
  {
   "cell_type": "code",
   "execution_count": 57,
   "metadata": {},
   "outputs": [
    {
     "data": {
      "text/plain": [
       "[('', 38), ('a', 8), ('random', 7), ('is', 7), ('the', 7), ('of', 5)]"
      ]
     },
     "execution_count": 57,
     "metadata": {},
     "output_type": "execute_result"
    }
   ],
   "source": [
    "c.most_common(6)"
   ]
  },
  {
   "cell_type": "code",
   "execution_count": 58,
   "metadata": {},
   "outputs": [
    {
     "data": {
      "text/plain": [
       "Counter({'a': 5, 'b': 3})"
      ]
     },
     "execution_count": 58,
     "metadata": {},
     "output_type": "execute_result"
    }
   ],
   "source": [
    "c1=Counter('aaabbaba')\n",
    "c1"
   ]
  },
  {
   "cell_type": "code",
   "execution_count": 59,
   "metadata": {},
   "outputs": [
    {
     "name": "stdout",
     "output_type": "stream",
     "text": [
      "a\n",
      "b\n"
     ]
    }
   ],
   "source": [
    "for i in c1:\n",
    "    print(i)"
   ]
  },
  {
   "cell_type": "code",
   "execution_count": 60,
   "metadata": {},
   "outputs": [
    {
     "name": "stdout",
     "output_type": "stream",
     "text": [
      "a\n",
      "a\n",
      "a\n",
      "a\n",
      "a\n",
      "b\n",
      "b\n",
      "b\n"
     ]
    }
   ],
   "source": [
    "for i in c1.elements():\n",
    "    print(i)"
   ]
  },
  {
   "cell_type": "code",
   "execution_count": 61,
   "metadata": {},
   "outputs": [
    {
     "name": "stdout",
     "output_type": "stream",
     "text": [
      "10\n"
     ]
    }
   ],
   "source": [
    "l=[]\n",
    "for i in range(1,11):\n",
    "    for _ in range(i):\n",
    "        l.append(i)\n",
    "\n",
    "print(i)        "
   ]
  },
  {
   "cell_type": "code",
   "execution_count": 66,
   "metadata": {},
   "outputs": [
    {
     "name": "stdout",
     "output_type": "stream",
     "text": [
      "1 2 2 3 3 3 4 4 4 4 5 5 5 5 5 6 6 6 6 6 6 7 7 7 7 7 7 7 8 8 8 8 8 8 8 8 9 9 9 9 9 9 9 9 9 10 10 10 10 10 10 10 10 10 10 "
     ]
    }
   ],
   "source": [
    "c=Counter()\n",
    "for i in range(1,11):\n",
    "    c[i]=i\n",
    "\n",
    "for i in c.elements():\n",
    "    print(i,end=' ')   \n"
   ]
  },
  {
   "cell_type": "code",
   "execution_count": 71,
   "metadata": {},
   "outputs": [
    {
     "name": "stdout",
     "output_type": "stream",
     "text": [
      "Counter({'b': 4, 'c': 3, 'd': 3, 'a': 2})\n",
      "a a b b b b c c c d d d "
     ]
    }
   ],
   "source": [
    "c1=Counter(a=1,b=2,c=3)\n",
    "c2=Counter(d=3,a=1,b=2)\n",
    "c1.update(c2)\n",
    "print(c1)\n",
    "for i in c1.elements():\n",
    " print(i,end=' ')"
   ]
  },
  {
   "cell_type": "code",
   "execution_count": 72,
   "metadata": {},
   "outputs": [
    {
     "name": "stdout",
     "output_type": "stream",
     "text": [
      "Counter({'a': 4, 'c': 3, 'b': 2, 'd': -3})\n",
      "a a a a b b c c c "
     ]
    }
   ],
   "source": [
    "c1=Counter(a=5,b=4,c=3)\n",
    "c2=Counter(d=3,a=1,b=2)\n",
    "c1.subtract(c2)\n",
    "print(c1)\n",
    "for i in c1.elements():\n",
    " print(i,end=' ')"
   ]
  },
  {
   "cell_type": "code",
   "execution_count": 74,
   "metadata": {},
   "outputs": [
    {
     "name": "stdout",
     "output_type": "stream",
     "text": [
      "Counter({'d': 2, 'b': 0, 'c': 0, 'a': -1})\n"
     ]
    }
   ],
   "source": [
    "c1=Counter('aaaabbbccdd')\n",
    "c2=Counter('aaaaabbbcc')\n",
    "c1.subtract(c2)\n",
    "print(c1)"
   ]
  },
  {
   "cell_type": "code",
   "execution_count": 75,
   "metadata": {},
   "outputs": [
    {
     "data": {
      "text/plain": [
       "Counter({'a': 3, 'b': 3, 'c': 3})"
      ]
     },
     "execution_count": 75,
     "metadata": {},
     "output_type": "execute_result"
    }
   ],
   "source": [
    "c1 = Counter('aabbcc')\n",
    "c2 = Counter('abc')\n",
    "c1 + c2"
   ]
  },
  {
   "cell_type": "code",
   "execution_count": 76,
   "metadata": {},
   "outputs": [
    {
     "data": {
      "text/plain": [
       "Counter({'a': 1, 'b': 1, 'c': 1})"
      ]
     },
     "execution_count": 76,
     "metadata": {},
     "output_type": "execute_result"
    }
   ],
   "source": [
    "c1-c2"
   ]
  },
  {
   "attachments": {},
   "cell_type": "markdown",
   "metadata": {},
   "source": [
    "Example"
   ]
  },
  {
   "cell_type": "code",
   "execution_count": 91,
   "metadata": {},
   "outputs": [],
   "source": [
    "import random\n",
    "random.seed(0)\n",
    "widgets = ['battery', 'charger', 'cable', 'case', 'keyboard', 'mouse']\n",
    "\n",
    "orders=[(random.choice(widgets),random.randint(1,5)) for _ in range(100)]\n",
    "refunds=[ (random.choice(widgets),random.randint(1,3)) for _ in range(20)]\n",
    "\n"
   ]
  },
  {
   "cell_type": "code",
   "execution_count": 92,
   "metadata": {},
   "outputs": [
    {
     "data": {
      "text/plain": [
       "[('case', 4),\n",
       " ('battery', 3),\n",
       " ('keyboard', 4),\n",
       " ('case', 3),\n",
       " ('case', 3),\n",
       " ('keyboard', 2),\n",
       " ('keyboard', 2),\n",
       " ('cable', 2),\n",
       " ('battery', 5),\n",
       " ('cable', 5),\n",
       " ('mouse', 5),\n",
       " ('charger', 3),\n",
       " ('battery', 1),\n",
       " ('mouse', 3),\n",
       " ('case', 5),\n",
       " ('battery', 3),\n",
       " ('case', 3),\n",
       " ('keyboard', 2),\n",
       " ('keyboard', 4),\n",
       " ('case', 5),\n",
       " ('cable', 1),\n",
       " ('keyboard', 1),\n",
       " ('battery', 4),\n",
       " ('mouse', 1),\n",
       " ('keyboard', 4),\n",
       " ('cable', 2),\n",
       " ('mouse', 3),\n",
       " ('mouse', 1),\n",
       " ('charger', 5),\n",
       " ('charger', 2),\n",
       " ('charger', 5),\n",
       " ('case', 1),\n",
       " ('battery', 3),\n",
       " ('keyboard', 4),\n",
       " ('battery', 3),\n",
       " ('keyboard', 3),\n",
       " ('mouse', 1),\n",
       " ('keyboard', 3),\n",
       " ('keyboard', 2),\n",
       " ('keyboard', 5),\n",
       " ('keyboard', 3),\n",
       " ('case', 1),\n",
       " ('keyboard', 4),\n",
       " ('cable', 5),\n",
       " ('charger', 3),\n",
       " ('charger', 2),\n",
       " ('charger', 1),\n",
       " ('keyboard', 3),\n",
       " ('case', 1),\n",
       " ('battery', 2),\n",
       " ('charger', 1),\n",
       " ('battery', 5),\n",
       " ('mouse', 4),\n",
       " ('mouse', 5),\n",
       " ('cable', 5),\n",
       " ('charger', 2),\n",
       " ('mouse', 5),\n",
       " ('case', 5),\n",
       " ('cable', 4),\n",
       " ('case', 3),\n",
       " ('battery', 3),\n",
       " ('keyboard', 1),\n",
       " ('case', 5),\n",
       " ('mouse', 3),\n",
       " ('charger', 2),\n",
       " ('battery', 3),\n",
       " ('battery', 2),\n",
       " ('cable', 2),\n",
       " ('cable', 4),\n",
       " ('battery', 1),\n",
       " ('charger', 2),\n",
       " ('battery', 5),\n",
       " ('mouse', 5),\n",
       " ('keyboard', 1),\n",
       " ('battery', 1),\n",
       " ('mouse', 2),\n",
       " ('keyboard', 5),\n",
       " ('battery', 4),\n",
       " ('battery', 3),\n",
       " ('battery', 1),\n",
       " ('keyboard', 1),\n",
       " ('charger', 2),\n",
       " ('mouse', 1),\n",
       " ('case', 2),\n",
       " ('mouse', 1),\n",
       " ('mouse', 1),\n",
       " ('keyboard', 4),\n",
       " ('keyboard', 1),\n",
       " ('cable', 1),\n",
       " ('charger', 1),\n",
       " ('mouse', 3),\n",
       " ('cable', 4),\n",
       " ('charger', 1),\n",
       " ('keyboard', 4),\n",
       " ('battery', 5),\n",
       " ('battery', 4),\n",
       " ('charger', 3),\n",
       " ('cable', 4),\n",
       " ('keyboard', 2),\n",
       " ('mouse', 2)]"
      ]
     },
     "execution_count": 92,
     "metadata": {},
     "output_type": "execute_result"
    }
   ],
   "source": [
    "orders"
   ]
  },
  {
   "cell_type": "code",
   "execution_count": 93,
   "metadata": {},
   "outputs": [
    {
     "data": {
      "text/plain": [
       "[('battery', 3),\n",
       " ('charger', 1),\n",
       " ('cable', 3),\n",
       " ('cable', 1),\n",
       " ('keyboard', 2),\n",
       " ('mouse', 1),\n",
       " ('battery', 2),\n",
       " ('mouse', 2),\n",
       " ('keyboard', 3),\n",
       " ('cable', 3),\n",
       " ('cable', 2),\n",
       " ('mouse', 2),\n",
       " ('charger', 3),\n",
       " ('mouse', 1),\n",
       " ('case', 3),\n",
       " ('battery', 2),\n",
       " ('mouse', 1),\n",
       " ('keyboard', 2),\n",
       " ('charger', 1),\n",
       " ('case', 2)]"
      ]
     },
     "execution_count": 93,
     "metadata": {},
     "output_type": "execute_result"
    }
   ],
   "source": [
    "refunds"
   ]
  },
  {
   "cell_type": "code",
   "execution_count": 94,
   "metadata": {},
   "outputs": [],
   "source": [
    "c_order=Counter()\n",
    "c_refund=Counter()\n",
    "for i,j in orders:\n",
    "    c_order[i]+=j\n",
    "\n",
    "for i,j in  refunds:\n",
    "    c_refund[i]+=j\n",
    "    \n",
    "       "
   ]
  },
  {
   "cell_type": "code",
   "execution_count": 95,
   "metadata": {},
   "outputs": [
    {
     "data": {
      "text/plain": [
       "Counter({'battery': 7,\n",
       "         'charger': 5,\n",
       "         'cable': 9,\n",
       "         'keyboard': 7,\n",
       "         'mouse': 7,\n",
       "         'case': 5})"
      ]
     },
     "execution_count": 95,
     "metadata": {},
     "output_type": "execute_result"
    }
   ],
   "source": [
    "c_refund"
   ]
  },
  {
   "cell_type": "code",
   "execution_count": 96,
   "metadata": {},
   "outputs": [
    {
     "data": {
      "text/plain": [
       "Counter({'case': 41,\n",
       "         'battery': 61,\n",
       "         'keyboard': 65,\n",
       "         'cable': 39,\n",
       "         'mouse': 46,\n",
       "         'charger': 35})"
      ]
     },
     "execution_count": 96,
     "metadata": {},
     "output_type": "execute_result"
    }
   ],
   "source": [
    "c_order"
   ]
  },
  {
   "cell_type": "code",
   "execution_count": 97,
   "metadata": {},
   "outputs": [
    {
     "data": {
      "text/plain": [
       "Counter({'case': 36,\n",
       "         'battery': 54,\n",
       "         'keyboard': 58,\n",
       "         'cable': 30,\n",
       "         'mouse': 39,\n",
       "         'charger': 30})"
      ]
     },
     "execution_count": 97,
     "metadata": {},
     "output_type": "execute_result"
    }
   ],
   "source": [
    "net_counter=c_order-c_refund\n",
    "net_counter"
   ]
  },
  {
   "cell_type": "code",
   "execution_count": 99,
   "metadata": {},
   "outputs": [
    {
     "data": {
      "text/plain": [
       "[('keyboard', 58), ('battery', 54), ('mouse', 39)]"
      ]
     },
     "execution_count": 99,
     "metadata": {},
     "output_type": "execute_result"
    }
   ],
   "source": [
    "net_counter.most_common(3)"
   ]
  },
  {
   "cell_type": "code",
   "execution_count": null,
   "metadata": {},
   "outputs": [],
   "source": []
  }
 ],
 "metadata": {
  "kernelspec": {
   "display_name": "Python 3",
   "language": "python",
   "name": "python3"
  },
  "language_info": {
   "codemirror_mode": {
    "name": "ipython",
    "version": 3
   },
   "file_extension": ".py",
   "mimetype": "text/x-python",
   "name": "python",
   "nbconvert_exporter": "python",
   "pygments_lexer": "ipython3",
   "version": "3.10.4"
  },
  "orig_nbformat": 4
 },
 "nbformat": 4,
 "nbformat_minor": 2
}
