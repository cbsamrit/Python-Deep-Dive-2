{
 "cells": [
  {
   "cell_type": "code",
   "execution_count": 3,
   "metadata": {},
   "outputs": [
    {
     "name": "stdout",
     "output_type": "stream",
     "text": [
      "1\n",
      "2\n",
      "3\n",
      "chetan\n",
      "rahul\n",
      "himani\n",
      "(1, 'chetan')\n",
      "(2, 'rahul')\n",
      "(3, 'himani')\n",
      "{1: 'chetan', 2: 'rahul', 3: 'himani'}\n"
     ]
    }
   ],
   "source": [
    "d={1:'chetan',2:'rahul',3:'himani'}\n",
    "\n",
    "for i in d:\n",
    "    print(i)\n",
    "\n",
    "for i in d.values() :\n",
    "  print(i)   \n",
    "\n",
    "for i in d.items():\n",
    "   print(i) \n",
    "\n",
    "print(d)\n",
    "\n"
   ]
  },
  {
   "cell_type": "code",
   "execution_count": 4,
   "metadata": {},
   "outputs": [
    {
     "name": "stdout",
     "output_type": "stream",
     "text": [
      "{1: 'chetan', 2: 'rahul', 3: 'himani', 4: 'Bhaurao', 5: 'samrit'}\n"
     ]
    }
   ],
   "source": [
    "d.update({4:'Bhaurao',5:'samrit'})\n",
    "print(d)"
   ]
  },
  {
   "cell_type": "code",
   "execution_count": 8,
   "metadata": {},
   "outputs": [
    {
     "ename": "TypeError",
     "evalue": "unsupported operand type(s) for +: 'dict' and 'dict'",
     "output_type": "error",
     "traceback": [
      "\u001b[1;31m---------------------------------------------------------------------------\u001b[0m",
      "\u001b[1;31mTypeError\u001b[0m                                 Traceback (most recent call last)",
      "\u001b[1;32mc:\\Users\\chetan\\Desktop\\Konverge.ai\\Python Practice\\udemy python-3\\Section 3 Dictionaries\\temp.ipynb Cell 3\u001b[0m in \u001b[0;36m<cell line: 2>\u001b[1;34m()\u001b[0m\n\u001b[0;32m      <a href='vscode-notebook-cell:/c%3A/Users/chetan/Desktop/Konverge.ai/Python%20Practice/udemy%20python-3/Section%203%20Dictionaries/temp.ipynb#W3sZmlsZQ%3D%3D?line=0'>1</a>\u001b[0m d2\u001b[39m=\u001b[39m{\u001b[39m6\u001b[39m:\u001b[39m'\u001b[39m\u001b[39mYashoda\u001b[39m\u001b[39m'\u001b[39m,\u001b[39m7\u001b[39m:\u001b[39m'\u001b[39m\u001b[39mShilpa\u001b[39m\u001b[39m'\u001b[39m}\n\u001b[1;32m----> <a href='vscode-notebook-cell:/c%3A/Users/chetan/Desktop/Konverge.ai/Python%20Practice/udemy%20python-3/Section%203%20Dictionaries/temp.ipynb#W3sZmlsZQ%3D%3D?line=1'>2</a>\u001b[0m d\u001b[39m+\u001b[39;49md2\n",
      "\u001b[1;31mTypeError\u001b[0m: unsupported operand type(s) for +: 'dict' and 'dict'"
     ]
    }
   ],
   "source": [
    "d2={6:'Yashoda',7:'Shilpa'}\n",
    "d+d2"
   ]
  },
  {
   "cell_type": "code",
   "execution_count": 7,
   "metadata": {},
   "outputs": [
    {
     "name": "stdout",
     "output_type": "stream",
     "text": [
      "{1: 'chetan', 2: 'rahul', 3: 'himani', 4: 'Bhaurao', 5: 'samrit', 6: 'Yashoda', 7: 'Shilpa'}\n"
     ]
    }
   ],
   "source": [
    "d1=d\n",
    "d2={6:'Yashoda',7:'Shilpa'}\n",
    "\n",
    "d1.update(d2)\n",
    "print(d1)\n"
   ]
  },
  {
   "cell_type": "code",
   "execution_count": 9,
   "metadata": {},
   "outputs": [
    {
     "name": "stdout",
     "output_type": "stream",
     "text": [
      "chetan chetan\n"
     ]
    }
   ],
   "source": [
    "print(d1[1],d1.__getitem__(1))"
   ]
  },
  {
   "cell_type": "code",
   "execution_count": 12,
   "metadata": {},
   "outputs": [
    {
     "ename": "KeyError",
     "evalue": "30",
     "output_type": "error",
     "traceback": [
      "\u001b[1;31m---------------------------------------------------------------------------\u001b[0m",
      "\u001b[1;31mKeyError\u001b[0m                                  Traceback (most recent call last)",
      "\u001b[1;32mc:\\Users\\chetan\\Desktop\\Konverge.ai\\Python Practice\\udemy python-3\\Section 3 Dictionaries\\temp.ipynb Cell 6\u001b[0m in \u001b[0;36m<cell line: 1>\u001b[1;34m()\u001b[0m\n\u001b[1;32m----> <a href='vscode-notebook-cell:/c%3A/Users/chetan/Desktop/Konverge.ai/Python%20Practice/udemy%20python-3/Section%203%20Dictionaries/temp.ipynb#W5sZmlsZQ%3D%3D?line=0'>1</a>\u001b[0m \u001b[39mprint\u001b[39m(d1\u001b[39m.\u001b[39;49m\u001b[39m__getitem__\u001b[39;49m(\u001b[39m30\u001b[39;49m))\n",
      "\u001b[1;31mKeyError\u001b[0m: 30"
     ]
    }
   ],
   "source": [
    "print(d1.__getitem__(30))\n",
    "# print(d1[30])"
   ]
  },
  {
   "cell_type": "code",
   "execution_count": 14,
   "metadata": {},
   "outputs": [
    {
     "name": "stdout",
     "output_type": "stream",
     "text": [
      "1478724806336 1478724806336\n",
      "1478724806336 1478724797888\n"
     ]
    }
   ],
   "source": [
    "d1={1:'chetan',2:'rahul'}\n",
    "d2=d1\n",
    "print(id(d1),id(d2))\n",
    "d3=d1.copy()\n",
    "print(id(d1),id(d3))"
   ]
  },
  {
   "cell_type": "code",
   "execution_count": 21,
   "metadata": {},
   "outputs": [
    {
     "name": "stdout",
     "output_type": "stream",
     "text": [
      "1478725296192 1478723563392\n",
      "1478612549936 1478612549936\n",
      "[[100, 2], 300, 4, 5]\n",
      "[[100, 2], 3, 4, 5]\n"
     ]
    }
   ],
   "source": [
    "l=[[1,2],3,4,5]\n",
    "m=l.copy()\n",
    "print(id(l),id(m))\n",
    "m[0][0]=100\n",
    "print(id(m[1]),id(l[1]))\n",
    "m[1]=300\n",
    "print(m)\n",
    "print(l)"
   ]
  },
  {
   "cell_type": "code",
   "execution_count": 19,
   "metadata": {},
   "outputs": [
    {
     "name": "stdout",
     "output_type": "stream",
     "text": [
      "1478724438656 1478724805760\n",
      "[[100, 2], 300, 4, 5]\n",
      "[[1, 2], 3, 4, 5]\n"
     ]
    }
   ],
   "source": [
    "from copy import *\n",
    "l=[[1,2],3,4,5]\n",
    "m=deepcopy(l)\n",
    "print(id(l),id(m))\n",
    "m[0][0]=100\n",
    "m[1]=300\n",
    "print(m)\n",
    "print(l)"
   ]
  },
  {
   "cell_type": "code",
   "execution_count": 5,
   "metadata": {},
   "outputs": [
    {
     "name": "stdout",
     "output_type": "stream",
     "text": [
      "{'chetan': 1, 'samrit': 2}\n"
     ]
    }
   ],
   "source": []
  },
  {
   "cell_type": "code",
   "execution_count": 9,
   "metadata": {},
   "outputs": [
    {
     "name": "stdout",
     "output_type": "stream",
     "text": [
      "{'rahul', 'Bhaurao', 'yashoda', 'chtan', 'himani'}\n",
      "{'chtan': [1, 2], 'rahul': [3, 4], 'himani': [6, 7], 'Bhaurao': [10, 11], 'yashoda': [23, 45]}\n"
     ]
    }
   ],
   "source": [
    "d1={'chtan':[1,2],'rahul':[3,4],'himani':[6,7]}\n",
    "d2=dict(Bhaurao=[10,11],yashoda=[23,45])\n",
    "\n",
    "# d1.update(d2)\n",
    "print(d1.keys() | d2.keys())\n",
    "print(d1 | d2)"
   ]
  }
 ],
 "metadata": {
  "kernelspec": {
   "display_name": "Python 3",
   "language": "python",
   "name": "python3"
  },
  "language_info": {
   "codemirror_mode": {
    "name": "ipython",
    "version": 3
   },
   "file_extension": ".py",
   "mimetype": "text/x-python",
   "name": "python",
   "nbconvert_exporter": "python",
   "pygments_lexer": "ipython3",
   "version": "3.10.4"
  },
  "orig_nbformat": 4
 },
 "nbformat": 4,
 "nbformat_minor": 2
}
