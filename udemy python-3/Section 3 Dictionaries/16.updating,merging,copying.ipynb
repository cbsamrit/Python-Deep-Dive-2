{
 "cells": [
  {
   "cell_type": "code",
   "execution_count": 1,
   "metadata": {},
   "outputs": [
    {
     "name": "stdout",
     "output_type": "stream",
     "text": [
      "{'chetan': 1, 'rahul': 2, 'samrit': 3, 'Bhaurao': 23, 'kumar': 67}\n",
      "{'chetan': 100, 'rahul': 2, 'samrit': 3, 'Bhaurao': 23, 'kumar': 67, 'himani': 4, 'Raut': 5}\n"
     ]
    }
   ],
   "source": [
    "d1={'chetan':1,'rahul':2,'samrit':3}\n",
    "d2={'himani':4,'Raut':5,'chetan':100}\n",
    "\n",
    "d1.update({'Bhaurao':23,'kumar':67})\n",
    "print(d1)\n",
    "d1.update(d2)\n",
    "print(d1)"
   ]
  },
  {
   "cell_type": "code",
   "execution_count": 4,
   "metadata": {},
   "outputs": [
    {
     "name": "stdout",
     "output_type": "stream",
     "text": [
      "{'chetan': 100, 'rahul': 2, 'samrit': 3, 'Bhaurao': 23, 'kumar': 67, 'himani': 4, 'Raut': 5, 'a': 300, 'b': 400, 1: 2, 3: 4}\n",
      "{'chetan': 100, 'rahul': 2, 'samrit': 3, 'Bhaurao': 23, 'kumar': 67, 'himani': 4, 'Raut': 5, 'a': 300, 'b': 400, 1: 2, 3: 4, 'yash': 2, 'Harsh': 4}\n"
     ]
    }
   ],
   "source": [
    "d1.update(a=300,b=400)\n",
    "print(d1)\n",
    "\n",
    "d1.update([('yash',2),('Harsh',4)])\n",
    "print(d1)"
   ]
  },
  {
   "cell_type": "code",
   "execution_count": 7,
   "metadata": {},
   "outputs": [
    {
     "name": "stdout",
     "output_type": "stream",
     "text": [
      "{'P': 'N/A', 'y': 'N/A', 't': 'N/A', 'h': 'N/A', 'o': 'N/A', 'n': 'N/A'}\n"
     ]
    }
   ],
   "source": [
    "def fun(**d):\n",
    "    print(d)\n",
    "\n",
    "d=dict.fromkeys('Python','N/A')\n",
    "\n",
    "fun(**d)"
   ]
  },
  {
   "cell_type": "code",
   "execution_count": 8,
   "metadata": {},
   "outputs": [
    {
     "name": "stdout",
     "output_type": "stream",
     "text": [
      "{'a': 400, 'b': 200, 'c': 300, 'd': 800, 'e': 900}\n"
     ]
    }
   ],
   "source": [
    "d1=dict(a=100,b=200,c=300)\n",
    "d2=dict(a=400,d=800,e=900)\n",
    "\n",
    "d={**d1,**d2}\n",
    "print(d)"
   ]
  },
  {
   "cell_type": "code",
   "execution_count": 13,
   "metadata": {},
   "outputs": [
    {
     "name": "stdout",
     "output_type": "stream",
     "text": [
      "2240439872896\n",
      "2240439872896\n",
      "2240465785536\n",
      "2240438789632\n",
      "2240465790528\n"
     ]
    }
   ],
   "source": [
    "print(id(d1))\n",
    "d3=d1\n",
    "print(id(d1))\n",
    "d3=d1.copy()\n",
    "print(id(d3))\n",
    "d3=dict(d1)\n",
    "print(id(d3))\n",
    "d3={**d1}\n",
    "print(id(d3))"
   ]
  },
  {
   "cell_type": "code",
   "execution_count": 11,
   "metadata": {},
   "outputs": [
    {
     "name": "stdout",
     "output_type": "stream",
     "text": [
      "2240439885184 2240439885184\n"
     ]
    }
   ],
   "source": [
    "print(id(d3.keys()),id(d1.keys()))"
   ]
  },
  {
   "cell_type": "code",
   "execution_count": 22,
   "metadata": {},
   "outputs": [
    {
     "name": "stdout",
     "output_type": "stream",
     "text": [
      "{'a': 1, 'b': 2, 0: 0, 1: 1, 2: 4, 3: 9, 4: 16}\n"
     ]
    }
   ],
   "source": [
    "d = {'a': 1, 'b': 2}\n",
    "d.update([ ( i , i**2) for i in range(5)])\n",
    "print(d)"
   ]
  },
  {
   "cell_type": "code",
   "execution_count": 27,
   "metadata": {},
   "outputs": [
    {
     "name": "stdout",
     "output_type": "stream",
     "text": [
      "a 1\n",
      "b 2\n",
      "c 3\n"
     ]
    }
   ],
   "source": [
    "def fun(**d):\n",
    "    \n",
    "   for i,j in d.items() :\n",
    "    print(i,j)\n",
    "\n",
    "d={'a':1,'b':2,'c':3}\n",
    "\n",
    "fun(**d)"
   ]
  },
  {
   "cell_type": "code",
   "execution_count": 33,
   "metadata": {},
   "outputs": [
    {
     "name": "stdout",
     "output_type": "stream",
     "text": [
      "2240467450048 2240467451072\n",
      "{1: 100, 2: [4, 5]} {1: [1, 2], 2: [4, 5]}\n",
      "{1: 100, 2: [100, 5]} {1: [1, 2], 2: [100, 5]}\n",
      "{1: 100, 2: [100, 5]} {1: 100, 2: [100, 5]}\n",
      "{1: 100, 2: [100, 600]} {1: 100, 2: [100, 5]}\n"
     ]
    }
   ],
   "source": [
    "d={1:[1,2],2:[4,5]}\n",
    "d1=d.copy()\n",
    "print(id(d),id(d1))\n",
    "d[1]=100\n",
    "print(d,d1)\n",
    "d[2][0]=100\n",
    "print(d,d1)\n",
    "from copy import deepcopy \n",
    "d1=deepcopy(d)\n",
    "print(d,d1)\n",
    "d[2][1]=600\n",
    "print(d,d1)\n",
    "\n"
   ]
  }
 ],
 "metadata": {
  "kernelspec": {
   "display_name": "Python 3",
   "language": "python",
   "name": "python3"
  },
  "language_info": {
   "codemirror_mode": {
    "name": "ipython",
    "version": 3
   },
   "file_extension": ".py",
   "mimetype": "text/x-python",
   "name": "python",
   "nbconvert_exporter": "python",
   "pygments_lexer": "ipython3",
   "version": "3.10.4"
  },
  "orig_nbformat": 4
 },
 "nbformat": 4,
 "nbformat_minor": 2
}
