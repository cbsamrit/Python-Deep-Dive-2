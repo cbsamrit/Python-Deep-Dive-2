{
 "cells": [
  {
   "cell_type": "code",
   "execution_count": 5,
   "metadata": {},
   "outputs": [
    {
     "data": {
      "text/plain": [
       "{'k': 100, 'm': 100}"
      ]
     },
     "execution_count": 5,
     "metadata": {},
     "output_type": "execute_result"
    }
   ],
   "source": [
    "a={'k':100,'m':100}\n",
    "a"
   ]
  },
  {
   "cell_type": "code",
   "execution_count": 6,
   "metadata": {},
   "outputs": [
    {
     "data": {
      "text/plain": [
       "{'k': 100, 'm': 200}"
      ]
     },
     "execution_count": 6,
     "metadata": {},
     "output_type": "execute_result"
    }
   ],
   "source": [
    "a=dict(k=100,m=200)\n",
    "a"
   ]
  },
  {
   "cell_type": "code",
   "execution_count": 7,
   "metadata": {},
   "outputs": [
    {
     "ename": "TypeError",
     "evalue": "unhashable type: 'list'",
     "output_type": "error",
     "traceback": [
      "\u001b[1;31m---------------------------------------------------------------------------\u001b[0m",
      "\u001b[1;31mTypeError\u001b[0m                                 Traceback (most recent call last)",
      "\u001b[1;32mc:\\Users\\chetan\\Desktop\\Konverge.ai\\Python Practice\\udemy python-3\\Section 3 Dictionaries\\10 creating dict.ipynb Cell 3\u001b[0m in \u001b[0;36m<cell line: 1>\u001b[1;34m()\u001b[0m\n\u001b[1;32m----> <a href='vscode-notebook-cell:/c%3A/Users/chetan/Desktop/Konverge.ai/Python%20Practice/udemy%20python-3/Section%203%20Dictionaries/10%20creating%20dict.ipynb#W2sZmlsZQ%3D%3D?line=0'>1</a>\u001b[0m \u001b[39mhash\u001b[39;49m([\u001b[39m1\u001b[39;49m,\u001b[39m2\u001b[39;49m,\u001b[39m3\u001b[39;49m])\n",
      "\u001b[1;31mTypeError\u001b[0m: unhashable type: 'list'"
     ]
    }
   ],
   "source": [
    "hash([1,2,3])"
   ]
  },
  {
   "cell_type": "code",
   "execution_count": 8,
   "metadata": {},
   "outputs": [
    {
     "ename": "TypeError",
     "evalue": "unhashable type: 'set'",
     "output_type": "error",
     "traceback": [
      "\u001b[1;31m---------------------------------------------------------------------------\u001b[0m",
      "\u001b[1;31mTypeError\u001b[0m                                 Traceback (most recent call last)",
      "\u001b[1;32mc:\\Users\\chetan\\Desktop\\Konverge.ai\\Python Practice\\udemy python-3\\Section 3 Dictionaries\\10 creating dict.ipynb Cell 4\u001b[0m in \u001b[0;36m<cell line: 1>\u001b[1;34m()\u001b[0m\n\u001b[1;32m----> <a href='vscode-notebook-cell:/c%3A/Users/chetan/Desktop/Konverge.ai/Python%20Practice/udemy%20python-3/Section%203%20Dictionaries/10%20creating%20dict.ipynb#W3sZmlsZQ%3D%3D?line=0'>1</a>\u001b[0m \u001b[39mhash\u001b[39;49m({\u001b[39m1\u001b[39;49m,\u001b[39m2\u001b[39;49m,\u001b[39m3\u001b[39;49m})\n",
      "\u001b[1;31mTypeError\u001b[0m: unhashable type: 'set'"
     ]
    }
   ],
   "source": [
    "hash({1,2,3})"
   ]
  },
  {
   "cell_type": "code",
   "execution_count": 9,
   "metadata": {},
   "outputs": [
    {
     "data": {
      "text/plain": [
       "529344067295497451"
      ]
     },
     "execution_count": 9,
     "metadata": {},
     "output_type": "execute_result"
    }
   ],
   "source": [
    "hash((1,2,3))"
   ]
  },
  {
   "cell_type": "code",
   "execution_count": 10,
   "metadata": {},
   "outputs": [
    {
     "ename": "TypeError",
     "evalue": "unhashable type: 'list'",
     "output_type": "error",
     "traceback": [
      "\u001b[1;31m---------------------------------------------------------------------------\u001b[0m",
      "\u001b[1;31mTypeError\u001b[0m                                 Traceback (most recent call last)",
      "\u001b[1;32mc:\\Users\\chetan\\Desktop\\Konverge.ai\\Python Practice\\udemy python-3\\Section 3 Dictionaries\\10 creating dict.ipynb Cell 6\u001b[0m in \u001b[0;36m<cell line: 1>\u001b[1;34m()\u001b[0m\n\u001b[1;32m----> <a href='vscode-notebook-cell:/c%3A/Users/chetan/Desktop/Konverge.ai/Python%20Practice/udemy%20python-3/Section%203%20Dictionaries/10%20creating%20dict.ipynb#W5sZmlsZQ%3D%3D?line=0'>1</a>\u001b[0m \u001b[39mhash\u001b[39;49m(([\u001b[39m1\u001b[39;49m,\u001b[39m2\u001b[39;49m],[\u001b[39m3\u001b[39;49m,\u001b[39m4\u001b[39;49m]))\n",
      "\u001b[1;31mTypeError\u001b[0m: unhashable type: 'list'"
     ]
    }
   ],
   "source": [
    "hash(([1,2],[3,4]))"
   ]
  },
  {
   "cell_type": "code",
   "execution_count": 11,
   "metadata": {},
   "outputs": [
    {
     "data": {
      "text/plain": [
       "{(1, 2, 3): ['a', 'b', 'c'], 'k': [1, 2, 3]}"
      ]
     },
     "execution_count": 11,
     "metadata": {},
     "output_type": "execute_result"
    }
   ],
   "source": [
    "a={(1,2,3):['a','b','c'],'k':[1,2,3,]}\n",
    "a"
   ]
  },
  {
   "cell_type": "code",
   "execution_count": 12,
   "metadata": {},
   "outputs": [
    {
     "data": {
      "text/plain": [
       "151655315309"
      ]
     },
     "execution_count": 12,
     "metadata": {},
     "output_type": "execute_result"
    }
   ],
   "source": [
    "def fun():\n",
    "    pass\n",
    "\n",
    "hash(fun)"
   ]
  },
  {
   "cell_type": "code",
   "execution_count": 13,
   "metadata": {},
   "outputs": [
    {
     "data": {
      "text/plain": [
       "{<function __main__.fun()>: [1, 2, 3]}"
      ]
     },
     "execution_count": 13,
     "metadata": {},
     "output_type": "execute_result"
    }
   ],
   "source": [
    "d={fun:[1,2,3]}\n",
    "d"
   ]
  },
  {
   "cell_type": "code",
   "execution_count": 14,
   "metadata": {},
   "outputs": [],
   "source": [
    "def fun_add(a,b):\n",
    "   return a+b\n",
    "\n",
    "def fun_mul(a,b):\n",
    "   return a*b"
   ]
  },
  {
   "cell_type": "code",
   "execution_count": 15,
   "metadata": {},
   "outputs": [],
   "source": [
    "funs={fun_add:[1,2],fun_mul:[2,3]}"
   ]
  },
  {
   "cell_type": "code",
   "execution_count": 20,
   "metadata": {},
   "outputs": [
    {
     "name": "stdout",
     "output_type": "stream",
     "text": [
      "3\n",
      "6\n"
     ]
    }
   ],
   "source": [
    "for i in funs :\n",
    "  \n",
    "    print (i(*funs[i]))\n",
    "\n",
    "\n",
    "    \n",
    "\n",
    "    "
   ]
  },
  {
   "cell_type": "code",
   "execution_count": 21,
   "metadata": {},
   "outputs": [
    {
     "data": {
      "text/plain": [
       "{'a': 100, 'b': 200}"
      ]
     },
     "execution_count": 21,
     "metadata": {},
     "output_type": "execute_result"
    }
   ],
   "source": [
    "d=dict(a=100,b=200)\n",
    "d"
   ]
  },
  {
   "cell_type": "code",
   "execution_count": 22,
   "metadata": {},
   "outputs": [
    {
     "data": {
      "text/plain": [
       "{0: 0, 1: 1, 2: 4, 3: 9, 4: 16}"
      ]
     },
     "execution_count": 22,
     "metadata": {},
     "output_type": "execute_result"
    }
   ],
   "source": [
    "d={ i : i**2 for i in range(5)}\n",
    "d"
   ]
  },
  {
   "cell_type": "code",
   "execution_count": 24,
   "metadata": {},
   "outputs": [
    {
     "data": {
      "text/plain": [
       "{0: 0, 1: 1, 2: 4, 3: 9, 4: 16}"
      ]
     },
     "execution_count": 24,
     "metadata": {},
     "output_type": "execute_result"
    }
   ],
   "source": [
    "d={}\n",
    "for i in range(5) :\n",
    "    d[i]=i**2\n",
    "\n",
    "    \n",
    "d"
   ]
  },
  {
   "cell_type": "code",
   "execution_count": 28,
   "metadata": {},
   "outputs": [
    {
     "data": {
      "text/plain": [
       "{'chetan': 2, 'rahul': 4}"
      ]
     },
     "execution_count": 28,
     "metadata": {},
     "output_type": "execute_result"
    }
   ],
   "source": [
    "d=dict([('chetan',2),('rahul',4)])\n",
    "d"
   ]
  },
  {
   "cell_type": "code",
   "execution_count": 32,
   "metadata": {},
   "outputs": [
    {
     "name": "stdout",
     "output_type": "stream",
     "text": [
      "2426486710784 2426486631424\n"
     ]
    }
   ],
   "source": [
    "from copy import *\n",
    "d={'chetan':1,'rahul':2}\n",
    "s=deepcopy(d)\n",
    "print(id(d),id(s))"
   ]
  },
  {
   "cell_type": "code",
   "execution_count": 34,
   "metadata": {},
   "outputs": [
    {
     "data": {
      "text/plain": [
       "{1: 'NA', 2: 'NA', 3: 'NA'}"
      ]
     },
     "execution_count": 34,
     "metadata": {},
     "output_type": "execute_result"
    }
   ],
   "source": [
    "d=dict.fromkeys([1,2,3],'NA')\n",
    "d"
   ]
  },
  {
   "cell_type": "code",
   "execution_count": 35,
   "metadata": {},
   "outputs": [
    {
     "data": {
      "text/plain": [
       "{1: ('chetan', 'rahul'),\n",
       " 2: ('chetan', 'rahul'),\n",
       " 3: ('chetan', 'rahul'),\n",
       " 4: ('chetan', 'rahul')}"
      ]
     },
     "execution_count": 35,
     "metadata": {},
     "output_type": "execute_result"
    }
   ],
   "source": [
    "d=dict.fromkeys([1,2,3,4],('chetan','rahul'))\n",
    "d"
   ]
  },
  {
   "cell_type": "code",
   "execution_count": 36,
   "metadata": {},
   "outputs": [
    {
     "name": "stdout",
     "output_type": "stream",
     "text": [
      "{1: 'chetan', 2: 'rahul', 3: 'samrit', 4: 'Tejas'}\n"
     ]
    }
   ],
   "source": [
    "keys=[1,2,3,4]\n",
    "Values=['chetan','rahul','samrit','Tejas']\n",
    "d={}\n",
    "for k,v in zip(keys,Values) :\n",
    "\n",
    "    d[k]=v\n",
    "\n",
    "\n",
    "print(d)\n",
    "\n"
   ]
  },
  {
   "cell_type": "code",
   "execution_count": 37,
   "metadata": {},
   "outputs": [
    {
     "name": "stdout",
     "output_type": "stream",
     "text": [
      "{1: 'NA', 2: 'NA', 3: 'NA', 4: 'NA', 5: 'NA'}\n"
     ]
    }
   ],
   "source": [
    "d=dict.fromkeys([1,2,3,4,5],'NA')\n",
    "print(d)"
   ]
  },
  {
   "cell_type": "code",
   "execution_count": 38,
   "metadata": {},
   "outputs": [
    {
     "data": {
      "text/plain": [
       "[(-2, -2),\n",
       " (-1, -2),\n",
       " (0, -2),\n",
       " (1, -2),\n",
       " (2, -2),\n",
       " (-2, -1),\n",
       " (-1, -1),\n",
       " (0, -1),\n",
       " (1, -1),\n",
       " (2, -1),\n",
       " (-2, 0),\n",
       " (-1, 0),\n",
       " (0, 0),\n",
       " (1, 0),\n",
       " (2, 0),\n",
       " (-2, 1),\n",
       " (-1, 1),\n",
       " (0, 1),\n",
       " (1, 1),\n",
       " (2, 1),\n",
       " (-2, 2),\n",
       " (-1, 2),\n",
       " (0, 2),\n",
       " (1, 2),\n",
       " (2, 2)]"
      ]
     },
     "execution_count": 38,
     "metadata": {},
     "output_type": "execute_result"
    }
   ],
   "source": [
    "x_cordinate=[-2,-1,0,1,2]\n",
    "y_cordinate=[-2,-1,0,1,2]\n",
    "\n",
    "grid=[ (i,j) for j in y_cordinate for i in x_cordinate]\n",
    "grid"
   ]
  },
  {
   "cell_type": "code",
   "execution_count": 39,
   "metadata": {},
   "outputs": [
    {
     "data": {
      "text/plain": [
       "[(-2, -2, 2.8284271247461903),\n",
       " (-1, -2, 2.23606797749979),\n",
       " (0, -2, 2.0),\n",
       " (1, -2, 2.23606797749979),\n",
       " (2, -2, 2.8284271247461903),\n",
       " (-2, -1, 2.23606797749979),\n",
       " (-1, -1, 1.4142135623730951),\n",
       " (0, -1, 1.0),\n",
       " (1, -1, 1.4142135623730951),\n",
       " (2, -1, 2.23606797749979),\n",
       " (-2, 0, 2.0),\n",
       " (-1, 0, 1.0),\n",
       " (0, 0, 0.0),\n",
       " (1, 0, 1.0),\n",
       " (2, 0, 2.0),\n",
       " (-2, 1, 2.23606797749979),\n",
       " (-1, 1, 1.4142135623730951),\n",
       " (0, 1, 1.0),\n",
       " (1, 1, 1.4142135623730951),\n",
       " (2, 1, 2.23606797749979),\n",
       " (-2, 2, 2.8284271247461903),\n",
       " (-1, 2, 2.23606797749979),\n",
       " (0, 2, 2.0),\n",
       " (1, 2, 2.23606797749979),\n",
       " (2, 2, 2.8284271247461903)]"
      ]
     },
     "execution_count": 39,
     "metadata": {},
     "output_type": "execute_result"
    }
   ],
   "source": [
    "from math import *\n",
    "grid_extended=[ (x,y,hypot(x,y)) for x ,y in grid]\n",
    "grid_extended"
   ]
  },
  {
   "cell_type": "code",
   "execution_count": 40,
   "metadata": {},
   "outputs": [
    {
     "data": {
      "text/plain": [
       "{(-2, -2): 2.8284271247461903,\n",
       " (-1, -2): 2.23606797749979,\n",
       " (0, -2): 2.0,\n",
       " (1, -2): 2.23606797749979,\n",
       " (2, -2): 2.8284271247461903,\n",
       " (-2, -1): 2.23606797749979,\n",
       " (-1, -1): 1.4142135623730951,\n",
       " (0, -1): 1.0,\n",
       " (1, -1): 1.4142135623730951,\n",
       " (2, -1): 2.23606797749979,\n",
       " (-2, 0): 2.0,\n",
       " (-1, 0): 1.0,\n",
       " (0, 0): 0.0,\n",
       " (1, 0): 1.0,\n",
       " (2, 0): 2.0,\n",
       " (-2, 1): 2.23606797749979,\n",
       " (-1, 1): 1.4142135623730951,\n",
       " (0, 1): 1.0,\n",
       " (1, 1): 1.4142135623730951,\n",
       " (2, 1): 2.23606797749979,\n",
       " (-2, 2): 2.8284271247461903,\n",
       " (-1, 2): 2.23606797749979,\n",
       " (0, 2): 2.0,\n",
       " (1, 2): 2.23606797749979,\n",
       " (2, 2): 2.8284271247461903}"
      ]
     },
     "execution_count": 40,
     "metadata": {},
     "output_type": "execute_result"
    }
   ],
   "source": [
    "grid_extended = { (x,y) : hypot(x,y)    for x ,y in grid}\n",
    "grid_extended"
   ]
  },
  {
   "cell_type": "code",
   "execution_count": 43,
   "metadata": {},
   "outputs": [
    {
     "data": {
      "text/plain": [
       "{1: 'chetan', 2: 'chetan', 3: 'chetan', 4: 'chetan'}"
      ]
     },
     "execution_count": 43,
     "metadata": {},
     "output_type": "execute_result"
    }
   ],
   "source": [
    "d=dict.fromkeys([1,2,3,4],'chetan')\n",
    "d"
   ]
  },
  {
   "cell_type": "code",
   "execution_count": 44,
   "metadata": {},
   "outputs": [
    {
     "data": {
      "text/plain": [
       "{'c': None, 'h': None, 'e': None, 't': None, 'a': None, 'n': None}"
      ]
     },
     "execution_count": 44,
     "metadata": {},
     "output_type": "execute_result"
    }
   ],
   "source": [
    "d=dict.fromkeys('chetan')\n",
    "d"
   ]
  },
  {
   "cell_type": "code",
   "execution_count": 51,
   "metadata": {},
   "outputs": [
    {
     "name": "stdout",
     "output_type": "stream",
     "text": [
      "{0: 0, 1: 1, 2: 4, 3: 9, 4: 16}\n"
     ]
    }
   ],
   "source": [
    "d={}\n",
    "\n",
    "for i in range(5) :\n",
    "    # d[i]=i**2\n",
    "     d.update({i:i**2})\n",
    "\n",
    "print(d)    "
   ]
  },
  {
   "cell_type": "code",
   "execution_count": 52,
   "metadata": {},
   "outputs": [
    {
     "name": "stdout",
     "output_type": "stream",
     "text": [
      "{1: 'chetan', 2: 'rahul', 3: 'samrit'}\n"
     ]
    }
   ],
   "source": [
    "d={1:'chetan',2:'rahul'}\n",
    "\n",
    "d.update({3:'samrit'})\n",
    "print(d)"
   ]
  },
  {
   "cell_type": "code",
   "execution_count": 55,
   "metadata": {},
   "outputs": [
    {
     "data": {
      "text/plain": [
       "{1: 2, 2: 2, 3: 2, 4: 1, 5: 1, 6: 1}"
      ]
     },
     "execution_count": 55,
     "metadata": {},
     "output_type": "execute_result"
    }
   ],
   "source": [
    "l=[1,2,3,4,5,6,1,2,3]\n",
    "d=dict.fromkeys(l,0)\n",
    "d\n",
    "for i in l :\n",
    "    d[i]+=1\n",
    "d    \n"
   ]
  }
 ],
 "metadata": {
  "kernelspec": {
   "display_name": "Python 3",
   "language": "python",
   "name": "python3"
  },
  "language_info": {
   "codemirror_mode": {
    "name": "ipython",
    "version": 3
   },
   "file_extension": ".py",
   "mimetype": "text/x-python",
   "name": "python",
   "nbconvert_exporter": "python",
   "pygments_lexer": "ipython3",
   "version": "3.10.4"
  },
  "orig_nbformat": 4
 },
 "nbformat": 4,
 "nbformat_minor": 2
}
