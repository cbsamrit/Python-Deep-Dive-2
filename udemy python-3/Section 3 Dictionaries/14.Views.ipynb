{
 "cells": [
  {
   "cell_type": "code",
   "execution_count": 2,
   "metadata": {},
   "outputs": [
    {
     "name": "stdout",
     "output_type": "stream",
     "text": [
      "{1, 2, 3, 4}\n",
      "{2, 3}\n",
      "{1}\n"
     ]
    }
   ],
   "source": [
    "d1={1,2,3}\n",
    "d2={2,3,4}\n",
    "\n",
    "print(d1 | d2)\n",
    "print(d1 & d2)\n",
    "print(d1 - d2)"
   ]
  },
  {
   "cell_type": "code",
   "execution_count": 3,
   "metadata": {},
   "outputs": [
    {
     "name": "stdout",
     "output_type": "stream",
     "text": [
      "a\n",
      "b\n",
      "c\n",
      "------------\n",
      "a\n",
      "b\n",
      "c\n",
      "------------\n",
      "1\n",
      "2\n",
      "3\n",
      "------------\n"
     ]
    }
   ],
   "source": [
    "d=dict(a=1,b=2,c=3)\n",
    "\n",
    "for i in d:\n",
    "    print(i)\n",
    "print('------------')\n",
    "for i in d.keys() :\n",
    "    print(i)\n",
    "print('------------')\n",
    "for i in d.values():\n",
    "    print(i)\n",
    "print('------------')\n",
    "\n"
   ]
  },
  {
   "cell_type": "code",
   "execution_count": 4,
   "metadata": {},
   "outputs": [
    {
     "name": "stdout",
     "output_type": "stream",
     "text": [
      "a 1\n",
      "b 2\n",
      "c 3\n"
     ]
    }
   ],
   "source": [
    "for k,v in d.items():\n",
    "    print(k,v)\n",
    "    "
   ]
  },
  {
   "cell_type": "code",
   "execution_count": 14,
   "metadata": {},
   "outputs": [
    {
     "name": "stdout",
     "output_type": "stream",
     "text": [
      "{'a': 10, 'b': 2, 'c': 30, 'd': 4}\n",
      "{'c': 30, 'b': 2}\n"
     ]
    }
   ],
   "source": [
    "d1 = {'a':10, 'b': 2, 'c': 3}\n",
    "d2 = {'b': 2, 'c': 30, 'd': 4}\n",
    "\n",
    "\n",
    "d={}\n",
    "for i in d1.keys() & d2.keys() :\n",
    "    \n",
    "\n",
    "    d[i]=(d2[i])\n",
    "\n",
    "print(d)"
   ]
  },
  {
   "cell_type": "code",
   "execution_count": 10,
   "metadata": {},
   "outputs": [],
   "source": [
    "d1 = {'a': 1, 'b': 2, 'c': 3, 'd': 4}\n",
    "d2 = {'a': 10, 'b': 20, 'c': 30, 'e': 5}"
   ]
  },
  {
   "cell_type": "code",
   "execution_count": 13,
   "metadata": {},
   "outputs": [
    {
     "name": "stdout",
     "output_type": "stream",
     "text": [
      "{'e': 5, 'd': 4}\n"
     ]
    }
   ],
   "source": [
    "d3= d1.keys() & d2.keys()\n",
    "d4= d1.keys() | d2.keys() \n",
    "d=d4-d3\n",
    "r={}\n",
    "for i in d :\n",
    "    \n",
    "    if i in d1 :\n",
    "        r[i]=d1[i]\n",
    "    else :\n",
    "        r[i]=d2[i] \n",
    "\n",
    "\n",
    "print(r)            "
   ]
  }
 ],
 "metadata": {
  "kernelspec": {
   "display_name": "Python 3",
   "language": "python",
   "name": "python3"
  },
  "language_info": {
   "codemirror_mode": {
    "name": "ipython",
    "version": 3
   },
   "file_extension": ".py",
   "mimetype": "text/x-python",
   "name": "python",
   "nbconvert_exporter": "python",
   "pygments_lexer": "ipython3",
   "version": "3.10.4"
  },
  "orig_nbformat": 4
 },
 "nbformat": 4,
 "nbformat_minor": 2
}
