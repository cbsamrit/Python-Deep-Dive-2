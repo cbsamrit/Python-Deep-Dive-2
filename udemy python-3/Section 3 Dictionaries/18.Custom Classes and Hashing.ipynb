{
 "cells": [
  {
   "cell_type": "code",
   "execution_count": 16,
   "metadata": {},
   "outputs": [],
   "source": [
    "class emp :\n",
    "    def __init__(self,n) :\n",
    "        self.name=n\n",
    "\n",
    "    def __eq__(self, other) :\n",
    "\n",
    "        if isinstance(other,emp):\n",
    "            return self.name==other.name\n",
    "        \n",
    "    def __hash__(self) :\n",
    "        return hash(self.name)    \n",
    "            "
   ]
  },
  {
   "cell_type": "code",
   "execution_count": 17,
   "metadata": {},
   "outputs": [
    {
     "name": "stdout",
     "output_type": "stream",
     "text": [
      "1643752121360 1643769879072 True\n",
      "23 23\n",
      "300 300\n"
     ]
    }
   ],
   "source": [
    "o1=emp(23)\n",
    "o2=emp(23)\n",
    "print(id(o1),id(o2),o1==o2)\n",
    "print(hash(o1),hash(o2))\n",
    "d={o1:300}\n",
    "print(d[o1],d[o2])"
   ]
  },
  {
   "cell_type": "code",
   "execution_count": null,
   "metadata": {},
   "outputs": [],
   "source": []
  }
 ],
 "metadata": {
  "kernelspec": {
   "display_name": "Python 3",
   "language": "python",
   "name": "python3"
  },
  "language_info": {
   "codemirror_mode": {
    "name": "ipython",
    "version": 3
   },
   "file_extension": ".py",
   "mimetype": "text/x-python",
   "name": "python",
   "nbconvert_exporter": "python",
   "pygments_lexer": "ipython3",
   "version": "3.10.4"
  },
  "orig_nbformat": 4
 },
 "nbformat": 4,
 "nbformat_minor": 2
}
