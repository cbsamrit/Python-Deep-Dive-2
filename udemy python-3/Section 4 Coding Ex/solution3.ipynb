{
 "cells": [
  {
   "cell_type": "code",
   "execution_count": 4,
   "metadata": {},
   "outputs": [
    {
     "name": "stdout",
     "output_type": "stream",
     "text": [
      "{'python': 16, 'java': 13, 'c#': 12, 'javascript': 15, 'c++': 10, 'go': 9}\n",
      "{'python': 17, 'java': 13, 'c#': 12, 'javascript': 15, 'c++': 10, 'go': 9, 'erlang': 5, 'haskell': 2, 'pascal': 1}\n"
     ]
    }
   ],
   "source": [
    "d1 = {'python': 10, 'java': 3, 'c#': 8, 'javascript': 15}\n",
    "d2 = {'java': 10, 'c++': 10, 'c#': 4, 'go': 9, 'python': 6}\n",
    "d3 = {'erlang': 5, 'haskell': 2, 'python': 1, 'pascal': 1}\n",
    "\n",
    "for i in d1 :\n",
    "    if i in d2 :\n",
    "        d1[i]=d1[i]+d2[i]\n",
    "for i in d2 :\n",
    "    if i not in d1 :\n",
    "        d1[i]=d2[i]\n",
    "\n",
    "print(d1)   \n",
    "\n",
    "for i in d1 :\n",
    "    if i in d3:\n",
    "        d1[i]=d1[i]+d3[i]\n",
    "\n",
    "for i in d3 :\n",
    "    if i not in d1:\n",
    "        d1[i]=d3[i]\n",
    "\n",
    "print(d1)        \n",
    "     \n",
    "    \n"
   ]
  }
 ],
 "metadata": {
  "kernelspec": {
   "display_name": "Python 3",
   "language": "python",
   "name": "python3"
  },
  "language_info": {
   "codemirror_mode": {
    "name": "ipython",
    "version": 3
   },
   "file_extension": ".py",
   "mimetype": "text/x-python",
   "name": "python",
   "nbconvert_exporter": "python",
   "pygments_lexer": "ipython3",
   "version": "3.10.4"
  },
  "orig_nbformat": 4
 },
 "nbformat": 4,
 "nbformat_minor": 2
}
