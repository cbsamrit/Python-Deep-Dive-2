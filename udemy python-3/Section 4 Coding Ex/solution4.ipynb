{
 "cells": [
  {
   "cell_type": "code",
   "execution_count": 9,
   "metadata": {},
   "outputs": [
    {
     "name": "stdout",
     "output_type": "stream",
     "text": [
      "{'employee': (5000, 0, 0), 'user': (100, 230, 0), 'login': (0, 0, 1000)}\n"
     ]
    }
   ],
   "source": [
    "from itertools import *\n",
    "n1 = {'employees': 100, 'employee': 5000, 'users': 10, 'user': 100}\n",
    "n2 = {'employees': 250, 'users': 23, 'user': 230}\n",
    "n3 = {'employees': 150, 'users': 4, 'login': 1000}\n",
    "\n",
    "l=list(n1.keys())+list(n2.keys())+list(n3.keys())\n",
    "d=dict.fromkeys(l,0)\n",
    "\n",
    "for i in l :\n",
    "    d[i]=d[i]+1\n",
    "    \n",
    "d=[i for i in d if d[i]!=3] \n",
    "\n",
    "d={ i : (n1.get(i,0),n2.get(i,0),n3.get(i,0)) for i in d}\n",
    "print(d)"
   ]
  }
 ],
 "metadata": {
  "kernelspec": {
   "display_name": "Python 3",
   "language": "python",
   "name": "python3"
  },
  "language_info": {
   "codemirror_mode": {
    "name": "ipython",
    "version": 3
   },
   "file_extension": ".py",
   "mimetype": "text/x-python",
   "name": "python",
   "nbconvert_exporter": "python",
   "pygments_lexer": "ipython3",
   "version": "3.10.4"
  },
  "orig_nbformat": 4
 },
 "nbformat": 4,
 "nbformat_minor": 2
}
