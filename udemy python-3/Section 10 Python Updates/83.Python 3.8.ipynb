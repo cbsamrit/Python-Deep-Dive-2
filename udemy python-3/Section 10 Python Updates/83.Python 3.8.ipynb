{
 "cells": [
  {
   "cell_type": "code",
   "execution_count": 2,
   "metadata": {},
   "outputs": [],
   "source": [
    "from datetime import datetime\n",
    "from math import pi"
   ]
  },
  {
   "cell_type": "code",
   "execution_count": 4,
   "metadata": {},
   "outputs": [
    {
     "name": "stdout",
     "output_type": "stream",
     "text": [
      "34,d=34\n"
     ]
    }
   ],
   "source": [
    "d=34\n",
    "print(f'{d},{d=}')"
   ]
  },
  {
   "cell_type": "code",
   "execution_count": 5,
   "metadata": {},
   "outputs": [
    {
     "name": "stdout",
     "output_type": "stream",
     "text": [
      "d=datetime.datetime(2023, 3, 22, 21, 0, 47, 248087),p=3.141592653589793\n"
     ]
    }
   ],
   "source": [
    "d=datetime.utcnow()\n",
    "p=pi\n",
    "print(f'{d=},{p=}')"
   ]
  },
  {
   "cell_type": "code",
   "execution_count": 16,
   "metadata": {},
   "outputs": [
    {
     "name": "stdout",
     "output_type": "stream",
     "text": [
      "d=datetime.datetime(2023, 3, 22, 21, 0, 47, 248087),d=.3f\n"
     ]
    }
   ],
   "source": [
    "print(f'{d=},{d=:.3f}')"
   ]
  },
  {
   "cell_type": "code",
   "execution_count": 14,
   "metadata": {},
   "outputs": [
    {
     "name": "stdout",
     "output_type": "stream",
     "text": [
      "d=2023-03-22-21-00-47,p=3.141592653589793\n"
     ]
    }
   ],
   "source": [
    "print(f'{d=:%Y-%m-%d-%H-%M-%S},{p=}')"
   ]
  },
  {
   "cell_type": "code",
   "execution_count": null,
   "metadata": {},
   "outputs": [],
   "source": [
    "from collections import namedtuple\n",
    "\n"
   ]
  }
 ],
 "metadata": {
  "kernelspec": {
   "display_name": "Python 3",
   "language": "python",
   "name": "python3"
  },
  "language_info": {
   "codemirror_mode": {
    "name": "ipython",
    "version": 3
   },
   "file_extension": ".py",
   "mimetype": "text/x-python",
   "name": "python",
   "nbconvert_exporter": "python",
   "pygments_lexer": "ipython3",
   "version": "3.10.4"
  },
  "orig_nbformat": 4
 },
 "nbformat": 4,
 "nbformat_minor": 2
}
