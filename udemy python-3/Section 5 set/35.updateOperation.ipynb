{
 "cells": [
  {
   "cell_type": "code",
   "execution_count": 1,
   "metadata": {},
   "outputs": [
    {
     "name": "stdout",
     "output_type": "stream",
     "text": [
      "1851837753920 1851837753248\n",
      "{1, 2, 3, 4, 10} {3, 10, 2}\n",
      "1851837754144 1851837753248\n"
     ]
    }
   ],
   "source": [
    "s1={1,2,3,4}\n",
    "s2={2,3,10}\n",
    "print(id(s1),id(s2))\n",
    "s1=s1 | s2\n",
    "print(s1,s2)\n",
    "print(id(s1),id(s2))"
   ]
  },
  {
   "cell_type": "code",
   "execution_count": 2,
   "metadata": {},
   "outputs": [
    {
     "name": "stdout",
     "output_type": "stream",
     "text": [
      "1851837753472 1851837754592\n",
      "{1, 2, 3, 4, 10} {3, 10, 2}\n",
      "1851837753472 1851837754592\n"
     ]
    }
   ],
   "source": [
    "s1={1,2,3,4}\n",
    "s2={2,3,10}\n",
    "print(id(s1),id(s2))\n",
    "s1|=s2\n",
    "print(s1,s2)\n",
    "print(id(s1),id(s2))"
   ]
  },
  {
   "cell_type": "code",
   "execution_count": 3,
   "metadata": {},
   "outputs": [
    {
     "name": "stdout",
     "output_type": "stream",
     "text": [
      "1851837754368 1851837753696\n",
      "{1, 2, 3, 4, 10} {3, 10, 2}\n",
      "1851837754368 1851837753696\n"
     ]
    }
   ],
   "source": [
    "s1={1,2,3,4}\n",
    "s2={2,3,10}\n",
    "print(id(s1),id(s2))\n",
    "s1.update(s2)\n",
    "print(s1,s2)\n",
    "print(id(s1),id(s2))"
   ]
  },
  {
   "cell_type": "code",
   "execution_count": 4,
   "metadata": {},
   "outputs": [
    {
     "name": "stdout",
     "output_type": "stream",
     "text": [
      "1851837755264 1851837753472\n",
      "{1, 2, 3, 4} {3, 10, 2}\n",
      "1851837755264 1851837753472\n"
     ]
    }
   ],
   "source": [
    "s1={1,2,3,4}\n",
    "s2={2,3,10}\n",
    "print(id(s1),id(s2))\n",
    "s1.union(s2)\n",
    "print(s1,s2)\n",
    "print(id(s1),id(s2))"
   ]
  },
  {
   "cell_type": "code",
   "execution_count": 6,
   "metadata": {},
   "outputs": [
    {
     "name": "stdout",
     "output_type": "stream",
     "text": [
      "1851837753024 1851837751904\n",
      "{2, 3} {3, 10, 2}\n",
      "1851837753696 1851837751904\n"
     ]
    }
   ],
   "source": [
    "s1={1,2,3,4}\n",
    "s2={2,3,10}\n",
    "print(id(s1),id(s2))\n",
    "s1=s1 & s2\n",
    "print(s1,s2)\n",
    "print(id(s1),id(s2))"
   ]
  },
  {
   "cell_type": "code",
   "execution_count": 7,
   "metadata": {},
   "outputs": [
    {
     "name": "stdout",
     "output_type": "stream",
     "text": [
      "1851837754592 1851837753024\n",
      "{1, 2, 3, 4} {3, 10, 2}\n",
      "1851837754592 1851837753024\n"
     ]
    }
   ],
   "source": [
    "s1={1,2,3,4}\n",
    "s2={2,3,10}\n",
    "print(id(s1),id(s2))\n",
    "s1.intersection(s2)\n",
    "print(s1,s2)\n",
    "print(id(s1),id(s2))"
   ]
  },
  {
   "cell_type": "code",
   "execution_count": 8,
   "metadata": {},
   "outputs": [
    {
     "name": "stdout",
     "output_type": "stream",
     "text": [
      "1851837751904 1851837753248\n",
      "{2, 3} {3, 10, 2}\n",
      "1851837751904 1851837753248\n"
     ]
    }
   ],
   "source": [
    "s1={1,2,3,4}\n",
    "s2={2,3,10}\n",
    "print(id(s1),id(s2))\n",
    "s1&=s2\n",
    "print(s1,s2)\n",
    "print(id(s1),id(s2))"
   ]
  },
  {
   "cell_type": "code",
   "execution_count": 9,
   "metadata": {},
   "outputs": [
    {
     "name": "stdout",
     "output_type": "stream",
     "text": [
      "1851837754592 1851837754368\n",
      "{1, 2, 3, 4} {3, 10, 2}\n",
      "1851837754592 1851837754368\n"
     ]
    }
   ],
   "source": [
    "s1={1,2,3,4}\n",
    "s2={2,3,10}\n",
    "print(id(s1),id(s2))\n",
    "s1.difference(s2)\n",
    "print(s1,s2)\n",
    "print(id(s1),id(s2))"
   ]
  },
  {
   "cell_type": "code",
   "execution_count": 10,
   "metadata": {},
   "outputs": [
    {
     "name": "stdout",
     "output_type": "stream",
     "text": [
      "1851837755488 1851837751904\n",
      "{1, 2, 3, 4} {3, 10, 2}\n",
      "1851837755488 1851837751904\n"
     ]
    }
   ],
   "source": [
    "s1={1,2,3,4}\n",
    "s2={2,3,10}\n",
    "print(id(s1),id(s2))\n",
    "s1.symmetric_difference(s2)\n",
    "print(s1,s2)\n",
    "print(id(s1),id(s2))"
   ]
  },
  {
   "cell_type": "code",
   "execution_count": 11,
   "metadata": {},
   "outputs": [
    {
     "name": "stdout",
     "output_type": "stream",
     "text": [
      "1851837753920 1851837753472\n",
      "{1, 10, 4} {3, 10, 2}\n",
      "1851837753920 1851837753472\n"
     ]
    }
   ],
   "source": [
    "s1={1,2,3,4}\n",
    "s2={2,3,10}\n",
    "print(id(s1),id(s2))\n",
    "s1^=s2\n",
    "print(s1,s2)\n",
    "print(id(s1),id(s2))"
   ]
  },
  {
   "cell_type": "code",
   "execution_count": 12,
   "metadata": {},
   "outputs": [
    {
     "name": "stdout",
     "output_type": "stream",
     "text": [
      "{'p', 1, 2, 3, 'y', 5, 6, 7, 't'}\n"
     ]
    }
   ],
   "source": [
    "s1={1,2,3}\n",
    "s1.update([5,6,7],'pyt')\n",
    "print(s1)"
   ]
  },
  {
   "cell_type": "code",
   "execution_count": 14,
   "metadata": {},
   "outputs": [
    {
     "name": "stdout",
     "output_type": "stream",
     "text": [
      "{'morning', 'of', 'the', 'chetan', 'tea'}\n"
     ]
    }
   ],
   "source": [
    "def combine(s,k):\n",
    "    k.update(s.split(' '))\n",
    "\n",
    "def clean(k):\n",
    "    l=['the','morning','tea']\n",
    "    k.update(l)\n",
    "    \n",
    "\n",
    "s=set()\n",
    "\n",
    "combine('the tea of chetan',s)\n",
    "clean(s)\n",
    "print(s)\n"
   ]
  }
 ],
 "metadata": {
  "kernelspec": {
   "display_name": "Python 3",
   "language": "python",
   "name": "python3"
  },
  "language_info": {
   "codemirror_mode": {
    "name": "ipython",
    "version": 3
   },
   "file_extension": ".py",
   "mimetype": "text/x-python",
   "name": "python",
   "nbconvert_exporter": "python",
   "pygments_lexer": "ipython3",
   "version": "3.10.4"
  },
  "orig_nbformat": 4
 },
 "nbformat": 4,
 "nbformat_minor": 2
}
