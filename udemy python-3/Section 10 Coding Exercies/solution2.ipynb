{
 "cells": [
  {
   "cell_type": "code",
   "execution_count": 30,
   "metadata": {},
   "outputs": [],
   "source": [
    "import random\n",
    "eye_colors = (\"amber\", \"blue\", \"brown\", \"gray\", \"green\", \"hazel\", \"red\", \"violet\")\n",
    "\n",
    "class color :\n",
    "\n",
    "    def __init__(self,eye_color):\n",
    "        self.eye_colors=eye_color   \n",
    "\n",
    "color=[color(c) for c in random.choices(eye_colors,k=50)]\n",
    "\n",
    "l=[i.eye_colors for i in color]\n"
   ]
  },
  {
   "cell_type": "code",
   "execution_count": 31,
   "metadata": {},
   "outputs": [
    {
     "data": {
      "text/plain": [
       "Counter({'green': 6,\n",
       "         'red': 7,\n",
       "         'amber': 6,\n",
       "         'hazel': 8,\n",
       "         'brown': 5,\n",
       "         'gray': 5,\n",
       "         'violet': 7,\n",
       "         'blue': 6})"
      ]
     },
     "execution_count": 31,
     "metadata": {},
     "output_type": "execute_result"
    }
   ],
   "source": [
    "from collections import *\n",
    "c=Counter(l)\n",
    "c"
   ]
  }
 ],
 "metadata": {
  "kernelspec": {
   "display_name": "Python 3",
   "language": "python",
   "name": "python3"
  },
  "language_info": {
   "codemirror_mode": {
    "name": "ipython",
    "version": 3
   },
   "file_extension": ".py",
   "mimetype": "text/x-python",
   "name": "python",
   "nbconvert_exporter": "python",
   "pygments_lexer": "ipython3",
   "version": "3.10.4"
  },
  "orig_nbformat": 4
 },
 "nbformat": 4,
 "nbformat_minor": 2
}
